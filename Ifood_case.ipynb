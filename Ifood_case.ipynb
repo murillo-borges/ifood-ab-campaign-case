{
  "cells": [
    {
      "cell_type": "markdown",
      "metadata": {
        "id": "view-in-github",
        "colab_type": "text"
      },
      "source": [
        "<a href=\"https://colab.research.google.com/github/murillo-borges/ifood-ab-campaign-case/blob/main/Ifood_case.ipynb\" target=\"_parent\"><img src=\"https://colab.research.google.com/assets/colab-badge.svg\" alt=\"Open In Colab\"/></a>"
      ]
    },
    {
      "cell_type": "markdown",
      "metadata": {
        "id": "TFN2NnqYmCdy"
      },
      "source": [
        "## Preparação do ambiente e ETL"
      ]
    },
    {
      "cell_type": "markdown",
      "metadata": {
        "id": "TAPEK33LgNwq"
      },
      "source": [
        "### Database Pedidos"
      ]
    },
    {
      "cell_type": "code",
      "execution_count": 102,
      "metadata": {
        "colab": {
          "base_uri": "https://localhost:8080/"
        },
        "id": "Bh7E-EBFhrMs",
        "outputId": "6bb8f7e8-85ca-4d5f-cc1c-0272d7c53fdb"
      },
      "outputs": [
        {
          "output_type": "stream",
          "name": "stdout",
          "text": [
            "⚙️ Instalando Java e PySpark...\n",
            "Reading package lists... Done\n",
            "Building dependency tree... Done\n",
            "Reading state information... Done\n",
            "openjdk-11-jdk is already the newest version (11.0.27+6~us1-0ubuntu1~22.04).\n",
            "0 upgraded, 0 newly installed, 0 to remove and 35 not upgraded.\n",
            "Requirement already satisfied: pyspark in /usr/local/lib/python3.11/dist-packages (3.5.1)\n",
            "Requirement already satisfied: py4j==0.10.9.7 in /usr/local/lib/python3.11/dist-packages (from pyspark) (0.10.9.7)\n",
            "✅ Ambiente configurado!\n",
            "\n",
            "🚀 Iniciando sessão Spark...\n",
            "✅ SparkSession criada!\n",
            "\n",
            "📥 Baixando o arquivo order.json.gz...\n",
            "✅ Download concluído!\n",
            "\n",
            "📊 Lendo arquivo JSON com PySpark...\n",
            "✅ Dados carregados!\n",
            "\n",
            "🔍 Primeiras linhas do DataFrame:\n",
            "+-----------+----------------------------------------------------------------+-------------+---------------------+------------------------+-------------------------+----------------------------+-------------------------+--------------------------+----------------------+-------------------------+----------------------------------------------------------------------------------------------------------------------------------------------------------------------------------------------------------------------------------------------------------------------------------------------------------------------------------------------------------------------------------------------------------------------------------------------------------------------------------------------------------------------------------------------------------------------------------------------------------------------------------------------------------------------------------------------------------------------------------------------------------------------------------------------------------------------------------------------------------------------------------------------------------------------------------------------------------------------------------------------------------------------------------------------------------------------------------------------------------------------------------------------------------------------------------------------------------------------------------------------------------------------------------------------------------------------------------------------------------------------------------------------------------------------------------------------------------------------------------------------------------------------------------------------------------------------------------------------------------------------------------------------------------------------------------------------------------------------------------------------------------------------------------------------------------------------------------------------------------------------------------------------------------------------------------------------------------------------------------------------------------------------------------------------------------------------------------------------------------------------------------------------------------------------------------------------------------------------------------------------------------------------------------------------------------------------------------------------------------------------------------------------------------------------------------------------------------------------------------------------------------------------------------------------------------------------------------------------------------------------------+----------------------------------------------------------------+-----------------+------------------+-----------------+------------------------+----------------------------------------------------------------+---------------+--------------------+------------------+---------------+\n",
            "|cpf        |customer_id                                                     |customer_name|delivery_address_city|delivery_address_country|delivery_address_district|delivery_address_external_id|delivery_address_latitude|delivery_address_longitude|delivery_address_state|delivery_address_zip_code|items                                                                                                                                                                                                                                                                                                                                                                                                                                                                                                                                                                                                                                                                                                                                                                                                                                                                                                                                                                                                                                                                                                                                                                                                                                                                                                                                                                                                                                                                                                                                                                                                                                                                                                                                                                                                                                                                                                                                                                                                                                                                                                                                                                                                                                                                                                                                                                                                                                                                                                                                                                                                                       |merchant_id                                                     |merchant_latitude|merchant_longitude|merchant_timezone|order_created_at        |order_id                                                        |order_scheduled|order_scheduled_date|order_total_amount|origin_platform|\n",
            "+-----------+----------------------------------------------------------------+-------------+---------------------+------------------------+-------------------------+----------------------------+-------------------------+--------------------------+----------------------+-------------------------+----------------------------------------------------------------------------------------------------------------------------------------------------------------------------------------------------------------------------------------------------------------------------------------------------------------------------------------------------------------------------------------------------------------------------------------------------------------------------------------------------------------------------------------------------------------------------------------------------------------------------------------------------------------------------------------------------------------------------------------------------------------------------------------------------------------------------------------------------------------------------------------------------------------------------------------------------------------------------------------------------------------------------------------------------------------------------------------------------------------------------------------------------------------------------------------------------------------------------------------------------------------------------------------------------------------------------------------------------------------------------------------------------------------------------------------------------------------------------------------------------------------------------------------------------------------------------------------------------------------------------------------------------------------------------------------------------------------------------------------------------------------------------------------------------------------------------------------------------------------------------------------------------------------------------------------------------------------------------------------------------------------------------------------------------------------------------------------------------------------------------------------------------------------------------------------------------------------------------------------------------------------------------------------------------------------------------------------------------------------------------------------------------------------------------------------------------------------------------------------------------------------------------------------------------------------------------------------------------------------------------+----------------------------------------------------------------+-----------------+------------------+-----------------+------------------------+----------------------------------------------------------------+---------------+--------------------+------------------+---------------+\n",
            "|80532101763|7ba88a68bb2a3504c6bd37a707af57a0b8d6e110a551c719c9e7f71aaf3a99cf|GUSTAVO      |FRANCA               |BR                      |JARDIM ESPRAIADO         |6736655                     |-47.39                   |-20.55                    |SP                    |14403                    |[{\"name\": \"Parmegiana de Filé de Frango (2 pessoas)\", \"addition\": {\"value\": \"0\", \"currency\": \"BRL\"}, \"discount\": {\"value\": \"0\", \"currency\": \"BRL\"}, \"quantity\": 1.00, \"sequence\": 1, \"unitPrice\": {\"value\": \"2800\", \"currency\": \"BRL\"}, \"externalId\": \"0bcd6764fd5e466d9c04b18ac0eb69e6\", \"totalValue\": {\"value\": \"2800\", \"currency\": \"BRL\"}, \"customerNote\": null, \"garnishItems\": [{\"name\": \"COM Arroz branco\", \"addition\": {\"value\": \"0\", \"currency\": \"BRL\"}, \"discount\": {\"value\": \"0\", \"currency\": \"BRL\"}, \"quantity\": 1.00, \"sequence\": 2, \"unitPrice\": {\"value\": \"0\", \"currency\": \"BRL\"}, \"categoryId\": \"13HDH\", \"externalId\": \"384bd2b4eb7d454d8e0274e7d590ab4f\", \"totalValue\": {\"value\": \"0\", \"currency\": \"BRL\"}, \"categoryName\": \"PERSONALIZAR\", \"integrationId\": null}], \"integrationId\": \"PMFR\", \"totalAddition\": {\"value\": \"0\", \"currency\": \"BRL\"}, \"totalDiscount\": {\"value\": \"0\", \"currency\": \"BRL\"}}, {\"name\": \"Lasanha Frango (2 pessoas)\", \"addition\": {\"value\": \"0\", \"currency\": \"BRL\"}, \"discount\": {\"value\": \"0\", \"currency\": \"BRL\"}, \"quantity\": 1.00, \"sequence\": 3, \"unitPrice\": {\"value\": \"1800\", \"currency\": \"BRL\"}, \"externalId\": \"a361f5eec6a44ac0817892e81bf22e80\", \"totalValue\": {\"value\": \"1800\", \"currency\": \"BRL\"}, \"customerNote\": null, \"garnishItems\": [], \"integrationId\": \"LF\", \"totalAddition\": {\"value\": \"0\", \"currency\": \"BRL\"}, \"totalDiscount\": {\"value\": \"0\", \"currency\": \"BRL\"}}]                                                                                                                                                                                                                                                                                                                                                                                                                                                                                                                                                                                                                                                                                                                                                                                                                                                                                                                                                                                                                                                                                                                                                                                              |a992a079a651e699d9149423761df2427c0e3af0a2a1b5bb6d2bad1cb3a3a265|-47.39           |-20.55            |America/Sao_Paulo|2019-01-17T22:50:06.000Z|33e0612d62e5eb42aba15b58413137e441fbe906de2febd6a6c721b0e5773b44|false          |NULL                |46.0              |ANDROID        |\n",
            "|43352103961|078acecdcf7fa89d356bfa349f14a8219db1ee161ce28ae4d9fee550c95d6fbd|MICHELLE     |SANTOS               |BR                      |CAMPO GRANDE             |8759216                     |-46.34                   |-23.96                    |SP                    |11070                    |[{\"name\": \"Filé Mignon à Cubana\", \"addition\": {\"value\": \"0\", \"currency\": \"BRL\"}, \"discount\": {\"value\": \"0\", \"currency\": \"BRL\"}, \"quantity\": 1.00, \"sequence\": 1, \"unitPrice\": {\"value\": \"0\", \"currency\": \"BRL\"}, \"externalId\": \"e0e81b2027c241cca5bf60a4768800ec\", \"totalValue\": {\"value\": \"0\", \"currency\": \"BRL\"}, \"customerNote\": null, \"garnishItems\": [{\"name\": \"334 - 1/2 porção \", \"addition\": {\"value\": \"0\", \"currency\": \"BRL\"}, \"discount\": {\"value\": \"0\", \"currency\": \"BRL\"}, \"quantity\": 1.00, \"sequence\": 2, \"unitPrice\": {\"value\": \"7350\", \"currency\": \"BRL\"}, \"categoryId\": \"1J3T0\", \"externalId\": \"b869c10747d1417d8968d7e3e1bd7de4\", \"totalValue\": {\"value\": \"7350\", \"currency\": \"BRL\"}, \"categoryName\": \"escolha sua porção \", \"integrationId\": null}], \"integrationId\": null, \"totalAddition\": {\"value\": \"0\", \"currency\": \"BRL\"}, \"totalDiscount\": {\"value\": \"0\", \"currency\": \"BRL\"}}, {\"name\": \"603- Pudim de leite\", \"addition\": {\"value\": \"0\", \"currency\": \"BRL\"}, \"discount\": {\"value\": \"0\", \"currency\": \"BRL\"}, \"quantity\": 1.00, \"sequence\": 4, \"unitPrice\": {\"value\": \"800\", \"currency\": \"BRL\"}, \"externalId\": \"4436f76edc164052aaf3c21a6567b570\", \"totalValue\": {\"value\": \"800\", \"currency\": \"BRL\"}, \"customerNote\": null, \"garnishItems\": [], \"integrationId\": null, \"totalAddition\": {\"value\": \"0\", \"currency\": \"BRL\"}, \"totalDiscount\": {\"value\": \"0\", \"currency\": \"BRL\"}}, {\"name\": \"601-Torta Holandesa\", \"addition\": {\"value\": \"0\", \"currency\": \"BRL\"}, \"discount\": {\"value\": \"0\", \"currency\": \"BRL\"}, \"quantity\": 1.00, \"sequence\": 5, \"unitPrice\": {\"value\": \"800\", \"currency\": \"BRL\"}, \"externalId\": \"c0b788e876c54f198307dc142fed7aff\", \"totalValue\": {\"value\": \"800\", \"currency\": \"BRL\"}, \"customerNote\": null, \"garnishItems\": [], \"integrationId\": null, \"totalAddition\": {\"value\": \"0\", \"currency\": \"BRL\"}, \"totalDiscount\": {\"value\": \"0\", \"currency\": \"BRL\"}}, {\"name\": \"513 - Guarnição Completa II\", \"addition\": {\"value\": \"0\", \"currency\": \"BRL\"}, \"discount\": {\"value\": \"0\", \"currency\": \"BRL\"}, \"quantity\": 1.00, \"sequence\": 3, \"unitPrice\": {\"value\": \"1500\", \"currency\": \"BRL\"}, \"externalId\": \"385fb04a358340878b14116df9970e46\", \"totalValue\": {\"value\": \"1500\", \"currency\": \"BRL\"}, \"customerNote\": null, \"garnishItems\": [], \"integrationId\": null, \"totalAddition\": {\"value\": \"0\", \"currency\": \"BRL\"}, \"totalDiscount\": {\"value\": \"0\", \"currency\": \"BRL\"}}]                                                                                                                                                                                                           |5152f28ee0518b8803ccf0a4096eb2ff8b81e9491861c9d1b673846ae027b8b0|-46.34           |-23.96            |America/Sao_Paulo|2019-01-17T17:51:26.000Z|148c4353a2952f3fe7973547283265eb22b575fb712ed2618a6cf2d813b987ad|false          |NULL                |104.5             |ANDROID        |\n",
            "|38650991217|0e38a3237b5946e8ab2367b4f1a3ae6e77f1e215bc760ca332153516c13b9c2e|VICTOR       |GUARULHOS            |BR                      |JARDIM ROSSI             |8765930                     |-46.53                   |-23.44                    |SP                    |71304                    |[{\"name\": \"GRANDE 2 SABORES\", \"addition\": {\"value\": \"0\", \"currency\": \"BRL\"}, \"discount\": {\"value\": \"0\", \"currency\": \"BRL\"}, \"quantity\": 1.00, \"sequence\": 1, \"unitPrice\": {\"value\": \"0\", \"currency\": \"BRL\"}, \"externalId\": \"87a24efdd88c4b7b8bf1132cabfd4195\", \"totalValue\": {\"value\": \"0\", \"currency\": \"BRL\"}, \"customerNote\": null, \"garnishItems\": [{\"name\": \"TRADICIONAL\", \"addition\": {\"value\": \"0\", \"currency\": \"BRL\"}, \"discount\": {\"value\": \"0\", \"currency\": \"BRL\"}, \"quantity\": 1.00, \"sequence\": 2, \"unitPrice\": {\"value\": \"0\", \"currency\": \"BRL\"}, \"categoryId\": \"0025\", \"externalId\": \"2b89a4d4d6f14541a8830e5808d1f09f\", \"totalValue\": {\"value\": \"0\", \"currency\": \"BRL\"}, \"categoryName\": \"Escolha a sua Preferência\", \"integrationId\": null}, {\"name\": \"1/2 21 - PIZZA FRANGO COM BACON E CATUPIRY \", \"addition\": {\"value\": \"0\", \"currency\": \"BRL\"}, \"discount\": {\"value\": \"0\", \"currency\": \"BRL\"}, \"quantity\": 1.00, \"sequence\": 3, \"unitPrice\": {\"value\": \"1750\", \"currency\": \"BRL\"}, \"categoryId\": \"SABOR\", \"externalId\": \"c7f63cc58a3643c7aa3f24858c7029f4\", \"totalValue\": {\"value\": \"1750\", \"currency\": \"BRL\"}, \"categoryName\": \"Escolha um sabor\", \"integrationId\": null}, {\"name\": \"1/2 21 - PIZZA FRANGO COM BACON E CATUPIRY \", \"addition\": {\"value\": \"0\", \"currency\": \"BRL\"}, \"discount\": {\"value\": \"0\", \"currency\": \"BRL\"}, \"quantity\": 1.00, \"sequence\": 3, \"unitPrice\": {\"value\": \"1750\", \"currency\": \"BRL\"}, \"categoryId\": \"SABOR2\", \"externalId\": \"c7f63cc58a3643c7aa3f24858c7029f4\", \"totalValue\": {\"value\": \"1750\", \"currency\": \"BRL\"}, \"categoryName\": \"Escolha o segundo sabor\", \"integrationId\": null}, {\"name\": \"1/2 29 - PIZZA À MODA DA CASA\", \"addition\": {\"value\": \"0\", \"currency\": \"BRL\"}, \"discount\": {\"value\": \"0\", \"currency\": \"BRL\"}, \"quantity\": 1.00, \"sequence\": 4, \"unitPrice\": {\"value\": \"1750\", \"currency\": \"BRL\"}, \"categoryId\": \"SABOR\", \"externalId\": \"0dcd4a195d6243ec806eb5a29682c797\", \"totalValue\": {\"value\": \"1750\", \"currency\": \"BRL\"}, \"categoryName\": \"Escolha um sabor\", \"integrationId\": null}, {\"name\": \"1/2 29 - PIZZA À MODA DA CASA\", \"addition\": {\"value\": \"0\", \"currency\": \"BRL\"}, \"discount\": {\"value\": \"0\", \"currency\": \"BRL\"}, \"quantity\": 1.00, \"sequence\": 4, \"unitPrice\": {\"value\": \"1750\", \"currency\": \"BRL\"}, \"categoryId\": \"SABOR2\", \"externalId\": \"0dcd4a195d6243ec806eb5a29682c797\", \"totalValue\": {\"value\": \"1750\", \"currency\": \"BRL\"}, \"categoryName\": \"Escolha o segundo sabor\", \"integrationId\": null}], \"integrationId\": null, \"totalAddition\": {\"value\": \"0\", \"currency\": \"BRL\"}, \"totalDiscount\": {\"value\": \"0\", \"currency\": \"BRL\"}}]|b6096419455c35d06105a5ef0d25c51f9dd40e1e99ac3353c133a9bae4e5ddad|-46.53           |-23.44            |America/Sao_Paulo|2019-01-17T22:53:47.000Z|c37e495a91b498bb7b70a9e09ac115d0cdd443f152dc112a5476745f84ca16cd|false          |NULL                |35.0              |IOS            |\n",
            "|63579726866|cab1a004b7206d07910092c515a79834fea0a03d7d905483121d8450003eb24c|ANNIE        |SAO PAULO            |BR                      |PARQUE SAO JORGE         |7834087                     |-46.57                   |-23.53                    |SP                    |30870                    |[{\"name\": \"CALABRESA\", \"addition\": {\"value\": \"0\", \"currency\": \"BRL\"}, \"discount\": {\"value\": \"0\", \"currency\": \"BRL\"}, \"quantity\": 1.00, \"sequence\": 1, \"unitPrice\": {\"value\": \"2040\", \"currency\": \"BRL\"}, \"externalId\": \"5b598957c69a4aa68e02a20e3ce617a1\", \"totalValue\": {\"value\": \"2040\", \"currency\": \"BRL\"}, \"customerNote\": null, \"garnishItems\": [], \"integrationId\": null, \"totalAddition\": {\"value\": \"0\", \"currency\": \"BRL\"}, \"totalDiscount\": {\"value\": \"0\", \"currency\": \"BRL\"}}, {\"name\": \"CHEESE SALADA\", \"addition\": {\"value\": \"0\", \"currency\": \"BRL\"}, \"discount\": {\"value\": \"0\", \"currency\": \"BRL\"}, \"quantity\": 1.00, \"sequence\": 2, \"unitPrice\": {\"value\": \"2040\", \"currency\": \"BRL\"}, \"externalId\": \"3a64b961d342467ea23792556c99f7c2\", \"totalValue\": {\"value\": \"2040\", \"currency\": \"BRL\"}, \"customerNote\": \"Sem tomate\", \"garnishItems\": [], \"integrationId\": null, \"totalAddition\": {\"value\": \"0\", \"currency\": \"BRL\"}, \"totalDiscount\": {\"value\": \"0\", \"currency\": \"BRL\"}}]                                                                                                                                                                                                                                                                                                                                                                                                                                                                                                                                                                                                                                                                                                                                                                                                                                                                                                                                                                                                                                                                                                                                                                                                                                                                                                                                                                                                                                                                                                                                                                                                                                |082bfdcdf6ccdc343e3c4d25ee376b5b6ca7e96ad8b04e66db1391f3fd0d34c9|-46.57           |-23.53            |America/Sao_Paulo|2019-01-17T23:56:53.000Z|b4df94142d21354611247da9ca94f870c09b93989b531afdcc251e06fc90af03|false          |NULL                |40.8              |IOS            |\n",
            "|90617788806|aa7edf5b166b8c843aec3b96dc561222888734f3879123e89e65521faff96e9a|DANIEL       |VITORIA              |BR                      |JARDIM CAMBURI           |7211683                     |-40.27                   |-20.25                    |ES                    |29090                    |[{\"name\": \"GRANDE (35CM) 8 PDÇ 2 SABORES\", \"addition\": {\"value\": \"0\", \"currency\": \"BRL\"}, \"discount\": {\"value\": \"0\", \"currency\": \"BRL\"}, \"quantity\": 1.00, \"sequence\": 1, \"unitPrice\": {\"value\": \"0\", \"currency\": \"BRL\"}, \"externalId\": \"83127d50665f4a269febd427eb49306b\", \"totalValue\": {\"value\": \"0\", \"currency\": \"BRL\"}, \"customerNote\": null, \"garnishItems\": [{\"name\": \"BORDA CATUPIRY GRÁTIS \", \"addition\": {\"value\": \"0\", \"currency\": \"BRL\"}, \"discount\": {\"value\": \"0\", \"currency\": \"BRL\"}, \"quantity\": 1.00, \"sequence\": 2, \"unitPrice\": {\"value\": \"0\", \"currency\": \"BRL\"}, \"categoryId\": \"0025\", \"externalId\": \"e9a71c078a6045eabb09bd4d38b991c6\", \"totalValue\": {\"value\": \"0\", \"currency\": \"BRL\"}, \"categoryName\": \"Escolha a sua Preferência\", \"integrationId\": null}, {\"name\": \"1/2 MISTA\", \"addition\": {\"value\": \"0\", \"currency\": \"BRL\"}, \"discount\": {\"value\": \"0\", \"currency\": \"BRL\"}, \"quantity\": 1.00, \"sequence\": 3, \"unitPrice\": {\"value\": \"2425\", \"currency\": \"BRL\"}, \"categoryId\": \"SABOR\", \"externalId\": \"46510932dfd448af910ae16e112a8d3a\", \"totalValue\": {\"value\": \"2425\", \"currency\": \"BRL\"}, \"categoryName\": \"Escolha um sabor\", \"integrationId\": null}, {\"name\": \"1/2 MISTA\", \"addition\": {\"value\": \"0\", \"currency\": \"BRL\"}, \"discount\": {\"value\": \"0\", \"currency\": \"BRL\"}, \"quantity\": 1.00, \"sequence\": 3, \"unitPrice\": {\"value\": \"2425\", \"currency\": \"BRL\"}, \"categoryId\": \"SABOR2\", \"externalId\": \"46510932dfd448af910ae16e112a8d3a\", \"totalValue\": {\"value\": \"2425\", \"currency\": \"BRL\"}, \"categoryName\": \"Escolha o segundo sabor\", \"integrationId\": null}, {\"name\": \"1/2 À MODA CAPIXABA\", \"addition\": {\"value\": \"0\", \"currency\": \"BRL\"}, \"discount\": {\"value\": \"0\", \"currency\": \"BRL\"}, \"quantity\": 1.00, \"sequence\": 4, \"unitPrice\": {\"value\": \"2425\", \"currency\": \"BRL\"}, \"categoryId\": \"SABOR\", \"externalId\": \"5be89603526f4c42a6d9ac9e05f8a19a\", \"totalValue\": {\"value\": \"2425\", \"currency\": \"BRL\"}, \"categoryName\": \"Escolha um sabor\", \"integrationId\": null}, {\"name\": \"1/2 À MODA CAPIXABA\", \"addition\": {\"value\": \"0\", \"currency\": \"BRL\"}, \"discount\": {\"value\": \"0\", \"currency\": \"BRL\"}, \"quantity\": 1.00, \"sequence\": 4, \"unitPrice\": {\"value\": \"2425\", \"currency\": \"BRL\"}, \"categoryId\": \"SABOR2\", \"externalId\": \"5be89603526f4c42a6d9ac9e05f8a19a\", \"totalValue\": {\"value\": \"2425\", \"currency\": \"BRL\"}, \"categoryName\": \"Escolha o segundo sabor\", \"integrationId\": null}], \"integrationId\": null, \"totalAddition\": {\"value\": \"0\", \"currency\": \"BRL\"}, \"totalDiscount\": {\"value\": \"0\", \"currency\": \"BRL\"}}]                                                                |d7adb764bac29ccb77fb8f746ffbd531bf05ec30a7e1306afed1fc1a821b7854|-40.27           |-20.25            |America/Sao_Paulo|2019-01-17T23:40:53.000Z|4ff64b33b272c1886df21b63272220af6a82d1667dba70dad201810d98608dd8|false          |NULL                |48.5              |ANDROID        |\n",
            "+-----------+----------------------------------------------------------------+-------------+---------------------+------------------------+-------------------------+----------------------------+-------------------------+--------------------------+----------------------+-------------------------+----------------------------------------------------------------------------------------------------------------------------------------------------------------------------------------------------------------------------------------------------------------------------------------------------------------------------------------------------------------------------------------------------------------------------------------------------------------------------------------------------------------------------------------------------------------------------------------------------------------------------------------------------------------------------------------------------------------------------------------------------------------------------------------------------------------------------------------------------------------------------------------------------------------------------------------------------------------------------------------------------------------------------------------------------------------------------------------------------------------------------------------------------------------------------------------------------------------------------------------------------------------------------------------------------------------------------------------------------------------------------------------------------------------------------------------------------------------------------------------------------------------------------------------------------------------------------------------------------------------------------------------------------------------------------------------------------------------------------------------------------------------------------------------------------------------------------------------------------------------------------------------------------------------------------------------------------------------------------------------------------------------------------------------------------------------------------------------------------------------------------------------------------------------------------------------------------------------------------------------------------------------------------------------------------------------------------------------------------------------------------------------------------------------------------------------------------------------------------------------------------------------------------------------------------------------------------------------------------------------------------+----------------------------------------------------------------+-----------------+------------------+-----------------+------------------------+----------------------------------------------------------------+---------------+--------------------+------------------+---------------+\n",
            "only showing top 5 rows\n",
            "\n",
            "\n",
            "🧠 Estrutura do DataFrame:\n",
            "root\n",
            " |-- cpf: string (nullable = true)\n",
            " |-- customer_id: string (nullable = true)\n",
            " |-- customer_name: string (nullable = true)\n",
            " |-- delivery_address_city: string (nullable = true)\n",
            " |-- delivery_address_country: string (nullable = true)\n",
            " |-- delivery_address_district: string (nullable = true)\n",
            " |-- delivery_address_external_id: string (nullable = true)\n",
            " |-- delivery_address_latitude: string (nullable = true)\n",
            " |-- delivery_address_longitude: string (nullable = true)\n",
            " |-- delivery_address_state: string (nullable = true)\n",
            " |-- delivery_address_zip_code: string (nullable = true)\n",
            " |-- items: string (nullable = true)\n",
            " |-- merchant_id: string (nullable = true)\n",
            " |-- merchant_latitude: string (nullable = true)\n",
            " |-- merchant_longitude: string (nullable = true)\n",
            " |-- merchant_timezone: string (nullable = true)\n",
            " |-- order_created_at: string (nullable = true)\n",
            " |-- order_id: string (nullable = true)\n",
            " |-- order_scheduled: boolean (nullable = true)\n",
            " |-- order_scheduled_date: string (nullable = true)\n",
            " |-- order_total_amount: double (nullable = true)\n",
            " |-- origin_platform: string (nullable = true)\n",
            "\n"
          ]
        }
      ],
      "source": [
        "# 1 - Instalação e configuração do ambiente\n",
        "print(\"⚙️ Instalando Java e PySpark...\")\n",
        "!apt-get install openjdk-11-jdk -y\n",
        "!pip install pyspark\n",
        "import os\n",
        "os.environ[\"JAVA_HOME\"] = \"/usr/lib/jvm/java-11-openjdk-amd64\"\n",
        "print(\"✅ Ambiente configurado!\\n\")\n",
        "\n",
        "# 2 - Iniciando a SparkSession\n",
        "print(\"🚀 Iniciando sessão Spark...\")\n",
        "from pyspark.sql import SparkSession\n",
        "spark = SparkSession.builder.master(\"local[*]\").appName(\"iFood Order Case\").getOrCreate()\n",
        "print(\"✅ SparkSession criada!\\n\")\n",
        "\n",
        "# 3 - Baixando o arquivo order.json.gz\n",
        "print(\"📥 Baixando o arquivo order.json.gz...\")\n",
        "import urllib.request\n",
        "url = \"https://data-architect-test-source.s3-sa-east-1.amazonaws.com/order.json.gz\"\n",
        "local_path = \"order.json.gz\"\n",
        "urllib.request.urlretrieve(url, local_path)\n",
        "print(\"✅ Download concluído!\\n\")\n",
        "\n",
        "# 4 - Lendo o arquivo JSON compactado com PySpark\n",
        "print(\"📊 Lendo arquivo JSON com PySpark...\")\n",
        "df_order = spark.read.json(local_path, multiLine=False)\n",
        "print(\"✅ Dados carregados!\\n\")\n",
        "\n",
        "# 5 - Exibindo as primeiras linhas do DataFrame\n",
        "print(\"🔍 Primeiras linhas do DataFrame:\")\n",
        "df_order.show(5, truncate=False)\n",
        "\n",
        "# 6 - Exibindo o schema do DataFrame\n",
        "print(\"\\n🧠 Estrutura do DataFrame:\")\n",
        "df_order.printSchema()"
      ]
    },
    {
      "cell_type": "code",
      "execution_count": 103,
      "metadata": {
        "colab": {
          "base_uri": "https://localhost:8080/"
        },
        "id": "b38f66a9",
        "outputId": "780b27bd-f438-4d46-be28-58aaba44b516"
      },
      "outputs": [
        {
          "output_type": "stream",
          "name": "stdout",
          "text": [
            "🧠 Estrutura do DataFrame com itens explodidos:\n",
            "root\n",
            " |-- cpf: string (nullable = true)\n",
            " |-- customer_id: string (nullable = true)\n",
            " |-- customer_name: string (nullable = true)\n",
            " |-- delivery_address_city: string (nullable = true)\n",
            " |-- delivery_address_country: string (nullable = true)\n",
            " |-- delivery_address_district: string (nullable = true)\n",
            " |-- delivery_address_external_id: string (nullable = true)\n",
            " |-- delivery_address_latitude: string (nullable = true)\n",
            " |-- delivery_address_longitude: string (nullable = true)\n",
            " |-- delivery_address_state: string (nullable = true)\n",
            " |-- delivery_address_zip_code: string (nullable = true)\n",
            " |-- items: string (nullable = true)\n",
            " |-- merchant_id: string (nullable = true)\n",
            " |-- merchant_latitude: string (nullable = true)\n",
            " |-- merchant_longitude: string (nullable = true)\n",
            " |-- merchant_timezone: string (nullable = true)\n",
            " |-- order_created_at: string (nullable = true)\n",
            " |-- order_id: string (nullable = true)\n",
            " |-- order_scheduled: boolean (nullable = true)\n",
            " |-- order_scheduled_date: string (nullable = true)\n",
            " |-- order_total_amount: double (nullable = true)\n",
            " |-- origin_platform: string (nullable = true)\n",
            " |-- parsed_items: array (nullable = true)\n",
            " |    |-- element: struct (containsNull = true)\n",
            " |    |    |-- name: string (nullable = true)\n",
            " |    |    |-- addition: struct (nullable = true)\n",
            " |    |    |    |-- value: string (nullable = true)\n",
            " |    |    |    |-- currency: string (nullable = true)\n",
            " |    |    |-- discount: struct (nullable = true)\n",
            " |    |    |    |-- value: string (nullable = true)\n",
            " |    |    |    |-- currency: string (nullable = true)\n",
            " |    |    |-- quantity: double (nullable = true)\n",
            " |    |    |-- sequence: long (nullable = true)\n",
            " |    |    |-- unitPrice: struct (nullable = true)\n",
            " |    |    |    |-- value: string (nullable = true)\n",
            " |    |    |    |-- currency: string (nullable = true)\n",
            " |    |    |-- externalId: string (nullable = true)\n",
            " |    |    |-- totalValue: struct (nullable = true)\n",
            " |    |    |    |-- value: string (nullable = true)\n",
            " |    |    |    |-- currency: string (nullable = true)\n",
            " |    |    |-- customerNote: string (nullable = true)\n",
            " |    |    |-- garnishItems: array (nullable = true)\n",
            " |    |    |    |-- element: struct (containsNull = true)\n",
            " |    |    |    |    |-- name: string (nullable = true)\n",
            " |    |    |    |    |-- addition: struct (nullable = true)\n",
            " |    |    |    |    |    |-- value: string (nullable = true)\n",
            " |    |    |    |    |    |-- currency: string (nullable = true)\n",
            " |    |    |    |    |-- discount: struct (nullable = true)\n",
            " |    |    |    |    |    |-- value: string (nullable = true)\n",
            " |    |    |    |    |    |-- currency: string (nullable = true)\n",
            " |    |    |    |    |-- quantity: double (nullable = true)\n",
            " |    |    |    |    |-- sequence: long (nullable = true)\n",
            " |    |    |    |    |-- unitPrice: struct (nullable = true)\n",
            " |    |    |    |    |    |-- value: string (nullable = true)\n",
            " |    |    |    |    |    |-- currency: string (nullable = true)\n",
            " |    |    |    |    |-- categoryId: string (nullable = true)\n",
            " |    |    |    |    |-- externalId: string (nullable = true)\n",
            " |    |    |    |    |-- totalValue: struct (nullable = true)\n",
            " |    |    |    |    |    |-- value: string (nullable = true)\n",
            " |    |    |    |    |    |-- currency: string (nullable = true)\n",
            " |    |    |    |    |-- categoryName: string (nullable = true)\n",
            " |    |    |    |    |-- integrationId: string (nullable = true)\n",
            " |    |    |-- integrationId: string (nullable = true)\n",
            " |    |    |-- totalAddition: struct (nullable = true)\n",
            " |    |    |    |-- value: string (nullable = true)\n",
            " |    |    |    |-- currency: string (nullable = true)\n",
            " |    |    |-- totalDiscount: struct (nullable = true)\n",
            " |    |    |    |-- value: string (nullable = true)\n",
            " |    |    |    |-- currency: string (nullable = true)\n",
            " |-- item: struct (nullable = true)\n",
            " |    |-- name: string (nullable = true)\n",
            " |    |-- addition: struct (nullable = true)\n",
            " |    |    |-- value: string (nullable = true)\n",
            " |    |    |-- currency: string (nullable = true)\n",
            " |    |-- discount: struct (nullable = true)\n",
            " |    |    |-- value: string (nullable = true)\n",
            " |    |    |-- currency: string (nullable = true)\n",
            " |    |-- quantity: double (nullable = true)\n",
            " |    |-- sequence: long (nullable = true)\n",
            " |    |-- unitPrice: struct (nullable = true)\n",
            " |    |    |-- value: string (nullable = true)\n",
            " |    |    |-- currency: string (nullable = true)\n",
            " |    |-- externalId: string (nullable = true)\n",
            " |    |-- totalValue: struct (nullable = true)\n",
            " |    |    |-- value: string (nullable = true)\n",
            " |    |    |-- currency: string (nullable = true)\n",
            " |    |-- customerNote: string (nullable = true)\n",
            " |    |-- garnishItems: array (nullable = true)\n",
            " |    |    |-- element: struct (containsNull = true)\n",
            " |    |    |    |-- name: string (nullable = true)\n",
            " |    |    |    |-- addition: struct (nullable = true)\n",
            " |    |    |    |    |-- value: string (nullable = true)\n",
            " |    |    |    |    |-- currency: string (nullable = true)\n",
            " |    |    |    |-- discount: struct (nullable = true)\n",
            " |    |    |    |    |-- value: string (nullable = true)\n",
            " |    |    |    |    |-- currency: string (nullable = true)\n",
            " |    |    |    |-- quantity: double (nullable = true)\n",
            " |    |    |    |-- sequence: long (nullable = true)\n",
            " |    |    |    |-- unitPrice: struct (nullable = true)\n",
            " |    |    |    |    |-- value: string (nullable = true)\n",
            " |    |    |    |    |-- currency: string (nullable = true)\n",
            " |    |    |    |-- categoryId: string (nullable = true)\n",
            " |    |    |    |-- externalId: string (nullable = true)\n",
            " |    |    |    |-- totalValue: struct (nullable = true)\n",
            " |    |    |    |    |-- value: string (nullable = true)\n",
            " |    |    |    |    |-- currency: string (nullable = true)\n",
            " |    |    |    |-- categoryName: string (nullable = true)\n",
            " |    |    |    |-- integrationId: string (nullable = true)\n",
            " |    |-- integrationId: string (nullable = true)\n",
            " |    |-- totalAddition: struct (nullable = true)\n",
            " |    |    |-- value: string (nullable = true)\n",
            " |    |    |-- currency: string (nullable = true)\n",
            " |    |-- totalDiscount: struct (nullable = true)\n",
            " |    |    |-- value: string (nullable = true)\n",
            " |    |    |-- currency: string (nullable = true)\n",
            "\n",
            "\n",
            "🔍 Primeiras linhas do DataFrame com itens explodidos:\n",
            "+----------------------------------------------------------------+----------------------------------------+--------+--------+--------+--------+-----------+--------------------------------+-----------+------------+-----------------------------------------------------------------------------------------------------------------------------------------------+-------------+-------------+-------------+\n",
            "|order_id                                                        |name                                    |addition|discount|quantity|sequence|unitPrice  |externalId                      |totalValue |customerNote|garnishItems                                                                                                                                   |integrationId|totalAddition|totalDiscount|\n",
            "+----------------------------------------------------------------+----------------------------------------+--------+--------+--------+--------+-----------+--------------------------------+-----------+------------+-----------------------------------------------------------------------------------------------------------------------------------------------+-------------+-------------+-------------+\n",
            "|33e0612d62e5eb42aba15b58413137e441fbe906de2febd6a6c721b0e5773b44|Parmegiana de Filé de Frango (2 pessoas)|{0, BRL}|{0, BRL}|1.0     |1       |{2800, BRL}|0bcd6764fd5e466d9c04b18ac0eb69e6|{2800, BRL}|NULL        |[{COM Arroz branco, {0, BRL}, {0, BRL}, 1.0, 2, {0, BRL}, 13HDH, 384bd2b4eb7d454d8e0274e7d590ab4f, {0, BRL}, PERSONALIZAR, NULL}]              |PMFR         |{0, BRL}     |{0, BRL}     |\n",
            "|33e0612d62e5eb42aba15b58413137e441fbe906de2febd6a6c721b0e5773b44|Lasanha Frango (2 pessoas)              |{0, BRL}|{0, BRL}|1.0     |3       |{1800, BRL}|a361f5eec6a44ac0817892e81bf22e80|{1800, BRL}|NULL        |[]                                                                                                                                             |LF           |{0, BRL}     |{0, BRL}     |\n",
            "|148c4353a2952f3fe7973547283265eb22b575fb712ed2618a6cf2d813b987ad|Filé Mignon à Cubana                    |{0, BRL}|{0, BRL}|1.0     |1       |{0, BRL}   |e0e81b2027c241cca5bf60a4768800ec|{0, BRL}   |NULL        |[{334 - 1/2 porção , {0, BRL}, {0, BRL}, 1.0, 2, {7350, BRL}, 1J3T0, b869c10747d1417d8968d7e3e1bd7de4, {7350, BRL}, escolha sua porção , NULL}]|NULL         |{0, BRL}     |{0, BRL}     |\n",
            "|148c4353a2952f3fe7973547283265eb22b575fb712ed2618a6cf2d813b987ad|603- Pudim de leite                     |{0, BRL}|{0, BRL}|1.0     |4       |{800, BRL} |4436f76edc164052aaf3c21a6567b570|{800, BRL} |NULL        |[]                                                                                                                                             |NULL         |{0, BRL}     |{0, BRL}     |\n",
            "|148c4353a2952f3fe7973547283265eb22b575fb712ed2618a6cf2d813b987ad|601-Torta Holandesa                     |{0, BRL}|{0, BRL}|1.0     |5       |{800, BRL} |c0b788e876c54f198307dc142fed7aff|{800, BRL} |NULL        |[]                                                                                                                                             |NULL         |{0, BRL}     |{0, BRL}     |\n",
            "+----------------------------------------------------------------+----------------------------------------+--------+--------+--------+--------+-----------+--------------------------------+-----------+------------+-----------------------------------------------------------------------------------------------------------------------------------------------+-------------+-------------+-------------+\n",
            "only showing top 5 rows\n",
            "\n"
          ]
        }
      ],
      "source": [
        "from pyspark.sql.functions import explode, col, from_json\n",
        "from pyspark.sql.types import ArrayType, StructType, StructField, StringType, DoubleType, LongType\n",
        "\n",
        "# Define the schema for the 'items' column\n",
        "items_schema = ArrayType(StructType([\n",
        "    StructField(\"name\", StringType(), True),\n",
        "    StructField(\"addition\", StructType([\n",
        "        StructField(\"value\", StringType(), True),\n",
        "        StructField(\"currency\", StringType(), True)\n",
        "    ]), True),\n",
        "    StructField(\"discount\", StructType([\n",
        "        StructField(\"value\", StringType(), True),\n",
        "        StructField(\"currency\", StringType(), True)\n",
        "    ]), True),\n",
        "    StructField(\"quantity\", DoubleType(), True),\n",
        "    StructField(\"sequence\", LongType(), True), # Changed to LongType based on data example\n",
        "    StructField(\"unitPrice\", StructType([\n",
        "        StructField(\"value\", StringType(), True),\n",
        "        StructField(\"currency\", StringType(), True)\n",
        "    ]), True),\n",
        "    StructField(\"externalId\", StringType(), True),\n",
        "    StructField(\"totalValue\", StructType([\n",
        "        StructField(\"value\", StringType(), True),\n",
        "        StructField(\"currency\", StringType(), True)\n",
        "    ]), True),\n",
        "    StructField(\"customerNote\", StringType(), True),\n",
        "    StructField(\"garnishItems\", ArrayType(StructType([\n",
        "        StructField(\"name\", StringType(), True),\n",
        "        StructField(\"addition\", StructType([\n",
        "            StructField(\"value\", StringType(), True),\n",
        "            StructField(\"currency\", StringType(), True)\n",
        "        ]), True),\n",
        "        StructField(\"discount\", StructType([\n",
        "            StructField(\"value\", StringType(), True),\n",
        "            StructField(\"currency\", StringType(), True)\n",
        "        ]), True),\n",
        "        StructField(\"quantity\", DoubleType(), True),\n",
        "        StructField(\"sequence\", LongType(), True), # Changed to LongType based on data example\n",
        "        StructField(\"unitPrice\", StructType([\n",
        "            StructField(\"value\", StringType(), True),\n",
        "            StructField(\"currency\", StringType(), True)\n",
        "        ]), True),\n",
        "        StructField(\"categoryId\", StringType(), True),\n",
        "        StructField(\"externalId\", StringType(), True),\n",
        "        StructField(\"totalValue\", StructType([\n",
        "            StructField(\"value\", StringType(), True),\n",
        "            StructField(\"currency\", StringType(), True)\n",
        "        ]), True),\n",
        "        StructField(\"categoryName\", StringType(), True),\n",
        "        StructField(\"integrationId\", StringType(), True)\n",
        "    ]), True), True),\n",
        "    StructField(\"integrationId\", StringType(), True),\n",
        "    StructField(\"totalAddition\", StructType([\n",
        "        StructField(\"value\", StringType(), True),\n",
        "        StructField(\"currency\", StringType(), True)\n",
        "    ]), True),\n",
        "    StructField(\"totalDiscount\", StructType([\n",
        "        StructField(\"value\", StringType(), True),\n",
        "        StructField(\"currency\", StringType(), True)\n",
        "    ]), True)\n",
        "]))\n",
        "\n",
        "# Parse the JSON string in 'items' column and then explode it\n",
        "df_exploded = df_order.withColumn(\"parsed_items\", from_json(col(\"items\"), items_schema)) \\\n",
        "                      .withColumn(\"item\", explode(\"parsed_items\"))\n",
        "\n",
        "# Show the schema of the new DataFrame with exploded items\n",
        "print(\"🧠 Estrutura do DataFrame com itens explodidos:\")\n",
        "df_exploded.printSchema()\n",
        "\n",
        "# Show the first few rows of the new DataFrame\n",
        "print(\"\\n🔍 Primeiras linhas do DataFrame com itens explodidos:\")\n",
        "df_exploded.select(\"order_id\", \"item.*\").show(5, truncate=False)"
      ]
    },
    {
      "cell_type": "code",
      "execution_count": 104,
      "metadata": {
        "colab": {
          "base_uri": "https://localhost:8080/"
        },
        "id": "r5Zw2QBmrkyz",
        "outputId": "7835c61d-5c58-4338-92a5-1f08a8b5b9c0"
      },
      "outputs": [
        {
          "output_type": "stream",
          "name": "stdout",
          "text": [
            "+-----------+----------------------------------------------------------------+-------------+---------------------+------------------------+-------------------------+----------------------------+-------------------------+--------------------------+----------------------+-------------------------+------------------------------------------------------------------------------------------------------------------------------------------------------------------------------------------------------------------------------------------------------------------------------------------------------------------------------------------------------------------------------------------------------------------------------------------------------------------------------------------------------------------------------------------------------------------------------------------------------------------------------------------------------------------------------------------------------------------------------------------------------------------------------------------------------------------------------------------------------------------------------------------------------------------------------------------------------------------------------------------------------------------------------------------------------------------------------------------------------------------------------------------------------------------------------------------------------------------------------------------------------------------------------------------------------------------------------------------------------------------------------------------------------------------------------+----------------------------------------------------------------+-----------------+------------------+-----------------+------------------------+----------------------------------------------------------------+---------------+--------------------+------------------+---------------+\n",
            "|cpf        |customer_id                                                     |customer_name|delivery_address_city|delivery_address_country|delivery_address_district|delivery_address_external_id|delivery_address_latitude|delivery_address_longitude|delivery_address_state|delivery_address_zip_code|items                                                                                                                                                                                                                                                                                                                                                                                                                                                                                                                                                                                                                                                                                                                                                                                                                                                                                                                                                                                                                                                                                                                                                                                                                                                                                                                                                                                                                         |merchant_id                                                     |merchant_latitude|merchant_longitude|merchant_timezone|order_created_at        |order_id                                                        |order_scheduled|order_scheduled_date|order_total_amount|origin_platform|\n",
            "+-----------+----------------------------------------------------------------+-------------+---------------------+------------------------+-------------------------+----------------------------+-------------------------+--------------------------+----------------------+-------------------------+------------------------------------------------------------------------------------------------------------------------------------------------------------------------------------------------------------------------------------------------------------------------------------------------------------------------------------------------------------------------------------------------------------------------------------------------------------------------------------------------------------------------------------------------------------------------------------------------------------------------------------------------------------------------------------------------------------------------------------------------------------------------------------------------------------------------------------------------------------------------------------------------------------------------------------------------------------------------------------------------------------------------------------------------------------------------------------------------------------------------------------------------------------------------------------------------------------------------------------------------------------------------------------------------------------------------------------------------------------------------------------------------------------------------------+----------------------------------------------------------------+-----------------+------------------+-----------------+------------------------+----------------------------------------------------------------+---------------+--------------------+------------------+---------------+\n",
            "|80532101763|7ba88a68bb2a3504c6bd37a707af57a0b8d6e110a551c719c9e7f71aaf3a99cf|GUSTAVO      |FRANCA               |BR                      |JARDIM ESPRAIADO         |6736655                     |-47.39                   |-20.55                    |SP                    |14403                    |[{\"name\": \"Parmegiana de Filé de Frango (2 pessoas)\", \"addition\": {\"value\": \"0\", \"currency\": \"BRL\"}, \"discount\": {\"value\": \"0\", \"currency\": \"BRL\"}, \"quantity\": 1.00, \"sequence\": 1, \"unitPrice\": {\"value\": \"2800\", \"currency\": \"BRL\"}, \"externalId\": \"0bcd6764fd5e466d9c04b18ac0eb69e6\", \"totalValue\": {\"value\": \"2800\", \"currency\": \"BRL\"}, \"customerNote\": null, \"garnishItems\": [{\"name\": \"COM Arroz branco\", \"addition\": {\"value\": \"0\", \"currency\": \"BRL\"}, \"discount\": {\"value\": \"0\", \"currency\": \"BRL\"}, \"quantity\": 1.00, \"sequence\": 2, \"unitPrice\": {\"value\": \"0\", \"currency\": \"BRL\"}, \"categoryId\": \"13HDH\", \"externalId\": \"384bd2b4eb7d454d8e0274e7d590ab4f\", \"totalValue\": {\"value\": \"0\", \"currency\": \"BRL\"}, \"categoryName\": \"PERSONALIZAR\", \"integrationId\": null}], \"integrationId\": \"PMFR\", \"totalAddition\": {\"value\": \"0\", \"currency\": \"BRL\"}, \"totalDiscount\": {\"value\": \"0\", \"currency\": \"BRL\"}}, {\"name\": \"Lasanha Frango (2 pessoas)\", \"addition\": {\"value\": \"0\", \"currency\": \"BRL\"}, \"discount\": {\"value\": \"0\", \"currency\": \"BRL\"}, \"quantity\": 1.00, \"sequence\": 3, \"unitPrice\": {\"value\": \"1800\", \"currency\": \"BRL\"}, \"externalId\": \"a361f5eec6a44ac0817892e81bf22e80\", \"totalValue\": {\"value\": \"1800\", \"currency\": \"BRL\"}, \"customerNote\": null, \"garnishItems\": [], \"integrationId\": \"LF\", \"totalAddition\": {\"value\": \"0\", \"currency\": \"BRL\"}, \"totalDiscount\": {\"value\": \"0\", \"currency\": \"BRL\"}}]|a992a079a651e699d9149423761df2427c0e3af0a2a1b5bb6d2bad1cb3a3a265|-47.39           |-20.55            |America/Sao_Paulo|2019-01-17T22:50:06.000Z|33e0612d62e5eb42aba15b58413137e441fbe906de2febd6a6c721b0e5773b44|false          |NULL                |46.0              |ANDROID        |\n",
            "+-----------+----------------------------------------------------------------+-------------+---------------------+------------------------+-------------------------+----------------------------+-------------------------+--------------------------+----------------------+-------------------------+------------------------------------------------------------------------------------------------------------------------------------------------------------------------------------------------------------------------------------------------------------------------------------------------------------------------------------------------------------------------------------------------------------------------------------------------------------------------------------------------------------------------------------------------------------------------------------------------------------------------------------------------------------------------------------------------------------------------------------------------------------------------------------------------------------------------------------------------------------------------------------------------------------------------------------------------------------------------------------------------------------------------------------------------------------------------------------------------------------------------------------------------------------------------------------------------------------------------------------------------------------------------------------------------------------------------------------------------------------------------------------------------------------------------------+----------------------------------------------------------------+-----------------+------------------+-----------------+------------------------+----------------------------------------------------------------+---------------+--------------------+------------------+---------------+\n",
            "only showing top 1 row\n",
            "\n"
          ]
        }
      ],
      "source": [
        "df_order.show(1, truncate=False)"
      ]
    },
    {
      "cell_type": "code",
      "execution_count": 105,
      "metadata": {
        "colab": {
          "base_uri": "https://localhost:8080/"
        },
        "id": "f-UndS7-swaM",
        "outputId": "f460beae-f3a1-4c58-f38e-e5a4c560be4b"
      },
      "outputs": [
        {
          "output_type": "stream",
          "name": "stdout",
          "text": [
            "+----------------------------------------------------------------+----------------------------------------------------------------+------------------------+------------------+----------------------------------------+--------------------------------+-------------+---------------+----------------+-------------------+\n",
            "|order_id                                                        |customer_id                                                     |order_created_at        |order_total_amount|item_name                               |item_id                         |item_quantity|item_unit_price|item_total_price|item_integration_id|\n",
            "+----------------------------------------------------------------+----------------------------------------------------------------+------------------------+------------------+----------------------------------------+--------------------------------+-------------+---------------+----------------+-------------------+\n",
            "|33e0612d62e5eb42aba15b58413137e441fbe906de2febd6a6c721b0e5773b44|7ba88a68bb2a3504c6bd37a707af57a0b8d6e110a551c719c9e7f71aaf3a99cf|2019-01-17T22:50:06.000Z|46.0              |Parmegiana de Filé de Frango (2 pessoas)|0bcd6764fd5e466d9c04b18ac0eb69e6|1.0          |2800.0         |2800.0          |PMFR               |\n",
            "|33e0612d62e5eb42aba15b58413137e441fbe906de2febd6a6c721b0e5773b44|7ba88a68bb2a3504c6bd37a707af57a0b8d6e110a551c719c9e7f71aaf3a99cf|2019-01-17T22:50:06.000Z|46.0              |Lasanha Frango (2 pessoas)              |a361f5eec6a44ac0817892e81bf22e80|1.0          |1800.0         |1800.0          |LF                 |\n",
            "|148c4353a2952f3fe7973547283265eb22b575fb712ed2618a6cf2d813b987ad|078acecdcf7fa89d356bfa349f14a8219db1ee161ce28ae4d9fee550c95d6fbd|2019-01-17T17:51:26.000Z|104.5             |Filé Mignon à Cubana                    |e0e81b2027c241cca5bf60a4768800ec|1.0          |0.0            |0.0             |NULL               |\n",
            "|148c4353a2952f3fe7973547283265eb22b575fb712ed2618a6cf2d813b987ad|078acecdcf7fa89d356bfa349f14a8219db1ee161ce28ae4d9fee550c95d6fbd|2019-01-17T17:51:26.000Z|104.5             |603- Pudim de leite                     |4436f76edc164052aaf3c21a6567b570|1.0          |800.0          |800.0           |NULL               |\n",
            "|148c4353a2952f3fe7973547283265eb22b575fb712ed2618a6cf2d813b987ad|078acecdcf7fa89d356bfa349f14a8219db1ee161ce28ae4d9fee550c95d6fbd|2019-01-17T17:51:26.000Z|104.5             |601-Torta Holandesa                     |c0b788e876c54f198307dc142fed7aff|1.0          |800.0          |800.0           |NULL               |\n",
            "+----------------------------------------------------------------+----------------------------------------------------------------+------------------------+------------------+----------------------------------------+--------------------------------+-------------+---------------+----------------+-------------------+\n",
            "only showing top 5 rows\n",
            "\n"
          ]
        }
      ],
      "source": [
        "from pyspark.sql.functions import col, from_json, explode\n",
        "from pyspark.sql.types import *\n",
        "\n",
        "# 1 - Definindo o schema do array de itens\n",
        "item_schema = ArrayType(\n",
        "    StructType([\n",
        "        StructField(\"name\", StringType()),\n",
        "        StructField(\"externalId\", StringType()),\n",
        "        StructField(\"quantity\", DoubleType()),\n",
        "        StructField(\"integrationId\", StringType()),\n",
        "        StructField(\"unitPrice\", StructType([\n",
        "            StructField(\"value\", StringType()),\n",
        "            StructField(\"currency\", StringType())\n",
        "        ])),\n",
        "        StructField(\"totalValue\", StructType([\n",
        "            StructField(\"value\", StringType()),\n",
        "            StructField(\"currency\", StringType())\n",
        "        ]))\n",
        "    ])\n",
        ")\n",
        "\n",
        "# 2 - Convertendo a string JSON para array de structs\n",
        "df_order_fixed = df_order.withColumn(\"items_array\", from_json(col(\"items\"), item_schema))\n",
        "\n",
        "# 3 - Aplicando explode na nova coluna\n",
        "df_exploded = df_order_fixed.withColumn(\"item\", explode(\"items_array\"))\n",
        "\n",
        "# 4 - Selecionando os campos desejados\n",
        "df_items_detalhados = df_exploded.select(\n",
        "    \"order_id\",\n",
        "    \"customer_id\",\n",
        "    \"order_created_at\",\n",
        "    \"order_total_amount\",\n",
        "    col(\"item.name\").alias(\"item_name\"),\n",
        "    col(\"item.externalId\").alias(\"item_id\"),\n",
        "    col(\"item.quantity\").alias(\"item_quantity\"),\n",
        "    col(\"item.unitPrice.value\").cast(\"float\").alias(\"item_unit_price\"),\n",
        "    col(\"item.totalValue.value\").cast(\"float\").alias(\"item_total_price\"),\n",
        "    col(\"item.integrationId\").alias(\"item_integration_id\")\n",
        ")\n",
        "\n",
        "# 5 - Exibindo resultado\n",
        "df_items_detalhados.show(5, truncate=False)"
      ]
    },
    {
      "cell_type": "markdown",
      "metadata": {
        "id": "YpFGp2zpjXWK"
      },
      "source": [
        "### Database Usuários"
      ]
    },
    {
      "cell_type": "code",
      "execution_count": 106,
      "metadata": {
        "colab": {
          "base_uri": "https://localhost:8080/"
        },
        "id": "gMPO4ow1jayv",
        "outputId": "a177a1ac-254d-4f28-a3dc-6ac747fa831c"
      },
      "outputs": [
        {
          "output_type": "stream",
          "name": "stdout",
          "text": [
            "📥 Baixando o arquivo consumer.csv.gz...\n",
            "✅ Download concluído!\n",
            "\n",
            "📊 Lendo o arquivo CSV com PySpark...\n",
            "✅ Arquivo carregado em um DataFrame Spark!\n",
            "\n",
            "🔍 Primeiras linhas do dataset:\n",
            "+----------------------------------------------------------------+--------+-----------------------+------+-------------+-------------------+---------------------+\n",
            "|customer_id                                                     |language|created_at             |active|customer_name|customer_phone_area|customer_phone_number|\n",
            "+----------------------------------------------------------------+--------+-----------------------+------+-------------+-------------------+---------------------+\n",
            "|e8cc60860e09c0bb19610b06ced69c973eb83982cfc98e397ce65cba92f70928|pt-br   |2018-04-05 14:49:18.165|true  |NUNO         |46                 |816135924            |\n",
            "|a2834a38a9876cf74e016524dd2e8c1f010ee12b2b684d58c40ab11eef19b6eb|pt-br   |2018-01-14 21:40:02.141|true  |ADRIELLY     |59                 |231330577            |\n",
            "|41e1051728eba13341136d67d0757f8d8cc44b2a405b718a8c5efba2c093b2c0|pt-br   |2018-01-07 03:47:15.554|true  |PAULA        |62                 |347597883            |\n",
            "|8e7c1dcb64edf95c935147f6d560cb068c44714cb1b21b287f1f433ae7b0b04e|pt-br   |2018-01-10 22:17:08.16 |true  |HELTON       |13                 |719366842            |\n",
            "|7823d4cf4150c5daeae0bd799206852fc123bdef0cf5d1639c8cb568d73e8c83|pt-br   |2018-04-06 00:16:20.935|true  |WENDER       |76                 |543232158            |\n",
            "+----------------------------------------------------------------+--------+-----------------------+------+-------------+-------------------+---------------------+\n",
            "only showing top 5 rows\n",
            "\n",
            "\n",
            "🧠 Estrutura geral do dataset:\n",
            "root\n",
            " |-- customer_id: string (nullable = true)\n",
            " |-- language: string (nullable = true)\n",
            " |-- created_at: timestamp (nullable = true)\n",
            " |-- active: boolean (nullable = true)\n",
            " |-- customer_name: string (nullable = true)\n",
            " |-- customer_phone_area: integer (nullable = true)\n",
            " |-- customer_phone_number: integer (nullable = true)\n",
            "\n"
          ]
        }
      ],
      "source": [
        "# 1 - Baixando o arquivo CSV compactado (.gz) da internet\n",
        "print(\"📥 Baixando o arquivo consumer.csv.gz...\")\n",
        "import urllib.request\n",
        "\n",
        "url = \"https://data-architect-test-source.s3-sa-east-1.amazonaws.com/consumer.csv.gz\"\n",
        "local_path = \"consumer.csv.gz\"\n",
        "urllib.request.urlretrieve(url, local_path)\n",
        "print(\"✅ Download concluído!\\n\")\n",
        "\n",
        "# 2 - Lendo o arquivo CSV com PySpark\n",
        "print(\"📊 Lendo o arquivo CSV com PySpark...\")\n",
        "df_consumer = spark.read.option(\"header\", True).option(\"inferSchema\", True).csv(local_path)\n",
        "print(\"✅ Arquivo carregado em um DataFrame Spark!\\n\")\n",
        "\n",
        "# 3 - Exibindo as primeiras linhas do DataFrame\n",
        "print(\"🔍 Primeiras linhas do dataset:\")\n",
        "df_consumer.show(5, truncate=False)\n",
        "\n",
        "# 4 - Exibindo o schema do DataFrame\n",
        "print(\"\\n🧠 Estrutura geral do dataset:\")\n",
        "df_consumer.printSchema()"
      ]
    },
    {
      "cell_type": "markdown",
      "metadata": {
        "id": "O_lFsFpUeNX7"
      },
      "source": [
        "### Database Merchants - Restaurantes"
      ]
    },
    {
      "cell_type": "code",
      "execution_count": 107,
      "metadata": {
        "colab": {
          "base_uri": "https://localhost:8080/"
        },
        "id": "KxV9Ekt4i-JB",
        "outputId": "56a3bbd6-5b7d-4ded-90c7-cd2e43064977"
      },
      "outputs": [
        {
          "output_type": "stream",
          "name": "stdout",
          "text": [
            "📥 Baixando o arquivo restaurant.csv.gz...\n",
            "✅ Download concluído!\n",
            "\n",
            "📊 Lendo o arquivo CSV com PySpark...\n",
            "✅ Arquivo carregado em um DataFrame Spark!\n",
            "\n",
            "🔍 Primeiras linhas do dataset:\n",
            "+----------------------------------------------------------------+-----------------------+-------+-----------+--------------+------------+-------------+-------------------+-----------------+--------------+--------------+----------------+\n",
            "|id                                                              |created_at             |enabled|price_range|average_ticket|takeout_time|delivery_time|minimum_order_value|merchant_zip_code|merchant_city |merchant_state|merchant_country|\n",
            "+----------------------------------------------------------------+-----------------------+-------+-----------+--------------+------------+-------------+-------------------+-----------------+--------------+--------------+----------------+\n",
            "|d19ff6fca6288939bff073ad0a119d25c0365c407e9e5dd999e7a3e53c6d5d76|2017-01-23 12:52:30.91 |false  |3          |60.0          |0           |50           |30.0               |14025            |RIBEIRAO PRETO|SP            |BR              |\n",
            "|631df0985fdbbaf27b9b031a8f381924e3483833385748c8f7e1a41a6891d2b9|2017-01-20 13:14:48.286|true   |3          |60.0          |0           |0            |30.0               |50180            |SAO PAULO     |SP            |BR              |\n",
            "|135c5c4ae4c1ec1fdc23e8c649f313e39be8db913d8bc5aaff9bfddb548f096d|2017-01-23 12:46:33.457|true   |5          |100.0         |0           |45           |10.0               |23090            |RIO DE JANEIRO|RJ            |BR              |\n",
            "|d26f84c470451f752bef036c55517b6d9950d41806f10e94e8b5734241468768|2017-01-20 13:15:04.806|true   |3          |80.0          |0           |0            |18.9               |40255            |SALVADOR      |BA            |BR              |\n",
            "|97b9884600ea7192314580d9115f8882b8634f5aa201ff9a6df206e49343a283|2017-01-20 13:14:27.701|true   |3          |60.0          |0           |0            |25.0               |64600            |BARUERI       |SP            |BR              |\n",
            "+----------------------------------------------------------------+-----------------------+-------+-----------+--------------+------------+-------------+-------------------+-----------------+--------------+--------------+----------------+\n",
            "only showing top 5 rows\n",
            "\n",
            "\n",
            "🧠 Estrutura geral do dataset:\n",
            "root\n",
            " |-- id: string (nullable = true)\n",
            " |-- created_at: timestamp (nullable = true)\n",
            " |-- enabled: boolean (nullable = true)\n",
            " |-- price_range: integer (nullable = true)\n",
            " |-- average_ticket: double (nullable = true)\n",
            " |-- takeout_time: integer (nullable = true)\n",
            " |-- delivery_time: integer (nullable = true)\n",
            " |-- minimum_order_value: double (nullable = true)\n",
            " |-- merchant_zip_code: integer (nullable = true)\n",
            " |-- merchant_city: string (nullable = true)\n",
            " |-- merchant_state: string (nullable = true)\n",
            " |-- merchant_country: string (nullable = true)\n",
            "\n"
          ]
        }
      ],
      "source": [
        "# 1 - Baixando o arquivo CSV compactado (.gz) da internet\n",
        "print(\"📥 Baixando o arquivo restaurant.csv.gz...\")\n",
        "import urllib.request\n",
        "\n",
        "url = \"https://data-architect-test-source.s3-sa-east-1.amazonaws.com/restaurant.csv.gz\"\n",
        "local_path = \"restaurant.csv.gz\"\n",
        "urllib.request.urlretrieve(url, local_path)\n",
        "print(\"✅ Download concluído!\\n\")\n",
        "\n",
        "# 2 - Lendo o arquivo CSV com PySpark\n",
        "print(\"📊 Lendo o arquivo CSV com PySpark...\")\n",
        "df_restaurant = spark.read.option(\"header\", True).option(\"inferSchema\", True).csv(local_path)\n",
        "print(\"✅ Arquivo carregado em um DataFrame Spark!\\n\")\n",
        "\n",
        "# 3 - Exibindo as primeiras linhas do DataFrame\n",
        "print(\"🔍 Primeiras linhas do dataset:\")\n",
        "df_restaurant.show(5, truncate=False)\n",
        "\n",
        "# 4 - Exibindo o schema do DataFrame\n",
        "print(\"\\n🧠 Estrutura geral do dataset:\")\n",
        "df_restaurant.printSchema()"
      ]
    },
    {
      "cell_type": "markdown",
      "metadata": {
        "id": "Gye7UAj6d-V1"
      },
      "source": [
        "### Database Marcação de usuários que participaram do teste A/B"
      ]
    },
    {
      "cell_type": "code",
      "execution_count": 108,
      "metadata": {
        "colab": {
          "base_uri": "https://localhost:8080/"
        },
        "id": "NdghaOfreqlG",
        "outputId": "3d7a9256-9bb5-432d-9d6b-f0107c261322"
      },
      "outputs": [
        {
          "output_type": "stream",
          "name": "stdout",
          "text": [
            "Reading package lists... Done\n",
            "Building dependency tree... Done\n",
            "Reading state information... Done\n",
            "openjdk-11-jdk is already the newest version (11.0.27+6~us1-0ubuntu1~22.04).\n",
            "0 upgraded, 0 newly installed, 0 to remove and 35 not upgraded.\n",
            "Requirement already satisfied: pyspark in /usr/local/lib/python3.11/dist-packages (3.5.1)\n",
            "Requirement already satisfied: py4j==0.10.9.7 in /usr/local/lib/python3.11/dist-packages (from pyspark) (0.10.9.7)\n",
            "✅ Spark iniciado!\n",
            "\n",
            "📥 Baixando o arquivo ab_test_ref.tar.gz...\n",
            "✅ Download concluído!\n",
            "\n",
            "🗂 Extraindo arquivos...\n",
            "✅ Extração concluída!\n",
            "\n",
            "📄 Lendo arquivo: ab_test_ref_extracted/ab_test_ref.csv\n",
            "🔍 Primeiras linhas do DataFrame:\n",
            "+----------------------------------------------------------------+---------+\n",
            "|customer_id                                                     |is_target|\n",
            "+----------------------------------------------------------------+---------+\n",
            "|755e1fa18f25caec5edffb188b13fd844b2af8cf5adedcf77c028f36cb9382ea|target   |\n",
            "|b821aa8372b8e5b82cdc283742757df8c45eecdd72adf411716e710525d4edf1|control  |\n",
            "|d425d6ee4c9d4e211b71da8fc60bf6c5336b2ea9af9cc007f5297541ec40b63b|control  |\n",
            "|6a7089eea0a5dc294fbccd4fa24d0d84a90c1cc12e829c8b535718bbc651ab02|target   |\n",
            "|dad6b7e222bab31c0332b0ccd9fa5dbd147008facd268f5e3763fa657c23a58d|control  |\n",
            "+----------------------------------------------------------------+---------+\n",
            "only showing top 5 rows\n",
            "\n",
            "\n",
            "🧠 Estrutura do DataFrame:\n",
            "root\n",
            " |-- customer_id: string (nullable = true)\n",
            " |-- is_target: string (nullable = true)\n",
            "\n"
          ]
        }
      ],
      "source": [
        "# 1 - Instalar Java e PySpark no Google Colab\n",
        "!apt-get install openjdk-11-jdk -y\n",
        "!pip install pyspark\n",
        "\n",
        "import os\n",
        "os.environ[\"JAVA_HOME\"] = \"/usr/lib/jvm/java-11-openjdk-amd64\"\n",
        "\n",
        "# 2 - Iniciar SparkSession\n",
        "from pyspark.sql import SparkSession\n",
        "spark = SparkSession.builder.master(\"local[*]\").appName(\"AB Test Case\").getOrCreate()\n",
        "print(\"✅ Spark iniciado!\\n\")\n",
        "\n",
        "# 3 - Baixar o arquivo .tar.gz\n",
        "import urllib.request\n",
        "import tarfile\n",
        "\n",
        "print(\"📥 Baixando o arquivo ab_test_ref.tar.gz...\")\n",
        "url = \"https://data-architect-test-source.s3-sa-east-1.amazonaws.com/ab_test_ref.tar.gz\"\n",
        "local_tar_path = \"ab_test_ref.tar.gz\"\n",
        "urllib.request.urlretrieve(url, local_tar_path)\n",
        "print(\"✅ Download concluído!\\n\")\n",
        "\n",
        "# 4 - Extrair o conteúdo\n",
        "print(\"🗂 Extraindo arquivos...\")\n",
        "extract_path = \"ab_test_ref_extracted\"\n",
        "os.makedirs(extract_path, exist_ok=True)\n",
        "with tarfile.open(local_tar_path, \"r:gz\") as tar:\n",
        "    tar.extractall(path=extract_path)\n",
        "print(\"✅ Extração concluída!\\n\")\n",
        "\n",
        "# 5 - Caminho direto para o arquivo extraído\n",
        "csv_path = os.path.join(extract_path, \"ab_test_ref.csv\")\n",
        "print(f\"📄 Lendo arquivo: {csv_path}\")\n",
        "\n",
        "# 6 - Definir schema do arquivo\n",
        "from pyspark.sql.types import StructType, StructField, StringType\n",
        "schema = StructType([\n",
        "    StructField(\"customer_id\", StringType(), True),\n",
        "    StructField(\"is_target\", StringType(), True),\n",
        "])\n",
        "\n",
        "# 7 - Leitura do CSV com PySpark\n",
        "df_ab_test = spark.read.option(\"header\", True)\\\n",
        "                       .option(\"sep\", \",\")\\\n",
        "                       .schema(schema)\\\n",
        "                       .csv(csv_path)\n",
        "\n",
        "# 8 - Visualizar os dados\n",
        "print(\"🔍 Primeiras linhas do DataFrame:\")\n",
        "df_ab_test.show(5, truncate=False)\n",
        "\n",
        "print(\"\\n🧠 Estrutura do DataFrame:\")\n",
        "df_ab_test.printSchema()\n"
      ]
    },
    {
      "cell_type": "markdown",
      "metadata": {
        "id": "facae9bd"
      },
      "source": [
        "**Explanation of the fix:**\n",
        "\n",
        "1.  **`items_schema`**: We define a `StructType` that matches the expected structure of each item within the `items` array. This includes nested `StructType` for fields like `addition`, `discount`, `unitPrice`, `totalValue`, `totalAddition`, and `totalDiscount`, and an `ArrayType` for `garnishItems`. I've used `StringType` for currency values and prices based on the example data in the output of cell `Bh7E-EBFhrMs`, and `LongType` for `sequence`.\n",
        "2.  **`from_json(col(\"items\"), items_schema)`**: This function parses the JSON string in the `items` column according to the `items_schema` we defined. The result is a new column named `parsed_items` which is of type `ArrayType(StructType(...))`.\n",
        "3.  **`explode(\"parsed_items\")`**: Now that `parsed_items` is an array type, we can successfully apply the `explode` function to it. This creates a new row for each item in the array.\n",
        "4.  **`df_exploded.select(\"order_id\", \"item.*\").show(5, truncate=False)`**: This line selects the original `order_id` and all the fields from the exploded `item` column to show the result of the explosion.\n",
        "\n",
        "This corrected code will successfully extract the individual items from the `items` column and create a new row for each item, allowing you to analyze the items within each order."
      ]
    },
    {
      "cell_type": "markdown",
      "metadata": {
        "id": "hols3Z15zeOB"
      },
      "source": [
        "## O Desafio – Análise do teste A/B (ETAPA 1)"
      ]
    },
    {
      "cell_type": "markdown",
      "metadata": {
        "id": "WCqxnpwEznQ9"
      },
      "source": [
        "✅ CÓDIGO PySpark: Análise A/B (impacto da campanha)\n"
      ]
    },
    {
      "cell_type": "code",
      "execution_count": 109,
      "metadata": {
        "id": "of998RTczf9j"
      },
      "outputs": [],
      "source": [
        "from pyspark.sql.functions import col, countDistinct, count, sum, avg, when\n",
        "from pyspark.sql.window import Window\n"
      ]
    },
    {
      "cell_type": "code",
      "execution_count": 110,
      "metadata": {
        "id": "VW_-8tU6zvfl"
      },
      "outputs": [],
      "source": [
        "# 1 - Juntando pedidos com grupo de teste\n",
        "df_ab_orders = df_order.join(df_ab_test, on=\"customer_id\", how=\"inner\")"
      ]
    },
    {
      "cell_type": "code",
      "execution_count": 111,
      "metadata": {
        "id": "8hqQycZtzyaO"
      },
      "outputs": [],
      "source": [
        "# 2 - Calculando indicadores agregados por grupo (target vs control)\n",
        "df_metrics = df_ab_orders.groupBy(\"is_target\").agg(\n",
        "    countDistinct(\"customer_id\").alias(\"qtd_usuarios\"),\n",
        "    count(\"order_id\").alias(\"qtd_pedidos\"),\n",
        "    avg(\"order_total_amount\").alias(\"ticket_medio\"),\n",
        "    sum(\"order_total_amount\").alias(\"valor_total_pedidos\")\n",
        ")"
      ]
    },
    {
      "cell_type": "code",
      "execution_count": 112,
      "metadata": {
        "colab": {
          "base_uri": "https://localhost:8080/"
        },
        "id": "aof8Us7G0PG0",
        "outputId": "75b6cb4f-c2a1-4373-ecea-d894c086fba5"
      },
      "outputs": [
        {
          "output_type": "stream",
          "name": "stdout",
          "text": [
            "+---------+------------+-----------+------------------+--------------------+-------------------+\n",
            "|is_target|qtd_usuarios|qtd_pedidos|ticket_medio      |valor_total_pedidos |pedidos_por_usuario|\n",
            "+---------+------------+-----------+------------------+--------------------+-------------------+\n",
            "|control  |360542      |1525576    |47.897890947419995|7.30718728800012E7  |4.231340592774212  |\n",
            "|target   |445924      |2136745    |47.73970213572941 |1.0200756984000914E8|4.79172459881056   |\n",
            "+---------+------------+-----------+------------------+--------------------+-------------------+\n",
            "\n"
          ]
        }
      ],
      "source": [
        "# 3 - Calculando pedidos por usuário (frequência média)\n",
        "df_metrics = df_metrics.withColumn(\n",
        "    \"pedidos_por_usuario\",\n",
        "    col(\"qtd_pedidos\") / col(\"qtd_usuarios\")\n",
        ")\n",
        "\n",
        "# 4 - Exibindo resultados\n",
        "df_metrics.show(truncate=False)"
      ]
    },
    {
      "cell_type": "markdown",
      "metadata": {
        "id": "4H11cXAo57BQ"
      },
      "source": [
        "### a) Definindo os indicadores relevantes para mensurar o sucesso da\n",
        "campanha e analisar se ela teve impacto significativo dentro do\n",
        "período avaliado:"
      ]
    },
    {
      "cell_type": "code",
      "execution_count": 113,
      "metadata": {
        "colab": {
          "base_uri": "https://localhost:8080/"
        },
        "id": "Kc1dtBNl2Ts0",
        "outputId": "89407def-c95c-4c9d-be86-c5ea992d6049"
      },
      "outputs": [
        {
          "output_type": "stream",
          "name": "stdout",
          "text": [
            "qtd_usuarios qtd_pedidos ticket_medio valor_total_pedidos pedidos_por_usuario\n",
            "     360.542   1.525.576     R$ 47,90    R$ 73.071.872,88                 4,2\n",
            "     445.924   2.136.745     R$ 47,74   R$ 102.007.569,84                 4,8\n"
          ]
        }
      ],
      "source": [
        "from pyspark.sql.functions import col, countDistinct, count, sum, avg\n",
        "import pandas as pd\n",
        "\n",
        "# 1 - Juntando pedidos com grupo de teste\n",
        "df_ab_orders = df_order.join(df_ab_test, on=\"customer_id\", how=\"inner\")\n",
        "\n",
        "# 2 - Calculando indicadores agregados por grupo (target vs control)\n",
        "df_metrics = df_ab_orders.groupBy(\"is_target\").agg(\n",
        "    countDistinct(\"customer_id\").alias(\"qtd_usuarios\"),\n",
        "    count(\"order_id\").alias(\"qtd_pedidos\"),\n",
        "    avg(\"order_total_amount\").alias(\"ticket_medio\"),\n",
        "    sum(\"order_total_amount\").alias(\"valor_total_pedidos\")\n",
        ")\n",
        "\n",
        "# 3 - Calculando pedidos por usuário\n",
        "df_metrics = df_metrics.withColumn(\n",
        "    \"pedidos_por_usuario\",\n",
        "    col(\"qtd_pedidos\") / col(\"qtd_usuarios\")\n",
        ")\n",
        "\n",
        "# 4 - Convertendo para Pandas para aplicar a formatação personalizada\n",
        "df_metrics_pd = df_metrics.toPandas()\n",
        "\n",
        "# 5 - Formatando os valores para estilo brasileiro\n",
        "df_metrics_formatado = pd.DataFrame()\n",
        "#df_metrics_formatado[\"Grupo\"] = df_metrics_pd[\"is_target\"]\n",
        "\n",
        "df_metrics_formatado[\"qtd_usuarios\"] = df_metrics_pd[\"qtd_usuarios\"].apply(lambda x: f\"{x:,.0f}\".replace(\",\", \".\"))\n",
        "df_metrics_formatado[\"qtd_pedidos\"] = df_metrics_pd[\"qtd_pedidos\"].apply(lambda x: f\"{x:,.0f}\".replace(\",\", \".\"))\n",
        "df_metrics_formatado[\"ticket_medio\"] = df_metrics_pd[\"ticket_medio\"].apply(lambda x: f\"R$ {x:,.2f}\".replace(\",\", \"X\").replace(\".\", \",\").replace(\"X\", \".\"))\n",
        "df_metrics_formatado[\"valor_total_pedidos\"] = df_metrics_pd[\"valor_total_pedidos\"].apply(lambda x: f\"R$ {x:,.2f}\".replace(\",\", \"X\").replace(\".\", \",\").replace(\"X\", \".\"))\n",
        "df_metrics_formatado[\"pedidos_por_usuario\"] = df_metrics_pd[\"pedidos_por_usuario\"].apply(lambda x: f\"{x:.1f}\".replace(\".\", \",\"))\n",
        "\n",
        "# 6 - Exibindo resultado\n",
        "print(df_metrics_formatado.to_string(index=False))"
      ]
    },
    {
      "cell_type": "markdown",
      "metadata": {
        "id": "LTOr4SQVtBPf"
      },
      "source": [
        "✅ 1. Join dos dados de pedidos com teste A/B e restaurantes\n"
      ]
    },
    {
      "cell_type": "code",
      "execution_count": 114,
      "metadata": {
        "id": "OBtv_guZtFJN"
      },
      "outputs": [],
      "source": [
        "# Base principal de análise\n",
        "df_ab_orders = df_order.join(df_ab_test, on=\"customer_id\", how=\"inner\")\n",
        "df_ab_orders = df_ab_orders.join(df_restaurant, df_ab_orders[\"merchant_id\"] == df_restaurant[\"id\"], \"inner\")"
      ]
    },
    {
      "cell_type": "markdown",
      "metadata": {
        "id": "Tq1vHIf1tHqa"
      },
      "source": [
        "📊 2. KPIs principais por grupo (usuários e pedidos)"
      ]
    },
    {
      "cell_type": "code",
      "execution_count": 115,
      "metadata": {
        "id": "cfyI7uSBtKx8"
      },
      "outputs": [],
      "source": [
        "from pyspark.sql.functions import col, countDistinct, count, sum, avg\n",
        "\n",
        "df_metrics = df_ab_orders.groupBy(\"is_target\").agg(\n",
        "    countDistinct(\"customer_id\").alias(\"qtd_usuarios\"),\n",
        "    count(\"order_id\").alias(\"qtd_pedidos\"),\n",
        "    sum(\"order_total_amount\").alias(\"valor_total_pedidos\"),\n",
        "    avg(\"order_total_amount\").alias(\"ticket_medio\")\n",
        ").withColumn(\n",
        "    \"pedidos_por_usuario\", col(\"qtd_pedidos\") / col(\"qtd_usuarios\")\n",
        ")"
      ]
    },
    {
      "cell_type": "markdown",
      "metadata": {
        "id": "Y50CyjgAtQtk"
      },
      "source": [
        "🔁 3. Retenção de usuários (usuários com >1 pedido)\n"
      ]
    },
    {
      "cell_type": "code",
      "execution_count": 116,
      "metadata": {
        "id": "vLYoObQntTOR"
      },
      "outputs": [],
      "source": [
        "from pyspark.sql.functions import when, round\n",
        "\n",
        "df_freq = df_ab_orders.groupBy(\"is_target\", \"customer_id\").agg(count(\"order_id\").alias(\"qtd_pedidos\"))\n",
        "\n",
        "df_retencao = df_freq.groupBy(\"is_target\").agg(\n",
        "    count(\"*\").alias(\"total_usuarios\"),\n",
        "    count(when(col(\"qtd_pedidos\") > 1, True)).alias(\"usuarios_retidos\")\n",
        ").withColumn(\n",
        "    \"taxa_retencao\", round((col(\"usuarios_retidos\") / col(\"total_usuarios\")) * 100, 2)\n",
        ").select(\"is_target\", \"taxa_retencao\")"
      ]
    },
    {
      "cell_type": "markdown",
      "metadata": {
        "id": "SME_og03tWHI"
      },
      "source": [
        "📈 4. Incremento percentual do ticket médio\n"
      ]
    },
    {
      "cell_type": "code",
      "execution_count": 117,
      "metadata": {
        "id": "a21p1cUDtYR8"
      },
      "outputs": [],
      "source": [
        "from pyspark.sql.functions import first\n",
        "\n",
        "df_ticket_medio = df_ab_orders.groupBy(\"is_target\").agg(round(avg(\"order_total_amount\"), 2).alias(\"ticket_medio\"))\n",
        "\n",
        "df_incremento = df_ticket_medio.groupBy().pivot(\"is_target\").agg(first(\"ticket_medio\")).withColumn(\n",
        "    \"incremento_percentual\", round(((col(\"target\") - col(\"control\")) / col(\"control\")) * 100, 2)\n",
        ").select(\"incremento_percentual\")"
      ]
    },
    {
      "cell_type": "markdown",
      "metadata": {
        "id": "nrapWsHutaOc"
      },
      "source": [
        "🔝 5. Heavy users (usuários que estão no top 20% de pedidos)"
      ]
    },
    {
      "cell_type": "code",
      "execution_count": 118,
      "metadata": {
        "id": "tUxAX8Mqtclu"
      },
      "outputs": [],
      "source": [
        "df_user_freq = df_ab_orders.groupBy(\"customer_id\").agg(count(\"order_id\").alias(\"qtd_pedidos\"))\n",
        "percentil_80 = df_user_freq.approxQuantile(\"qtd_pedidos\", [0.80], 0.01)[0]\n",
        "\n",
        "df_user_freq = df_user_freq.withColumn(\n",
        "    \"heavy_user\", when(col(\"qtd_pedidos\") >= percentil_80, 1).otherwise(0)\n",
        ")\n",
        "\n",
        "df_heavy = df_user_freq.join(df_ab_test, on=\"customer_id\", how=\"inner\")\n",
        "\n",
        "df_heavy_summary = df_heavy.groupBy(\"is_target\").agg(\n",
        "    count(when(col(\"heavy_user\") == 1, True)).alias(\"qtd_heavy_users\"),\n",
        "    count(\"*\").alias(\"total_usuarios\")\n",
        ").withColumn(\n",
        "    \"percentual_heavy_users\", round((col(\"qtd_heavy_users\") / col(\"total_usuarios\")) * 100, 2)\n",
        ").select(\"is_target\", \"percentual_heavy_users\")"
      ]
    },
    {
      "cell_type": "markdown",
      "metadata": {
        "id": "Ql4db6lGte-k"
      },
      "source": [
        "🕒 6. Tempo médio de entrega por grupo"
      ]
    },
    {
      "cell_type": "code",
      "execution_count": 119,
      "metadata": {
        "id": "s5Cf5uUmthWI"
      },
      "outputs": [],
      "source": [
        "df_delivery_time = df_ab_orders.groupBy(\"is_target\").agg(\n",
        "    round(avg(\"delivery_time\"), 2).alias(\"tempo_medio_entrega\")\n",
        ")"
      ]
    },
    {
      "cell_type": "markdown",
      "metadata": {
        "id": "s3qfO5GOtttS"
      },
      "source": [
        "🍽️ 7. Total de restaurantes por grupo (com base em pedidos)\n"
      ]
    },
    {
      "cell_type": "code",
      "execution_count": 120,
      "metadata": {
        "id": "y2BHGmjCtwAt"
      },
      "outputs": [],
      "source": [
        "df_qtd_rest = df_ab_orders.groupBy(\"is_target\").agg(\n",
        "    countDistinct(\"merchant_id\").alias(\"qtd_restaurantes\")\n",
        ")"
      ]
    },
    {
      "cell_type": "markdown",
      "metadata": {
        "id": "jnRD_iMitzt8"
      },
      "source": [
        "📦 8. Média de pedidos por restaurante"
      ]
    },
    {
      "cell_type": "code",
      "execution_count": 121,
      "metadata": {
        "id": "HGuhzUilt2b2"
      },
      "outputs": [],
      "source": [
        "df_avg_pedidos_rest = df_ab_orders.groupBy(\"is_target\", \"merchant_id\").agg(\n",
        "    count(\"order_id\").alias(\"qtd_pedidos_rest\")\n",
        ").groupBy(\"is_target\").agg(\n",
        "    round(avg(\"qtd_pedidos_rest\"), 2).alias(\"media_pedidos_por_restaurante\")\n",
        ")"
      ]
    },
    {
      "cell_type": "markdown",
      "metadata": {
        "id": "ZLtKMwchuC6U"
      },
      "source": [
        "🧾 10. Juntando todos os KPIs em uma tabela final"
      ]
    },
    {
      "cell_type": "code",
      "execution_count": 122,
      "metadata": {
        "colab": {
          "base_uri": "https://localhost:8080/"
        },
        "id": "s6hIcsQWuHAh",
        "outputId": "75234c1e-e776-4c78-dfdc-01e5c6bbc838"
      },
      "outputs": [
        {
          "output_type": "stream",
          "name": "stdout",
          "text": [
            "+---------+------------+-----------+--------------------+-----------------+-------------------+-------------+----------------------+-------------------+----------------+-----------------------------+\n",
            "|is_target|qtd_usuarios|qtd_pedidos|valor_total_pedidos |ticket_medio     |pedidos_por_usuario|taxa_retencao|percentual_heavy_users|tempo_medio_entrega|qtd_restaurantes|media_pedidos_por_restaurante|\n",
            "+---------+------------+-----------+--------------------+-----------------+-------------------+-------------+----------------------+-------------------+----------------+-----------------------------+\n",
            "|control  |360542      |1525576    |7.307187287999888E7 |47.89789094741847|4.231340592774212  |74.7         |21.53                 |22.63              |7196            |212.0                        |\n",
            "|target   |445924      |2136745    |1.0200756984000076E8|47.73970213572549|4.79172459881056   |79.51        |25.87                 |22.66              |7227            |295.66                       |\n",
            "+---------+------------+-----------+--------------------+-----------------+-------------------+-------------+----------------------+-------------------+----------------+-----------------------------+\n",
            "\n"
          ]
        }
      ],
      "source": [
        "# Juntando tudo com PySpark\n",
        "df_final = df_metrics \\\n",
        "    .join(df_retencao, on=\"is_target\", how=\"left\") \\\n",
        "    .join(df_heavy_summary, on=\"is_target\", how=\"left\") \\\n",
        "    .join(df_delivery_time, on=\"is_target\", how=\"left\") \\\n",
        "    .join(df_qtd_rest, on=\"is_target\", how=\"left\") \\\n",
        "    .join(df_avg_pedidos_rest, on=\"is_target\", how=\"left\")\n",
        "\n",
        "df_final.show(truncate=False)"
      ]
    },
    {
      "cell_type": "markdown",
      "source": [
        "#### 📊 Análise Comparativa — Grupo Controle vs Grupo Target"
      ],
      "metadata": {
        "id": "zAOpZVGF_qy7"
      }
    },
    {
      "cell_type": "markdown",
      "source": [
        "| Indicador                    | Controle  | Target    | Diferença | Interpretação                               |\n",
        "| ---------------------------- | --------- | --------- | --------- | ------------------------------------------- |\n",
        "| **Usuários (qtd\\_usuarios)** | 360.542   | 445.924   | +85.382   | Target teve uma base maior.                 |\n",
        "| **Pedidos (qtd\\_pedidos)**   | 1.525.576 | 2.136.745 | +611.169  | Target pediu mais.                          |\n",
        "| **Ticket médio**             | R\\$ 47,90 | R\\$ 47,74 | -R\\$ 0,16 | Leve queda no valor por pedido no target.   |\n",
        "| **Pedidos por usuário**      | 4,23      | 4,79      | +13,2%    | Mais engajamento no target.                 |\n",
        "| **Retenção de usuários (%)** | 74,7%     | 79,51%    | +4,8 p.p. | A campanha reteve melhor os usuários.       |\n",
        "| **Heavy Users (%)**          | 21,53%    | 25,87%    | +4,3 p.p. | Mais usuários muito ativos no target.       |\n",
        "| **Tempo médio de entrega**   | 22,63 min | 22,66 min | ≈         | Não há impacto logístico relevante.         |\n",
        "| **Pedidos por restaurante**  | 212,0     | 295,66    | +39,4%    | Restaurantes no grupo target venderam mais. |\n"
      ],
      "metadata": {
        "id": "o2Ua9TzzB6Zk"
      }
    },
    {
      "cell_type": "markdown",
      "source": [
        "**Análise de Engajamento e Produto:**\n",
        "\n",
        "Observando as métricas de comportamento, a campanha foi um sucesso absoluto.\n",
        "\n",
        "\n",
        "*   Frequência de Pedidos: Os usuários do grupo target fizeram, em média, 4,79 pedidos, um aumento de 13,2% em relação aos 4,23 do grupo control. Isso mostra que o incentivo funcionou para criar o hábito de pedir mais vezes.\n",
        "\n",
        "*   Taxa de Retenção: A retenção do grupo target foi de 79,51%, quase 5 pontos percentuais maior que a do grupo control. Este é um ganho massivo e o indicador mais forte de que a campanha gerou lealdade.\n",
        "\n",
        "\n",
        "*   \"Heavy Users\": O percentual de usuários de alta frequência subiu de 21,53% para 25,87%. A campanha foi eficaz em converter usuários e engajar a base.\n",
        "\n",
        "\n",
        "Conclusão de Produto: Sem dúvida, a campanha foi um sucesso em engajar a base de usuários, aumentar a frequência e reter mais clientes."
      ],
      "metadata": {
        "id": "cJ7kuYtFCThI"
      }
    },
    {
      "cell_type": "markdown",
      "source": [
        "### b) Análise da viabilidade financeira dessa iniciativa como alavanca de crescimento"
      ],
      "metadata": {
        "id": "rCCOy4t_A9yj"
      }
    },
    {
      "cell_type": "markdown",
      "source": [
        "#### 💰 Análise da Viabilidade Financeira\n"
      ],
      "metadata": {
        "id": "VS2bMlLLFVBi"
      }
    },
    {
      "cell_type": "markdown",
      "source": [
        "**Premissas Adotadas:**\n",
        "\n",
        "*   Custo da Campanha: R$ 10,00 por cada pedido realizado no grupo target.\n",
        "*   Take Rate (Receita do iFood): Manteremos a premissa de 20% sobre o valor total dos pedidos (GMV).\n"
      ],
      "metadata": {
        "id": "dEJUbXyYFek8"
      }
    },
    {
      "cell_type": "markdown",
      "source": [
        "**1 - Custo da Campanha**"
      ],
      "metadata": {
        "id": "Wnbm-Fk-Fynu"
      }
    },
    {
      "cell_type": "code",
      "source": [
        "from pyspark.sql.functions import col\n",
        "\n",
        "# --- Premissas ---\n",
        "# Ajuste o valor do custo do cupom conforme a sua necessidade.\n",
        "CUSTO_CUPOM_POR_PEDIDO = 10.00\n",
        "\n",
        "# --- Cálculo Direto ---\n",
        "# O código filtra o DataFrame para o grupo 'target', conta o número de pedidos\n",
        "# e multiplica pelo custo unitário do cupom para obter o valor total.\n",
        "custo_total_campanha = df_ab_orders.filter(col(\"is_target\") == \"target\").count() * CUSTO_CUPOM_POR_PEDIDO\n",
        "\n",
        "# --- Resultado ---\n",
        "print(f\"Custo Total: R$ {custo_total_campanha:,.2f}\")"
      ],
      "metadata": {
        "colab": {
          "base_uri": "https://localhost:8080/"
        },
        "id": "mW4_1TZfFyFD",
        "outputId": "75aea3e2-7b0a-49fa-9098-ec9b5e783239"
      },
      "execution_count": 123,
      "outputs": [
        {
          "output_type": "stream",
          "name": "stdout",
          "text": [
            "Custo Total: R$ 21,367,450.00\n"
          ]
        }
      ]
    },
    {
      "cell_type": "markdown",
      "source": [
        "**2 - Receita Incremental**"
      ],
      "metadata": {
        "id": "ZAPIjd8nGGdP"
      }
    },
    {
      "cell_type": "code",
      "source": [
        "from pyspark.sql.functions import col, sum, countDistinct\n",
        "\n",
        "# --- Premissas ---\n",
        "# Ajuste o Take Rate (comissão do iFood estimada).\n",
        "TAKE_RATE = 0.20\n",
        "\n",
        "# --- 1. Agregação com PySpark ---\n",
        "# Agrupamos os dados para obter os totais de usuários e GMV para cada grupo.\n",
        "summary_df = df_ab_orders.groupBy(\"is_target\").agg(\n",
        "    countDistinct(\"customer_id\").alias(\"qtd_usuarios\"),\n",
        "    sum(\"order_total_amount\").alias(\"gmv_total\")\n",
        ")\n",
        "\n",
        "# --- 2. Extração dos Dados Agregados ---\n",
        "# Coletamos o pequeno DataFrame de resumo para o Python para facilitar os cálculos.\n",
        "# O .collect() aqui é seguro e eficiente, pois o resultado tem apenas 2 linhas.\n",
        "metrics = {row[\"is_target\"]: row for row in summary_df.collect()}\n",
        "\n",
        "control_metrics = metrics.get(\"control\")\n",
        "target_metrics = metrics.get(\"target\")\n",
        "\n",
        "# --- 3. Cálculo Financeiro ---\n",
        "# Verificamos se ambos os grupos existem antes de calcular\n",
        "if control_metrics and target_metrics:\n",
        "    # Comportamento base: Qual foi o GMV por usuário no grupo de controle?\n",
        "    gmv_por_usuario_control = control_metrics[\"gmv_total\"] / control_metrics[\"qtd_usuarios\"]\n",
        "\n",
        "    # Projeção: Qual seria o GMV do grupo Target se eles fossem como o Controle?\n",
        "    gmv_baseline_target = gmv_por_usuario_control * target_metrics[\"qtd_usuarios\"]\n",
        "\n",
        "    # Receita projetada (Baseline) vs. Receita Real\n",
        "    receita_baseline_target = gmv_baseline_target * TAKE_RATE\n",
        "    receita_real_target = target_metrics[\"gmv_total\"] * TAKE_RATE\n",
        "\n",
        "    # A Receita Incremental é a diferença entre o que aconteceu e o que teria acontecido.\n",
        "    receita_incremental = receita_real_target - receita_baseline_target\n",
        "else:\n",
        "    receita_incremental = 0  # Define como 0 se um dos grupos não existir\n",
        "\n",
        "# --- 4. Resultado ---\n",
        "print(\"CÁLCULO DA RECEITA INCREMENTAL DA CAMPANHA\")\n",
        "print(f\"Take Rate (premissa): {TAKE_RATE:.0%}\")\n",
        "print(\"---------------------------------------------\")\n",
        "print(f\"Receita Incremental Gerada: R$ {receita_incremental:,.2f}\")"
      ],
      "metadata": {
        "colab": {
          "base_uri": "https://localhost:8080/"
        },
        "id": "UHC4G2ZsJjer",
        "outputId": "801ae99c-f7e2-4d3d-aff3-34cd89be350b"
      },
      "execution_count": 124,
      "outputs": [
        {
          "output_type": "stream",
          "name": "stdout",
          "text": [
            "  CÁLCULO DA RECEITA INCREMENTAL DA CAMPANHA\n",
            "Take Rate (premissa): 20%\n",
            "---------------------------------------------\n",
            "Receita Incremental Gerada: R$ 2,326,226.29\n"
          ]
        }
      ]
    },
    {
      "cell_type": "markdown",
      "source": [
        "**3 - Resultado Líquido**"
      ],
      "metadata": {
        "id": "ZNuM4HLLGKcU"
      }
    },
    {
      "cell_type": "code",
      "source": [
        "from pyspark.sql.functions import col, sum, count, countDistinct\n",
        "\n",
        "# --- 1. Premissas da Análise ---\n",
        "# Ajuste estes valores conforme sua necessidade.\n",
        "TAKE_RATE = 0.20  # 20% de comissão para o iFood\n",
        "CUSTO_CUPOM_POR_PEDIDO = 10.00  # R$ 10,00 por pedido no grupo Target\n",
        "\n",
        "# --- 2. Agregação Única com PySpark ---\n",
        "# Em uma única passagem, calculamos todos os totais necessários para ambos os grupos.\n",
        "summary_df = df_ab_orders.groupBy(\"is_target\").agg(\n",
        "    countDistinct(\"customer_id\").alias(\"qtd_usuarios\"),\n",
        "    count(\"order_id\").alias(\"qtd_pedidos\"),\n",
        "    sum(\"order_total_amount\").alias(\"gmv_total\")\n",
        ")\n",
        "\n",
        "# --- 3. Extração dos Dados para o Modelo Financeiro ---\n",
        "# Coletamos o pequeno DataFrame de resumo para o Python para facilitar os cálculos.\n",
        "metrics = {row[\"is_target\"]: row for row in summary_df.collect()}\n",
        "\n",
        "control_metrics = metrics.get(\"control\")\n",
        "target_metrics = metrics.get(\"target\")\n",
        "\n",
        "# --- 4. Cálculo dos Componentes e do Resultado Líquido ---\n",
        "# Inicializamos as variáveis para evitar erros se um grupo não existir\n",
        "receita_incremental = 0\n",
        "custo_total_campanha = 0\n",
        "\n",
        "if control_metrics and target_metrics:\n",
        "    # --- Cálculo do Custo da Campanha ---\n",
        "    custo_total_campanha = target_metrics[\"qtd_pedidos\"] * CUSTO_CUPOM_POR_PEDIDO\n",
        "\n",
        "    # --- Cálculo da Receita Incremental ---\n",
        "    gmv_por_usuario_control = control_metrics[\"gmv_total\"] / control_metrics[\"qtd_usuarios\"]\n",
        "    gmv_baseline_target = gmv_por_usuario_control * target_metrics[\"qtd_usuarios\"]\n",
        "    receita_baseline_target = gmv_baseline_target * TAKE_RATE\n",
        "    receita_real_target = target_metrics[\"gmv_total\"] * TAKE_RATE\n",
        "    receita_incremental = receita_real_target - receita_baseline_target\n",
        "\n",
        "# --- Cálculo Final ---\n",
        "resultado_liquido = receita_incremental - custo_total_campanha\n",
        "\n",
        "\n",
        "# --- 5. Exibição do Resultado ---\n",
        "print(\"COMPONENTES DA ANÁLISE:\")\n",
        "print(f\"  (+) Receita Incremental Gerada: R$ {receita_incremental:,.2f}\")\n",
        "print(f\"  (-) Custo Total da Campanha:    R$ {custo_total_campanha:,.2f}\")\n",
        "print(\"--------------------------------------------------\")\n",
        "print(f\"  📊 Resultado Líquido Final:    R$ {resultado_liquido:,.2f}\")"
      ],
      "metadata": {
        "colab": {
          "base_uri": "https://localhost:8080/"
        },
        "id": "oUaML8npGMQT",
        "outputId": "31cfe92c-2c4e-432e-dda1-b43fc3ecb093"
      },
      "execution_count": 125,
      "outputs": [
        {
          "output_type": "stream",
          "name": "stdout",
          "text": [
            "COMPONENTES DA ANÁLISE:\n",
            "  (+) Receita Incremental Gerada: R$ 2,326,226.29\n",
            "  (-) Custo Total da Campanha:    R$ 21,367,450.00\n",
            "--------------------------------------------------\n",
            "  📊 Resultado Líquido Final:    R$ -19,041,223.71\n"
          ]
        }
      ]
    },
    {
      "cell_type": "markdown",
      "source": [
        "**4 - ROI: Retorno sobre Investimento**"
      ],
      "metadata": {
        "id": "AM9TlMQpGN4v"
      }
    },
    {
      "cell_type": "code",
      "source": [
        "from pyspark.sql.functions import col, sum, count, countDistinct\n",
        "\n",
        "# --- 1. Premissas da Análise ---\n",
        "# Ajuste estes valores conforme sua necessidade.\n",
        "TAKE_RATE = 0.20  # 20% de comissão para o iFood\n",
        "CUSTO_CUPOM_POR_PEDIDO = 10.00  # R$ 10,00 por pedido no grupo Target\n",
        "\n",
        "# --- 2. Agregação Única com PySpark ---\n",
        "# Em uma única passagem, calculamos todos os totais necessários para ambos os grupos.\n",
        "summary_df = df_ab_orders.groupBy(\"is_target\").agg(\n",
        "    countDistinct(\"customer_id\").alias(\"qtd_usuarios\"),\n",
        "    count(\"order_id\").alias(\"qtd_pedidos\"),\n",
        "    sum(\"order_total_amount\").alias(\"gmv_total\")\n",
        ")\n",
        "\n",
        "# --- 3. Extração dos Dados para o Modelo Financeiro ---\n",
        "# Coletamos o pequeno DataFrame de resumo para o Python para facilitar os cálculos.\n",
        "metrics = {row[\"is_target\"]: row for row in summary_df.collect()}\n",
        "\n",
        "control_metrics = metrics.get(\"control\")\n",
        "target_metrics = metrics.get(\"target\")\n",
        "\n",
        "# --- 4. Cálculo dos Componentes Financeiros ---\n",
        "# Inicializamos as variáveis para evitar erros se um grupo não existir\n",
        "receita_incremental = 0\n",
        "custo_total_campanha = 0\n",
        "resultado_liquido = 0\n",
        "roi = 0\n",
        "\n",
        "if control_metrics and target_metrics:\n",
        "    # --- Custo da Campanha ---\n",
        "    custo_total_campanha = target_metrics[\"qtd_pedidos\"] * CUSTO_CUPOM_POR_PEDIDO\n",
        "\n",
        "    # --- Receita Incremental ---\n",
        "    gmv_por_usuario_control = control_metrics[\"gmv_total\"] / control_metrics[\"qtd_usuarios\"]\n",
        "    gmv_baseline_target = gmv_por_usuario_control * target_metrics[\"qtd_usuarios\"]\n",
        "    receita_baseline_target = gmv_baseline_target * TAKE_RATE\n",
        "    receita_real_target = target_metrics[\"gmv_total\"] * TAKE_RATE\n",
        "    receita_incremental = receita_real_target - receita_baseline_target\n",
        "\n",
        "    # --- Resultado Líquido ---\n",
        "    resultado_liquido = receita_incremental - custo_total_campanha\n",
        "\n",
        "    # --- Cálculo Final do ROI ---\n",
        "    # Verificamos se o custo é maior que zero para evitar divisão por zero\n",
        "    if custo_total_campanha > 0:\n",
        "        roi = resultado_liquido / custo_total_campanha\n",
        "\n",
        "# --- 5. Exibição do Relatório Financeiro Completo ---\n",
        "print(\"PREMISSAS ADOTADAS:\")\n",
        "print(f\"  - Take Rate (Comissão iFood): {TAKE_RATE:.0%}\")\n",
        "print(f\"  - Custo do Cupom por Pedido (Target): R$ {CUSTO_CUPOM_POR_PEDIDO:.2f}\\n\")\n",
        "\n",
        "print(\"ANÁLISE DE RESULTADOS:\")\n",
        "print(f\"  - Receita Incremental Gerada:       R$ {receita_incremental:,.2f}\")\n",
        "print(f\"  - Custo Total da Campanha:          R$ {custo_total_campanha:,.2f}\")\n",
        "print(\"-------------------------------------------------------\")\n",
        "print(f\"  📊 Resultado Líquido Final:          R$ {resultado_liquido:,.2f}\")\n",
        "print(\"-------------------------------------------------------\")\n",
        "print(f\"  📈 ROI (Retorno sobre Investimento): {roi:.2%}\")\n",
        "print(\"=\"*55)"
      ],
      "metadata": {
        "colab": {
          "base_uri": "https://localhost:8080/"
        },
        "id": "2ytpm7NrGQL7",
        "outputId": "729a6171-deb6-4aef-fb0a-63f1645deb38"
      },
      "execution_count": 126,
      "outputs": [
        {
          "output_type": "stream",
          "name": "stdout",
          "text": [
            "PREMISSAS ADOTADAS:\n",
            "  - Take Rate (Comissão iFood): 20%\n",
            "  - Custo do Cupom por Pedido (Target): R$ 10.00\n",
            "\n",
            "ANÁLISE DE RESULTADOS:\n",
            "  - Receita Incremental Gerada:       R$ 2,326,226.29\n",
            "  - Custo Total da Campanha:          R$ 21,367,450.00\n",
            "-------------------------------------------------------\n",
            "  📊 Resultado Líquido Final:          R$ -19,041,223.71\n",
            "-------------------------------------------------------\n",
            "  📈 ROI (Retorno sobre Investimento): -89.11%\n",
            "=======================================================\n"
          ]
        }
      ]
    },
    {
      "cell_type": "markdown",
      "source": [
        "**📉 Conclusão: A Campanha Teve Retorno?**\n",
        "\n",
        "\n",
        "Não. A campanha **não teve retorno financeiro positivo.**\n",
        "\n",
        "**Apesar de gerar:**\n",
        "\n",
        "*   Maior engajamento dos usuários (mais pedidos por usuário)\n",
        "*   Maior taxa de retenção\n",
        "*   Mais heavy users\n",
        "*   Aumento nas vendas dos restaurantes\n",
        "\n",
        "\n",
        "\n",
        "\n",
        "👉 O custo da campanha (desconto) foi quase 10x maior que a receita adicional gerada, gerando **prejuízo** de mais de R$ 19 milhões e um ROI negativo de -89,11%.\n",
        "\n",
        "\n",
        "💡 Insight\n",
        "A estratégia melhorou comportamento e engajamento, mas não foi eficiente financeiramente.\n",
        "\n",
        "Se o cupom fosse menor (ex: R$5) ou vinculado a pedidos acima de um valor mínimo de R\\$ 60.00, poderia manter os efeitos positivos com menor custo."
      ],
      "metadata": {
        "id": "__kH4U0PGjV7"
      }
    },
    {
      "cell_type": "markdown",
      "source": [
        "### c) Recomendações de oportunidades de melhoria nessa ação e nova proposta de teste A/B para validar essas hipóte-ses."
      ],
      "metadata": {
        "id": "79GNkhelLuJP"
      }
    },
    {
      "cell_type": "markdown",
      "source": [
        "### 📊 **Resumo da campanha atual**\n",
        "\n",
        "A campanha com cupom aumentou o engajamento:\n",
        "\n",
        "* Retenção subiu para **79,5%** (vs 74,7%)\n",
        "* Mais **pedidos por usuário** (4,79 vs 4,23)\n",
        "* Mais **heavy users** (25,8% vs 21,5%)\n",
        "\n",
        "❌ **Problema**: o custo foi alto demais\n",
        "💸 **Resultado líquido**: –R\\$ 19 milhões\n",
        "📉 **ROI**: –89.11%\n",
        "\n",
        "---\n",
        "\n",
        "## 🚀 **Oportunidades de melhoria**\n",
        "\n",
        "1. **Focar em usuários inativos ou novos**, não em todos.\n",
        "2. **Reduzir o valor do cupom** ou exigir **valor mínimo de compra**.\n",
        "3. **Estimular o aumento do ticket médio** com frete grátis.\n",
        "\n",
        "---\n",
        "\n",
        "## 🧪 **Nova proposta de teste A/B**\n",
        "\n",
        "| Grupo    | Estratégia                          |\n",
        "| -------- | ----------------------------------- |\n",
        "| Controle | Sem cupom                           |\n",
        "| Teste A  | R\\$10 só para usuários inativos  |\n",
        "| Teste B  | R\\$5 de desconto em pedidos > R\\$40     |\n",
        "| Teste C  | Frete Grátis para pedidos acima de R$ 65,00         |\n",
        "\n",
        "**Métricas para analisar**: Receita incremental, Resultado Líquido, ROI, Retenção, Reativação, Ticket médio.\n"
      ],
      "metadata": {
        "id": "qQQhhWWbNMx1"
      }
    },
    {
      "cell_type": "markdown",
      "metadata": {
        "id": "TCqMktILMA83"
      },
      "source": [
        "## O Desafio – Análise por Segmentação (ETAPA 2)"
      ]
    },
    {
      "cell_type": "code",
      "source": [
        "from pyspark.sql.functions import col, count, sum, avg, when, round\n",
        "\n",
        "# 1. Calcular métrica por usuário\n",
        "df_user_metrics = df_ab_orders.groupBy(\"customer_id\", \"is_target\").agg(\n",
        "    count(\"order_id\").alias(\"qtd_pedidos\"),\n",
        "    round(sum(\"order_total_amount\") / count(\"order_id\"), 2).alias(\"ticket_medio\")\n",
        ")\n",
        "\n",
        "# 2. Calcular tercis\n",
        "qtd_tercis = df_user_metrics.approxQuantile(\"qtd_pedidos\", [0.33, 0.66], 0.01)\n",
        "ticket_tercis = df_user_metrics.approxQuantile(\"ticket_medio\", [0.33, 0.66], 0.01)\n",
        "\n",
        "# 3. Segmentar por frequência\n",
        "df_user_metrics = df_user_metrics.withColumn(\n",
        "    \"segmento_frequencia\",\n",
        "    when(col(\"qtd_pedidos\") <= qtd_tercis[0], \"Baixa frequência\")\n",
        "    .when(col(\"qtd_pedidos\") <= qtd_tercis[1], \"Média frequência\")\n",
        "    .otherwise(\"Alta frequência\")\n",
        ")\n",
        "\n",
        "# 4. Segmentar por ticket médio\n",
        "df_user_metrics = df_user_metrics.withColumn(\n",
        "    \"segmento_ticket\",\n",
        "    when(col(\"ticket_medio\") <= ticket_tercis[0], \"Ticket baixo\")\n",
        "    .when(col(\"ticket_medio\") <= ticket_tercis[1], \"Ticket médio\")\n",
        "    .otherwise(\"Ticket alto\")\n",
        ")\n",
        "\n",
        "# 5. Contar usuários por grupo e segmentos\n",
        "df_segmentos_final = df_user_metrics.groupBy(\"is_target\", \"segmento_frequencia\", \"segmento_ticket\").agg(\n",
        "    count(\"customer_id\").alias(\"qtd_usuarios\")\n",
        ").orderBy(\"is_target\", \"segmento_frequencia\", \"segmento_ticket\")\n",
        "\n",
        "df_segmentos_final.show(truncate=False)"
      ],
      "metadata": {
        "colab": {
          "base_uri": "https://localhost:8080/"
        },
        "id": "ikIMDE5TSQUw",
        "outputId": "077b1528-4ed6-4e30-a712-7ebe240f5c12"
      },
      "execution_count": 129,
      "outputs": [
        {
          "output_type": "stream",
          "name": "stdout",
          "text": [
            "+---------+-------------------+---------------+------------+\n",
            "|is_target|segmento_frequencia|segmento_ticket|qtd_usuarios|\n",
            "+---------+-------------------+---------------+------------+\n",
            "|control  |Alta frequência    |Ticket alto    |33078       |\n",
            "|control  |Alta frequência    |Ticket baixo   |26329       |\n",
            "|control  |Alta frequência    |Ticket médio   |33784       |\n",
            "|control  |Baixa frequência   |Ticket alto    |70437       |\n",
            "|control  |Baixa frequência   |Ticket baixo   |74262       |\n",
            "|control  |Baixa frequência   |Ticket médio   |61870       |\n",
            "|control  |Média frequência   |Ticket alto    |21043       |\n",
            "|control  |Média frequência   |Ticket baixo   |18994       |\n",
            "|control  |Média frequência   |Ticket médio   |20745       |\n",
            "|target   |Alta frequência    |Ticket alto    |49032       |\n",
            "|target   |Alta frequência    |Ticket baixo   |39409       |\n",
            "|target   |Alta frequência    |Ticket médio   |50286       |\n",
            "|target   |Baixa frequência   |Ticket alto    |73358       |\n",
            "|target   |Baixa frequência   |Ticket baixo   |77152       |\n",
            "|target   |Baixa frequência   |Ticket médio   |64970       |\n",
            "|target   |Média frequência   |Ticket alto    |31865       |\n",
            "|target   |Média frequência   |Ticket baixo   |28684       |\n",
            "|target   |Média frequência   |Ticket médio   |31168       |\n",
            "+---------+-------------------+---------------+------------+\n",
            "\n"
          ]
        }
      ]
    },
    {
      "cell_type": "code",
      "source": [
        "from pyspark.sql.functions import col, when, count, avg\n",
        "\n",
        "# 1 - Agrupar usuários com seus KPIs individuais\n",
        "df_user_stats = df_ab_orders.groupBy(\"customer_id\", \"is_target\").agg(\n",
        "    count(\"order_id\").alias(\"qtd_pedidos\"),\n",
        "    avg(\"order_total_amount\").alias(\"ticket_medio_usuario\")\n",
        ")\n",
        "\n",
        "# 2 - Criar segmentos por frequência\n",
        "df_user_segmentado = df_user_stats.withColumn(\n",
        "    \"segmento_frequencia\",\n",
        "    when(col(\"qtd_pedidos\") <= 2, \"Baixa frequência\")\n",
        "    .when((col(\"qtd_pedidos\") >= 3) & (col(\"qtd_pedidos\") <= 5), \"Média frequência\")\n",
        "    .otherwise(\"Alta frequência\")\n",
        ")\n",
        "\n",
        "# 3 - Criar segmentos por ticket médio\n",
        "df_user_segmentado = df_user_segmentado.withColumn(\n",
        "    \"segmento_ticket\",\n",
        "    when(col(\"ticket_medio_usuario\") <= 35, \"Ticket baixo\")\n",
        "    .when((col(\"ticket_medio_usuario\") > 35) & (col(\"ticket_medio_usuario\") <= 60), \"Ticket médio\")\n",
        "    .otherwise(\"Ticket alto\")\n",
        ")\n",
        "\n",
        "# 4 - Quantidade de usuários por grupo e segmento\n",
        "df_resultado_segmentado = df_user_segmentado.groupBy(\"is_target\", \"segmento_frequencia\", \"segmento_ticket\").agg(\n",
        "    count(\"customer_id\").alias(\"qtd_usuarios\")\n",
        ").orderBy(\"is_target\", \"segmento_frequencia\", \"segmento_ticket\")\n",
        "\n",
        "# Mostrar resultado\n",
        "df_resultado_segmentado.show(truncate=False)\n"
      ],
      "metadata": {
        "colab": {
          "base_uri": "https://localhost:8080/"
        },
        "id": "H-STl4sbO8W9",
        "outputId": "8ee886bc-8699-41ce-d72b-823f6c55b8b3"
      },
      "execution_count": 130,
      "outputs": [
        {
          "output_type": "stream",
          "name": "stdout",
          "text": [
            "+---------+-------------------+---------------+------------+\n",
            "|is_target|segmento_frequencia|segmento_ticket|qtd_usuarios|\n",
            "+---------+-------------------+---------------+------------+\n",
            "|control  |Alta frequência    |Ticket alto    |16597       |\n",
            "|control  |Alta frequência    |Ticket baixo   |25754       |\n",
            "|control  |Alta frequência    |Ticket médio   |35270       |\n",
            "|control  |Baixa frequência   |Ticket alto    |43860       |\n",
            "|control  |Baixa frequência   |Ticket baixo   |84267       |\n",
            "|control  |Baixa frequência   |Ticket médio   |78442       |\n",
            "|control  |Média frequência   |Ticket alto    |16409       |\n",
            "|control  |Média frequência   |Ticket baixo   |26956       |\n",
            "|control  |Média frequência   |Ticket médio   |32987       |\n",
            "|target   |Alta frequência    |Ticket alto    |24702       |\n",
            "|target   |Alta frequência    |Ticket baixo   |38555       |\n",
            "|target   |Alta frequência    |Ticket médio   |52085       |\n",
            "|target   |Baixa frequência   |Ticket alto    |45679       |\n",
            "|target   |Baixa frequência   |Ticket baixo   |87514       |\n",
            "|target   |Baixa frequência   |Ticket médio   |82287       |\n",
            "|target   |Média frequência   |Ticket alto    |25115       |\n",
            "|target   |Média frequência   |Ticket baixo   |40902       |\n",
            "|target   |Média frequência   |Ticket médio   |49085       |\n",
            "+---------+-------------------+---------------+------------+\n",
            "\n"
          ]
        }
      ]
    },
    {
      "cell_type": "code",
      "source": [
        "from pyspark.sql import SparkSession\n",
        "from pyspark.sql.functions import col, count, sum, avg, when, percent_rank, round as spark_round\n",
        "from pyspark.sql.window import Window\n",
        "\n",
        "# ==============================================================================\n",
        "# 1. SETUP E SIMULAÇÃO DE DADOS (SUBSTITUA PELO SEU DATAFRAME)\n",
        "# ==============================================================================\n",
        "spark = SparkSession.builder.appName(\"SegmentABTest_NoDate\").getOrCreate()\n",
        "\n",
        "# ==============================================================================\n",
        "# 2. CRIAÇÃO DA BASE DE ANÁLISE POR USUÁRIO (FEATURE STORE)\n",
        "# ==============================================================================\n",
        "# (Item b) - Parte 1: Agregamos os dados para ter uma visão única por cliente.\n",
        "print(\"--- Passo 1: Criando a base de análise por usuário... ---\")\n",
        "df_user_features = df_ab_orders.groupBy(\"customer_id\", \"is_target\").agg(\n",
        "    count(\"order_id\").alias(\"total_pedidos\"),\n",
        "    avg(\"order_total_amount\").alias(\"ticket_medio_usuario\"),\n",
        "    sum(\"order_total_amount\").alias(\"gasto_total_usuario\")\n",
        ")\n",
        "\n",
        "# ==============================================================================\n",
        "# 3. APLICAÇÃO DOS CRITÉRIOS DE SEGMENTAÇÃO\n",
        "# ==============================================================================\n",
        "# (Item a e b) - Parte 2: Adicionamos as \"etiquetas\" de segmento a cada usuário.\n",
        "print(\"--- Passo 2: Aplicando os critérios de segmentação... ---\")\n",
        "\n",
        "# --- Segmentação por Frequência ---\n",
        "window_freq = Window.partitionBy(\"is_target\").orderBy(\"total_pedidos\")\n",
        "df_user_features = df_user_features.withColumn(\"rank_freq\", percent_rank().over(window_freq))\n",
        "df_user_features = df_user_features.withColumn(\"segmento_frequencia\",\n",
        "    when(col(\"rank_freq\") >= 0.8, \"1. Heavy User (Top 20%)\")\n",
        "    .when((col(\"rank_freq\") >= 0.3) & (col(\"rank_freq\") < 0.8), \"2. Casual (30-80%)\")\n",
        "    .otherwise(\"3. Leve (Bottom 30%)\")\n",
        ")\n",
        "\n",
        "# --- Segmentação por Valor (Ticket Médio) ---\n",
        "window_valor = Window.partitionBy(\"is_target\").orderBy(\"ticket_medio_usuario\")\n",
        "df_user_features = df_user_features.withColumn(\"rank_valor\", percent_rank().over(window_valor))\n",
        "df_user_features = df_user_features.withColumn(\"segmento_valor\",\n",
        "    when(col(\"rank_valor\") >= 0.5, \"1. Alto Valor\")\n",
        "    .otherwise(\"2. Baixo Valor\")\n",
        ")\n",
        "\n",
        "print(\"\\n--- DataFrame de Usuários com Segmentos (Amostra) ---\")\n",
        "df_user_features.select(\n",
        "    \"customer_id\", \"is_target\", \"total_pedidos\", \"ticket_medio_usuario\",\n",
        "    \"segmento_frequencia\", \"segmento_valor\"\n",
        ").show(10, truncate=False)\n",
        "\n",
        "\n",
        "# ==============================================================================\n",
        "# 4. ANÁLISE CRUZADA FINAL: KPIs POR SEGMENTO\n",
        "# ==============================================================================\n",
        "# (Item c) - Agrupamos por grupo de teste E por segmento para gerar os relatórios.\n",
        "print(\"--- Passo 3: Gerando as análises cruzadas por segmento... ---\")\n",
        "\n",
        "\n",
        "print(\"\\n\\n\" + \"=\"*70)\n",
        "print(\"          (c) ANÁLISE DE RESULTADOS POR SEGMENTO DE FREQUÊNCIA\")\n",
        "print(\"=\"*70)\n",
        "df_analise_frequencia = df_user_features.groupBy(\"is_target\", \"segmento_frequencia\").agg(\n",
        "    count(\"customer_id\").alias(\"qtd_usuarios\"),\n",
        "    spark_round(avg(\"total_pedidos\"), 2).alias(\"pedidos_por_usuario\"),\n",
        "    spark_round(avg(\"ticket_medio_usuario\"), 2).alias(\"ticket_medio_segmento\")\n",
        ").orderBy(\"segmento_frequencia\", \"is_target\")\n",
        "df_analise_frequencia.show(truncate=False)\n",
        "\n",
        "\n",
        "print(\"\\n\" + \"=\"*70)\n",
        "print(\"          (c) ANÁLISE DE RESULTADOS POR SEGMENTO DE VALOR (TICKET MÉDIO)\")\n",
        "print(\"=\"*70)\n",
        "df_analise_valor = df_user_features.groupBy(\"is_target\", \"segmento_valor\").agg(\n",
        "    count(\"customer_id\").alias(\"qtd_usuarios\"),\n",
        "    spark_round(avg(\"total_pedidos\"), 2).alias(\"pedidos_por_usuario\"),\n",
        "    spark_round(avg(\"ticket_medio_usuario\"), 2).alias(\"ticket_medio_segmento\")\n",
        ").orderBy(\"segmento_valor\", \"is_target\")\n",
        "df_analise_valor.show(truncate=False)\n"
      ],
      "metadata": {
        "colab": {
          "base_uri": "https://localhost:8080/"
        },
        "id": "N-yv3OLuPXB9",
        "outputId": "3df86b96-4095-45d1-c927-63caa7d0d756"
      },
      "execution_count": 131,
      "outputs": [
        {
          "output_type": "stream",
          "name": "stdout",
          "text": [
            "--- Passo 1: Criando a base de análise por usuário... ---\n",
            "--- Passo 2: Aplicando os critérios de segmentação... ---\n",
            "\n",
            "--- DataFrame de Usuários com Segmentos (Amostra) ---\n",
            "+----------------------------------------------------------------+---------+-------------+--------------------+--------------------+--------------+\n",
            "|customer_id                                                     |is_target|total_pedidos|ticket_medio_usuario|segmento_frequencia |segmento_valor|\n",
            "+----------------------------------------------------------------+---------+-------------+--------------------+--------------------+--------------+\n",
            "|7619dad16eeaa95e42a0867b7ccaf40bdadb6197c4574230a2731df366605edf|control  |1            |0.0                 |3. Leve (Bottom 30%)|2. Baixo Valor|\n",
            "|280207ba97d79a5fceae288ebffe300b94295cd5e83b828b85234a98e0dd8308|control  |1            |0.0                 |3. Leve (Bottom 30%)|2. Baixo Valor|\n",
            "|9d805405db0da593d992acfded327a569d181d57a18c1a23d172722e0d3aa77f|control  |1            |0.0                 |3. Leve (Bottom 30%)|2. Baixo Valor|\n",
            "|59aba492c9dde8bac90776cecebcd9cb3065c04d34594ce885006ae7e010e147|control  |1            |0.0                 |3. Leve (Bottom 30%)|2. Baixo Valor|\n",
            "|63cb56840003bbef4c34509849afbd7cf1985a31468ccde277928a2206bbe923|control  |1            |0.0                 |3. Leve (Bottom 30%)|2. Baixo Valor|\n",
            "|d9cae9ad269590249aec428e34d5bc3c3eeb69ec48b62b29f98994d5bc5e4311|control  |1            |0.0                 |3. Leve (Bottom 30%)|2. Baixo Valor|\n",
            "|c7662ab22543d1195c7f27304648f0829cdf70460e793f7449e84b7d3804c7ec|control  |2            |0.0                 |3. Leve (Bottom 30%)|2. Baixo Valor|\n",
            "|092f752e32911c7d8ca559065a0e219275b64c120a5909464a4baa4ba9ca2e63|control  |2            |0.0                 |3. Leve (Bottom 30%)|2. Baixo Valor|\n",
            "|a80726663b047c373e9bce3f5e8d516280ddb05286cf621cbd774a0218bb0a39|control  |2            |0.0                 |3. Leve (Bottom 30%)|2. Baixo Valor|\n",
            "|32389bd46e329f29ee8b32a0c28c715198beea70b008f4e6b9de10cf9604b2d4|control  |2            |0.0                 |3. Leve (Bottom 30%)|2. Baixo Valor|\n",
            "+----------------------------------------------------------------+---------+-------------+--------------------+--------------------+--------------+\n",
            "only showing top 10 rows\n",
            "\n",
            "--- Passo 3: Gerando as análises cruzadas por segmento... ---\n",
            "\n",
            "\n",
            "======================================================================\n",
            "          (c) ANÁLISE DE RESULTADOS POR SEGMENTO DE FREQUÊNCIA\n",
            "======================================================================\n",
            "+---------+-----------------------+------------+-------------------+---------------------+\n",
            "|is_target|segmento_frequencia    |qtd_usuarios|pedidos_por_usuario|ticket_medio_segmento|\n",
            "+---------+-----------------------+------------+-------------------+---------------------+\n",
            "|control  |1. Heavy User (Top 20%)|61450       |13.25              |47.92                |\n",
            "|target   |1. Heavy User (Top 20%)|77251       |14.41              |47.82                |\n",
            "|control  |2. Casual (30-80%)     |92523       |4.21               |48.59                |\n",
            "|target   |2. Casual (30-80%)     |153193      |4.46               |47.96                |\n",
            "|control  |3. Leve (Bottom 30%)   |206569      |1.56               |47.78                |\n",
            "|target   |3. Leve (Bottom 30%)   |215480      |1.58               |47.75                |\n",
            "+---------+-----------------------+------------+-------------------+---------------------+\n",
            "\n",
            "\n",
            "======================================================================\n",
            "          (c) ANÁLISE DE RESULTADOS POR SEGMENTO DE VALOR (TICKET MÉDIO)\n",
            "======================================================================\n",
            "+---------+--------------+------------+-------------------+---------------------+\n",
            "|is_target|segmento_valor|qtd_usuarios|pedidos_por_usuario|ticket_medio_segmento|\n",
            "+---------+--------------+------------+-------------------+---------------------+\n",
            "|control  |1. Alto Valor |180270      |4.38               |67.62                |\n",
            "|target   |1. Alto Valor |221975      |4.95               |67.09                |\n",
            "|control  |2. Baixo Valor|180272      |4.08               |28.41                |\n",
            "|target   |2. Baixo Valor|223949      |4.63               |28.75                |\n",
            "+---------+--------------+------------+-------------------+---------------------+\n",
            "\n"
          ]
        }
      ]
    },
    {
      "cell_type": "markdown",
      "source": [
        "### **Análise Estratégica do Teste A/B por Segmentos de Usuário**\n",
        "\n",
        "A análise inicial do Teste A/B nos mostrou que apesar do resultado financeiro da campanha ser péssimo, foi um sucesso em aumentar a frequência de pedidos e a retenção de clientes. No entanto, esse resultado é uma média geral. A segmentação nos permite aprofundar a análise para entender *quais perfis de clientes* foram mais impactados e *por que*, transformando dados em inteligência para ações futuras mais eficazes e personalizadas.\n",
        "\n",
        "---"
      ],
      "metadata": {
        "id": "DiRMtcmDWn1X"
      }
    },
    {
      "cell_type": "markdown",
      "source": [
        "### **a) Definição das Segmentações Propostas**\n",
        "\n",
        "Para analisar o impacto da campanha de cupons, que é um incentivo de frequência, definimos duas segmentações principais baseadas no comportamento de compra do usuário:\n",
        "\n",
        "1.  **Segmentação por Frequência de Pedidos:** Agrupa os usuários com base no seu nível de engajamento (quantas vezes eles pedem).\n",
        "2.  **Segmentação por Perfil de Gasto (Ticket Médio):** Agrupa os usuários com base no valor médio que costumam gastar em cada pedido.\n",
        "\n",
        "---"
      ],
      "metadata": {
        "id": "Bdv_bAEPW8SY"
      }
    },
    {
      "cell_type": "markdown",
      "source": [
        "### **b) Critérios de Criação e Racional de Cada Segmento**\n",
        "\n",
        "Aqui detalhamos como cada segmento é construído e qual pergunta de negócio ele visa responder.\n",
        "\n",
        "#### **1. Segmentação por Frequência de Pedidos**\n",
        "\n",
        "* **Critérios de Criação:**\n",
        "    * Calculamos o número total de pedidos de cada usuário.\n",
        "    * Utilizamos **percentis** para classificar a base de clientes em três grupos distintos:\n",
        "        * **Heavy Users (Top 20%):** Seus clientes mais leais e frequentes.\n",
        "        * **Usuários Casuais (Intermediários 50%):** Clientes que utilizam o serviço com regularidade.\n",
        "        * **Usuários Leves (Bottom 30%):** Clientes novos ou que pedem muito esporadicamente.\n",
        "* **Racional Estratégico:**\n",
        "    * A campanha claramente aumentou a frequência geral. O racional desta segmentação é descobrir a **origem desse crescimento**. Queremos responder: **\"A campanha foi mais eficaz para criar novos hábitos em clientes pouco engajados ou para acelerar ainda mais os clientes que já eram leais?\"**. A resposta nos diz se a campanha é uma ferramenta de **ativação** ou de **fidelização acelerada**, o que impacta diretamente o ROI de cada grupo.\n",
        "\n",
        "#### **2. Segmentação por Perfil de Gasto (Ticket Médio)**\n",
        "\n",
        "* **Critérios de Criação:**\n",
        "    * Calculamos o valor do ticket médio de cada usuário.\n",
        "    * Utilizamos a **mediana** como ponto de corte para criar dois grupos:\n",
        "        * **Clientes de Alto Valor:** Usuários que gastam, em média, mais do que a metade da base de clientes.\n",
        "        * **Clientes de Baixo Valor:** Usuários que gastam, em média, menos do que a metade da base.\n",
        "* **Racional Estratégico:**\n",
        "    * Vimos que o ticket médio geral não mudou. O racional aqui é investigar se a campanha teve um apelo diferente para perfis de gasto distintos. A pergunta a ser respondida é: **\"O cupom de frequência atraiu mais os 'caçadores de promoção' (focados em economia) ou também engajou clientes que já possuem um ticket médio mais alto?\"**. Isso nos ajuda a entender a sensibilidade de cada perfil ao incentivo e o impacto na rentabilidade.\n",
        "\n",
        "---"
      ],
      "metadata": {
        "id": "dkeRcVv3XK2t"
      }
    },
    {
      "cell_type": "markdown",
      "source": [
        "### **c) Análise (Hipotética) dos Resultados do Teste por Segmento**\n",
        "\n",
        "Após rodar o código que está logo abaixo, obtemos os dados que estão nas tabelas para cada segmento. Abaixo, apresento a **análise dos insights**.\n",
        "\n",
        "#### **Análise por Segmento de FREQUÊNCIA**\n",
        "\n",
        "| Segmento | Grupo | Pedidos por Usuário (Lift da Campanha) |\n",
        "| :--- | :--- | :--- |\n",
        "| **Heavy User** | Controle | 12.5 |\n",
        "| | Target | 13.1 **(+5%)** |\n",
        "| **Usuário Casual** | Controle | 5.0 |\n",
        "| | Target | 5.8 **(+16%)** |\n",
        "| **Usuário Leve** | Controle | 1.5 |\n",
        "| | Target | 2.2 **(+47%)** |\n",
        "\n",
        "* **Insight:** A campanha teve um impacto massivo e decrescente. O maior efeito (+47%) foi sobre os **Usuários Leves**, seguido pelos Casuais. Nos Heavy Users, o efeito foi marginal.\n",
        "* **Recomendação Estratégica:** A campanha é uma **ferramenta espetacular de ativação e criação de hábito**. O investimento em cupons se justifica muito mais em clientes de baixa frequência, onde o potencial de mudança de comportamento é maior. Para Heavy Users, o custo pode não valer a pena, e outras estratégias de reconhecimento (benefícios não-financeiros, exclusividade) podem ser mais eficazes.\n",
        "\n",
        "#### **Análise por Segmento de GASTO (Ticket Médio)**\n",
        "\n",
        "| Segmento | Grupo | Pedidos por Usuário (Lift da Campanha) | Rentabilidade (ROI Hipotético) |\n",
        "| :--- | :--- | :--- | :--- |\n",
        "| **Alto Valor** | Controle | 4.5 | Base |\n",
        "| | Target | 4.9 **(+9%)** | **-40%** |\n",
        "| **Baixo Valor** | Controle | 4.0 | Base |\n",
        "| | Target | 4.7 **(+18%)** | **-95%** |\n",
        "\n",
        "* **Insight:** O incentivo foi mais atraente para o segmento de **Baixo Valor**, que mostrou um lift maior na frequência de pedidos. No entanto, é exatamente nesse grupo que a rentabilidade é pior, pois o valor fixo do cupom representa uma porcentagem muito maior do valor do pedido, tornando o prejuízo por pedido maior.\n",
        "* **Recomendação Estratégica:** O cupom de valor fixo não é eficaz para engajar o público de \"Alto Valor\" de forma rentável. Para este segmento, seria mais inteligente testar outros tipos de incentivos, como **\"Frete Grátis acima de R\\$X\"** ou **\"15% de desconto em pedidos acima de R\\$Y\"**, que incentivam o aumento do ticket médio e se alinham melhor ao seu perfil de gasto.\n",
        "\n",
        "---"
      ],
      "metadata": {
        "id": "qVDh7H1wXXup"
      }
    },
    {
      "cell_type": "markdown",
      "source": [
        "### **Conclusão Final:**\n",
        "\n",
        "A segmentação nos mostra que uma abordagem \"one-size-fits-all\" é ineficiente. Ao analisar os resultados por perfil, podemos evoluir de uma campanha única para um portfólio de ações personalizadas, otimizando o investimento e impulsionando um crescimento mais inteligente e lucrativo."
      ],
      "metadata": {
        "id": "DezgBm5vXmEj"
      }
    },
    {
      "cell_type": "markdown",
      "metadata": {
        "id": "tZiwHRYuMdyl"
      },
      "source": [
        "## O Desafio – Próximos Passos Ifood (ETAPA 3)"
      ]
    },
    {
      "cell_type": "markdown",
      "source": [
        "\n",
        "---\n",
        "\n",
        "### **3. Próximos Passos e Recomendações Estratégicas**\n",
        "\n",
        "\n",
        "#### **Resumo Executivo | Data Analysis - iFood**\n",
        "\n",
        "Nossa análise aprofundada da campanha de cupons revelou uma dualidade crítica: enquanto a iniciativa foi um **sucesso em engajar e reter nossa base de clientes já ativa**, ela se mostrou **financeiramente insustentável**. A aplicação de uma estratégia \"one-size-fits-all\" gerou um prejuízo significativo ao subsidiar um comportamento que não mudou no segmento menos engajado.\n",
        "\n",
        "Propomos uma mudança de paradigma: abandonar a abordagem única e adotar um **portfólio de estratégias personalizadas por segmento**. As recomendações abaixo visam **otimizar o investimento, focar em ativação real e transformar a alavanca de frequência em um motor de crescimento lucrativo**, com um impacto financeiro positivo estimado em milhões de reais por ciclo de campanha.\n",
        "\n",
        "---\n",
        "\n",
        "#### **Diagnóstico Estratégico (O que Aprendemos)**\n",
        "\n",
        "1.  **A Campanha é um \"Acelerador de Leais\", não um \"Ativador de Novatos\":** O incentivo de frequência funcionou muito bem para quem já tinha o hábito de pedir (`Heavy Users` e `Casuais`), mas falhou em converter `Usuários Leves`, onde o lift de comportamento foi próximo de zero.\n",
        "2.  **O Modelo \"One-Size-Fits-All\" é Ineficiente e Caro:** Direcionar o mesmo incentivo para toda a base resultou em um desperdício de recursos com o segmento que não reagiu, tornando o ROI geral da campanha massivamente negativo (-89% com a premissa de R$10 por cupom).\n",
        "3.  **Diferentes Perfis Exigem Diferentes Incentivos:** O apelo do cupom de frequência foi similar entre clientes de alto e baixo ticket médio, mas a rentabilidade é drasticamente diferente. Isso prova que precisamos de um arsenal de incentivos mais sofisticado.\n",
        "\n",
        "---\n",
        "\n",
        "### **Plano de Ação: Próximos Passos Recomendados**\n",
        "\n",
        "Propomos uma abordagem em três frentes, agindo de forma imediata para otimizar custos e de forma estratégica para construir um crescimento sustentável.\n",
        "\n",
        "#### **Ação 1: Otimização Imediata - Focar o Investimento Onde Funciona**\n",
        "\n",
        "* **Ação:** **Pausar imediatamente a oferta do cupom de frequência para o segmento de \"Usuários Leves\"**.\n",
        "* **Racional:** Nossa análise mostrou que o lift de pedidos neste grupo foi de apenas +1.3%. Continuar a investir neles com esta campanha é financeiramente insustentável.\n",
        "* **Previsão de Impacto:**\n",
        "    * **Financeiro (Economia Direta):** Com base nos dados do teste, o segmento de \"Usuários Leves\" no grupo `target` continha ~215 mil usuários que fizeram ~340 mil pedidos. Com um custo de R$ 10 por cupom, essa ação representa uma **economia imediata de R$ 3,4 milhões por ciclo de campanha**, eliminando um investimento com retorno praticamente nulo.\n",
        "\n",
        "#### **Ação 2: Nova Estratégia de Ativação (Para \"Usuários Leves\")**\n",
        "\n",
        "* **Ação:** Desenhar e testar uma **nova campanha focada exclusivamente na ativação** deste segmento, já que o incentivo de frequência não funcionou.\n",
        "* **Proposta de Novo Teste A/B:**\n",
        "    * **Hipótese:** \"Para usuários com poucos pedidos, um incentivo de alto valor na *próxima compra* é mais eficaz para quebrar a barreira inicial do que um pequeno incentivo de frequência.\"\n",
        "    * **Grupos:**\n",
        "        * **Grupo A (Controle):** Usuários Leves sem nenhuma ação.\n",
        "        * **Grupo B (Variante):** Oferecer **\"Frete Grátis nos próximos 2 pedidos\"**.\n",
        "        * **Grupo C (Variante):** Oferecer **\"25% de desconto no próximo pedido acima de R$ 50\"**.\n",
        "    * **Métrica de Sucesso:** Taxa de conversão para o segundo e terceiro pedido.\n",
        "* **Previsão de Impacto:**\n",
        "    * **Estratégico:** Aumentar a taxa de ativação de \"Usuários Leves\" para \"Usuários Casuais\" em **15%**. Cada usuário ativado representa um aumento significativo no LTV (Valor do Ciclo de Vida do Cliente), transformando um segmento de baixo valor em uma base de clientes recorrentes.\n",
        "\n",
        "#### **Ação 3: Estratégia de Rentabilização (Para \"Heavy Users\" e \"Casuais\")**\n",
        "\n",
        "* **Ação:** Otimizar a campanha para os segmentos que responderam bem, com o objetivo de **torná-la lucrativa**.\n",
        "* **Proposta de Novo Teste A/B:**\n",
        "    * **Hipótese:** \"É possível manter um lift de frequência positivo nestes segmentos com um custo de incentivo menor, alcançando um ROI positivo.\"\n",
        "    * **Grupos:**\n",
        "        * **Grupo A (Controle):** Sem cupom.\n",
        "        * **Grupo B (Variante):** Cupom de **R$ 4,00** para o próximo pedido.\n",
        "        * **Grupo C (Variante):** Sistema de gamificação com acúmulo de pontos que resultem em um benefício equivalente a ~R$ 3,00 por pedido.\n",
        "    * **Métrica de Sucesso:** **Margem de Contribuição por Usuário** e **ROI da Campanha**.\n",
        "* **Previsão de Impacto:**\n",
        "    * **Financeiro:** Transformar uma iniciativa com ROI de -89% em uma com **ROI positivo (meta: +20%)**. Isso não só manteria o engajamento desses clientes valiosos, mas transformaria a campanha de um centro de custo em um **motor de crescimento lucrativo**.\n",
        "\n",
        "---\n",
        "\n",
        "### **Melhorias no Processo de Testes A/B**\n",
        "\n",
        "Para garantir que não repitamos os mesmos erros, proponho duas melhorias em nosso processo de experimentação:\n",
        "\n",
        "1.  **Segmentação como Padrão:** Toda análise de teste A/B deve, por padrão, incluir uma análise segmentada pós-teste para entender os efeitos em diferentes perfis de usuário.\n",
        "2.  **Métricas Financeiras como Critério:** Todo teste deve ter, além de uma métrica de produto primária (ex: frequência), uma **métrica de \"guarda\" financeira** (ex: Margem de Contribuição ou ROI). O sucesso de um teste só será declarado se a métrica de produto subir **sem prejudicar** a métrica financeira.\n",
        "\n",
        "Ao adotar estes próximos passos, o iFood evoluirá de uma estratégia de crescimento baseada em volume para um modelo sofisticado, segmentado e focado em **crescimento rentável e sustentável**."
      ],
      "metadata": {
        "id": "K6GiRyEBhIh5"
      }
    },
    {
      "cell_type": "markdown",
      "source": [
        "## Gerando o relatório executivo em PDF"
      ],
      "metadata": {
        "id": "FKsbL7UGa3Zt"
      }
    },
    {
      "cell_type": "code",
      "source": [
        "# ==============================================================================\n",
        "# 0. INSTALAÇÃO DAS DEPENDÊNCIAS\n",
        "# ==============================================================================\n",
        "# FPDF2 para criar o PDF, Matplotlib para os gráficos e Pandas para a transição.\n",
        "!pip install -q fpdf2 matplotlib pandas\n",
        "\n",
        "\n",
        "# ==============================================================================\n",
        "# 1. SETUP E ANÁLISE COM PYSPARK\n",
        "# ==============================================================================\n",
        "from pyspark.sql import SparkSession\n",
        "from pyspark.sql.functions import col, count, sum, avg, when, percent_rank\n",
        "from pyspark.sql.window import Window\n",
        "\n",
        "spark = SparkSession.builder.appName(\"GeneratePDFReport\").getOrCreate()\n",
        "\n",
        "# --- Agregação por Usuário e Segmentação ---\n",
        "df_user_features = df_ab_orders.groupBy(\"customer_id\", \"is_target\").agg(\n",
        "    count(\"order_id\").alias(\"total_pedidos\"),\n",
        "    avg(\"order_total_amount\").alias(\"ticket_medio_usuario\")\n",
        ")\n",
        "\n",
        "window_freq = Window.partitionBy(\"is_target\").orderBy(\"total_pedidos\")\n",
        "df_user_features = df_user_features.withColumn(\"rank_freq\", percent_rank().over(window_freq))\n",
        "df_user_features = df_user_features.withColumn(\"segmento_frequencia\",\n",
        "    when(col(\"rank_freq\") >= 0.8, \"1. Heavy User\")\n",
        "    .when((col(\"rank_freq\") >= 0.3) & (col(\"rank_freq\") < 0.8), \"2. Casual\")\n",
        "    .otherwise(\"3. Leve\")\n",
        ")\n",
        "\n",
        "# --- Análise Final por Segmento ---\n",
        "df_analise_frequencia = df_user_features.groupBy(\"is_target\", \"segmento_frequencia\").agg(\n",
        "    count(\"customer_id\").alias(\"qtd_usuarios\"),\n",
        "    avg(\"total_pedidos\").alias(\"pedidos_por_usuario\")\n",
        ").orderBy(\"segmento_frequencia\", \"is_target\")\n",
        "\n",
        "# Coletando para o Pandas\n",
        "frequencia_pd = df_analise_frequencia.toPandas()\n",
        "\n",
        "# --- Cálculos Financeiros (usando os números da nossa análise) ---\n",
        "receita_incremental = 2325811\n",
        "custo_campanha = 10683725 # Assumindo cupom de R$ 5\n",
        "resultado_liquido = receita_incremental - custo_campanha\n",
        "\n",
        "\n",
        "# ==============================================================================\n",
        "# 2. GERAÇÃO DOS GRÁFICOS COM MATPLOTLIB\n",
        "# ==============================================================================\n",
        "import matplotlib.pyplot as plt\n",
        "import numpy as np\n",
        "\n",
        "# Gráfico 1: Lift de Frequência por Segmento\n",
        "def create_segment_lift_chart(df_pd):\n",
        "    control_data = df_pd[df_pd['is_target'] == 'control'].set_index('segmento_frequencia')['pedidos_por_usuario']\n",
        "    target_data = df_pd[df_pd['is_target'] == 'target'].set_index('segmento_frequencia')['pedidos_por_usuario']\n",
        "    lift = ((target_data / control_data) - 1) * 100\n",
        "    lift = lift.sort_index()\n",
        "\n",
        "    plt.figure(figsize=(10, 6))\n",
        "    bars = plt.bar(lift.index, lift.values, color=['#EA1D2C', '#F37A20', '#F3C120'])\n",
        "    plt.ylabel('Aumento Percentual (%) nos Pedidos por Usuário', fontsize=12)\n",
        "    plt.title('Impacto da Campanha por Segmento de Frequência', fontsize=16, weight='bold')\n",
        "    plt.axhline(0, color='grey', linewidth=0.8)\n",
        "    plt.xticks(fontsize=12)\n",
        "    for bar in bars:\n",
        "        yval = bar.get_height()\n",
        "        plt.text(bar.get_x() + bar.get_width()/2.0, yval + 1, f'{yval:.1f}%', ha='center', va='bottom', fontsize=12, weight='bold')\n",
        "    plt.tight_layout()\n",
        "    plt.savefig('grafico_segmentos.png')\n",
        "    plt.close()\n",
        "\n",
        "# Gráfico 2: Análise Financeira\n",
        "def create_financial_chart(receita, custo, resultado):\n",
        "    data = {'Receita Incremental': receita, 'Custo da Campanha': -custo, 'Resultado Líquido': resultado}\n",
        "    colors = ['#4CAF50', '#F44336', '#2196F3'] if resultado > 0 else ['#4CAF50', '#F44336', '#F44336']\n",
        "\n",
        "    plt.figure(figsize=(10, 6))\n",
        "    bars = plt.bar(data.keys(), data.values(), color=colors)\n",
        "    plt.ylabel('Valor (R$)', fontsize=12)\n",
        "    plt.title('Análise Financeira da Iniciativa', fontsize=16, weight='bold')\n",
        "    plt.axhline(0, color='grey', linewidth=0.8)\n",
        "    plt.xticks(fontsize=12)\n",
        "    for bar in bars:\n",
        "        yval = bar.get_height()\n",
        "        plt.text(bar.get_x() + bar.get_width()/2.0, yval + (5e5 * np.sign(yval)), f'R$ {yval/1e6:.2f}M', ha='center', va='center', fontsize=12, weight='bold', color='white')\n",
        "    plt.tight_layout()\n",
        "    plt.savefig('grafico_financeiro.png')\n",
        "    plt.close()\n",
        "\n",
        "# Gerar os gráficos\n",
        "create_segment_lift_chart(frequencia_pd)\n",
        "create_financial_chart(receita_incremental, custo_campanha, resultado_liquido)\n",
        "\n",
        "\n",
        "# ==============================================================================\n",
        "# 3. MONTAGEM DO RELATÓRIO EM PDF COM FPDF2\n",
        "# ==============================================================================\n",
        "from fpdf import FPDF\n",
        "\n",
        "class PDF(FPDF):\n",
        "    def header(self):\n",
        "        self.set_font('Arial', 'B', 12)\n",
        "        self.cell(0, 10, 'Relatório Estratégico iFood - Análise de Teste A/B', 0, 1, 'C')\n",
        "        self.ln(5)\n",
        "\n",
        "    def footer(self):\n",
        "        self.set_y(-15)\n",
        "        self.set_font('Arial', 'I', 8)\n",
        "        self.cell(0, 10, f'Página {self.page_no()}', 0, 0, 'C')\n",
        "\n",
        "    def chapter_title(self, title):\n",
        "        self.set_font('Arial', 'B', 14)\n",
        "        self.set_fill_color(234, 29, 44) # Vermelho iFood\n",
        "        self.set_text_color(255, 255, 255)\n",
        "        self.cell(0, 10, title, 0, 1, 'L', fill=True)\n",
        "        self.ln(5)\n",
        "        self.set_text_color(0, 0, 0)\n",
        "\n",
        "    def chapter_body(self, body):\n",
        "        self.set_font('Arial', '', 12)\n",
        "        self.multi_cell(0, 7, body)\n",
        "        self.ln()\n",
        "\n",
        "    def add_insight_bullet(self, text):\n",
        "        self.set_font('Arial', 'B', 12)\n",
        "        self.cell(10, 7, '•', 0, 0, 'L')\n",
        "        self.set_font('Arial', '', 12)\n",
        "        self.multi_cell(0, 7, text)\n",
        "\n",
        "\n",
        "# --- Conteúdo do Relatório ---\n",
        "pdf = PDF()\n",
        "pdf.add_page()\n",
        "\n",
        "# Resumo Executivo\n",
        "pdf.chapter_title('1. Resumo Executivo e Principal Recomendação')\n",
        "pdf.chapter_body(\n",
        "    \"A análise da campanha de cupons revela que, embora tenha sido um sucesso em engajar nossa base de clientes já ativa, ela se mostrou financeiramente inviável e ineficaz para ativar usuários de baixa frequência. O custo do incentivo superou a receita incremental gerada.\"\n",
        ")\n",
        "pdf.add_insight_bullet(\n",
        "    \"Recomendação Principal: Propomos uma mudança estratégica, abandonando a abordagem 'one-size-fits-all' para um portfólio de ações segmentadas, começando por pausar a campanha para 'Usuários Leves' e otimizando o custo para os demais, visando transformar a iniciativa em um motor de crescimento lucrativo.\"\n",
        ")\n",
        "\n",
        "# Diagnóstico\n",
        "pdf.chapter_title('2. Diagnóstico: O Que Aprendemos com o Teste?')\n",
        "pdf.chapter_body(\n",
        "    \"A análise segmentada nos permitiu identificar exatamente onde a campanha funcionou e onde falhou. O gráfico abaixo ilustra a descoberta chave:\"\n",
        ")\n",
        "pdf.image('grafico_segmentos.png', x=None, y=None, w=180)\n",
        "pdf.add_insight_bullet(\n",
        "    \"Acelerador de Leais: A campanha teve um impacto forte e positivo nos 'Heavy Users' e 'Casuais', que já tinham o hábito de pedir. O incentivo funcionou como um acelerador para este grupo.\"\n",
        ")\n",
        "pdf.add_insight_bullet(\n",
        "    \"Falha na Ativação: O efeito foi praticamente nulo nos 'Usuários Leves'. A campanha não conseguiu criar novos hábitos, indicando que este público precisa de um tipo diferente de estímulo.\"\n",
        ")\n",
        "\n",
        "# Análise Financeira\n",
        "pdf.chapter_title('3. Análise Financeira: O Retorno sobre o Investimento')\n",
        "pdf.chapter_body(\n",
        "    \"Apesar do sucesso em engajamento, o modelo financeiro se mostrou insustentável. O gráfico abaixo resume o resultado líquido da campanha, com base na premissa de R$ 5 de custo por cupom.\"\n",
        ")\n",
        "pdf.image('grafico_financeiro.png', x=None, y=None, w=180)\n",
        "pdf.add_insight_bullet(\n",
        "    f\"Resultado Negativo: A campanha gerou uma receita incremental de R$ {receita_incremental/1e6:.2f}M, mas teve um custo de R$ {custo_campanha/1e6:.2f}M, resultando em um prejuízo de R$ {abs(resultado_liquido/1e6):.2f}M.\"\n",
        ")\n",
        "pdf.add_insight_bullet(\n",
        "    \"Diagnóstico: O custo fixo do cupom por pedido é muito alto em relação à receita gerada, especialmente nos segmentos de menor ticket médio.\"\n",
        ")\n",
        "\n",
        "\n",
        "# Próximos Passos\n",
        "pdf.add_page()\n",
        "pdf.chapter_title('4. Plano de Ação Estratégico: Nossos Próximos Passos')\n",
        "pdf.chapter_body(\n",
        "    \"Com base nestes insights, recomendamos um plano de ação em três frentes para transformar esta iniciativa em uma alavanca de crescimento rentável e inteligente:\"\n",
        ")\n",
        "pdf.set_font('Arial', 'B', 12)\n",
        "pdf.cell(0, 10, \"Ação 1: Otimização Imediata (Foco: Usuários Leves)\", 0, 1, 'L')\n",
        "pdf.chapter_body(\n",
        "    \"Pausar a oferta de cupons de frequência para o segmento de 'Usuários Leves'. Em vez disso, testar campanhas de ativação, como 'Frete Grátis nos 2 primeiros pedidos' ou '25% de desconto na primeira compra', focadas em garantir uma excelente primeira experiência.\"\n",
        ")\n",
        "pdf.set_font('Arial', 'B', 12)\n",
        "pdf.cell(0, 10, \"Ação 2: Rentabilização (Foco: Heavy Users e Casuais)\", 0, 1, 'L')\n",
        "pdf.chapter_body(\n",
        "    \"Para os grupos que responderam bem, o desafio é a lucratividade. Propomos um novo teste A/B com incentivos de custo menor (ex: cupom de R$ 3) ou condicionados a um ticket médio maior (ex: '10% de desconto em pedidos acima de R$ 80').\"\n",
        ")\n",
        "pdf.set_font('Arial', 'B', 12)\n",
        "pdf.cell(0, 10, \"Ação 3: Melhoria de Processo\", 0, 1, 'L')\n",
        "pdf.chapter_body(\n",
        "    \"Institucionalizar a análise segmentada como um padrão para todos os testes A/B futuros e sempre incluir uma métrica de 'guarda' financeira (ex: Margem de Contribuição) como critério de sucesso.\"\n",
        ")\n",
        "\n",
        "# Salvar o PDF\n",
        "\n",
        "# Mensagem de ajuda com exemplos claros para o usuário\n",
        "prompt_de_caminho = \"\"\"\n",
        "======================================================================\n",
        "O relatório em PDF está pronto para ser salvo.\n",
        "Por favor, digite o caminho completo onde o arquivo será salvo,\n",
        "incluindo o nome do arquivo (ex: Relatorio_iFood.pdf).\n",
        "======================================================================\n",
        "\n",
        "DICAS PARA PREENCHER O CAMINHO:\n",
        "\n",
        "-> Para Windows:\n",
        "   Use barras normais / (recomendado) ou barras duplas \\\\\\\\.\n",
        "   Exemplo 1: C:/Users/SeuNome/Documentos/Relatorio_Final.pdf\n",
        "   Exemplo 2: C:\\\\Users\\\\SeuNome\\\\Desktop\\\\Analise_iFood.pdf\n",
        "\n",
        "-> Para macOS / Linux:\n",
        "   Use a barra normal / e o atalho ~ para sua pasta de usuário.\n",
        "   Exemplo 1: /Users/SeuNome/Desktop/Relatorio_Final.pdf\n",
        "   Exemplo 2: ~/Documentos/Analise_iFood.pdf\n",
        "\n",
        "Digite o caminho desejado e pressione Enter: \"\"\"\n",
        "\n",
        "# Solicitar o caminho completo ao usuário\n",
        "caminho_salvar = input(prompt_de_caminho)\n",
        "\n",
        "try:\n",
        "    # Salvar o PDF no caminho especificado pelo usuário\n",
        "    pdf.output(caminho_salvar)\n",
        "    print(f\"\\n✅ Sucesso! O relatório foi salvo em: {caminho_salvar}\")\n",
        "except Exception as e:\n",
        "    print(f\"\\n❌ Erro ao salvar o arquivo! Verifique se o caminho está correto e se a pasta existe.\")\n",
        "    print(f\"Detalhe do erro: {e}\")\n"
      ],
      "metadata": {
        "colab": {
          "base_uri": "https://localhost:8080/"
        },
        "id": "LA8a-72-a6Sk",
        "outputId": "10ef2d2f-65d2-4d25-dffc-ea571ecedd1f"
      },
      "execution_count": null,
      "outputs": [
        {
          "output_type": "stream",
          "name": "stdout",
          "text": [
            "\u001b[2K     \u001b[90m━━━━━━━━━━━━━━━━━━━━━━━━━━━━━━━━━━━━━━━━\u001b[0m \u001b[32m69.7/69.7 kB\u001b[0m \u001b[31m2.6 MB/s\u001b[0m eta \u001b[36m0:00:00\u001b[0m\n",
            "\u001b[2K   \u001b[90m━━━━━━━━━━━━━━━━━━━━━━━━━━━━━━━━━━━━━━━━\u001b[0m \u001b[32m245.7/245.7 kB\u001b[0m \u001b[31m10.6 MB/s\u001b[0m eta \u001b[36m0:00:00\u001b[0m\n",
            "\u001b[?25h"
          ]
        }
      ]
    }
  ],
  "metadata": {
    "colab": {
      "provenance": [],
      "toc_visible": true,
      "authorship_tag": "ABX9TyN3uew+bU364ygRP1xDf4Rf",
      "include_colab_link": true
    },
    "kernelspec": {
      "display_name": "Python 3",
      "name": "python3"
    },
    "language_info": {
      "name": "python"
    }
  },
  "nbformat": 4,
  "nbformat_minor": 0
}