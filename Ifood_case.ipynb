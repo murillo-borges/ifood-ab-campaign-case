{
  "cells": [
    {
      "cell_type": "markdown",
      "metadata": {
        "id": "view-in-github",
        "colab_type": "text"
      },
      "source": [
        "<a href=\"https://colab.research.google.com/github/murillo-borges/ifood-ab-campaign-case/blob/main/Ifood_case.ipynb\" target=\"_parent\"><img src=\"https://colab.research.google.com/assets/colab-badge.svg\" alt=\"Open In Colab\"/></a>"
      ]
    },
    {
      "cell_type": "markdown",
      "metadata": {
        "id": "TFN2NnqYmCdy"
      },
      "source": [
        "## Preparação do ambiente e ETL"
      ]
    },
    {
      "cell_type": "markdown",
      "metadata": {
        "id": "TAPEK33LgNwq"
      },
      "source": [
        "### Database Pedidos"
      ]
    },
    {
      "cell_type": "code",
      "execution_count": 3,
      "metadata": {
        "colab": {
          "base_uri": "https://localhost:8080/"
        },
        "id": "Bh7E-EBFhrMs",
        "outputId": "58a67c8d-b2af-4017-cdc0-f9c0a390eaab"
      },
      "outputs": [
        {
          "output_type": "stream",
          "name": "stdout",
          "text": [
            "Reading package lists... Done\n",
            "Building dependency tree... Done\n",
            "Reading state information... Done\n",
            "The following additional packages will be installed:\n",
            "  fonts-dejavu-core fonts-dejavu-extra libatk-wrapper-java\n",
            "  libatk-wrapper-java-jni libxt-dev libxtst6 libxxf86dga1 openjdk-11-jre\n",
            "  x11-utils\n",
            "Suggested packages:\n",
            "  libxt-doc openjdk-11-demo openjdk-11-source visualvm mesa-utils\n",
            "The following NEW packages will be installed:\n",
            "  fonts-dejavu-core fonts-dejavu-extra libatk-wrapper-java\n",
            "  libatk-wrapper-java-jni libxt-dev libxtst6 libxxf86dga1 openjdk-11-jdk\n",
            "  openjdk-11-jre x11-utils\n",
            "0 upgraded, 10 newly installed, 0 to remove and 35 not upgraded.\n",
            "Need to get 6,920 kB of archives.\n",
            "After this operation, 16.9 MB of additional disk space will be used.\n",
            "Get:1 http://archive.ubuntu.com/ubuntu jammy/main amd64 fonts-dejavu-core all 2.37-2build1 [1,041 kB]\n",
            "Get:2 http://archive.ubuntu.com/ubuntu jammy/main amd64 fonts-dejavu-extra all 2.37-2build1 [2,041 kB]\n",
            "Get:3 http://archive.ubuntu.com/ubuntu jammy/main amd64 libxtst6 amd64 2:1.2.3-1build4 [13.4 kB]\n",
            "Get:4 http://archive.ubuntu.com/ubuntu jammy/main amd64 libxxf86dga1 amd64 2:1.1.5-0ubuntu3 [12.6 kB]\n",
            "Get:5 http://archive.ubuntu.com/ubuntu jammy/main amd64 x11-utils amd64 7.7+5build2 [206 kB]\n",
            "Get:6 http://archive.ubuntu.com/ubuntu jammy/main amd64 libatk-wrapper-java all 0.38.0-5build1 [53.1 kB]\n",
            "Get:7 http://archive.ubuntu.com/ubuntu jammy/main amd64 libatk-wrapper-java-jni amd64 0.38.0-5build1 [49.0 kB]\n",
            "Get:8 http://archive.ubuntu.com/ubuntu jammy/main amd64 libxt-dev amd64 1:1.2.1-1 [396 kB]\n",
            "Get:9 http://archive.ubuntu.com/ubuntu jammy-updates/main amd64 openjdk-11-jre amd64 11.0.27+6~us1-0ubuntu1~22.04 [214 kB]\n",
            "Get:10 http://archive.ubuntu.com/ubuntu jammy-updates/main amd64 openjdk-11-jdk amd64 11.0.27+6~us1-0ubuntu1~22.04 [2,895 kB]\n",
            "Fetched 6,920 kB in 0s (18.4 MB/s)\n",
            "Selecting previously unselected package fonts-dejavu-core.\n",
            "(Reading database ... 126308 files and directories currently installed.)\n",
            "Preparing to unpack .../0-fonts-dejavu-core_2.37-2build1_all.deb ...\n",
            "Unpacking fonts-dejavu-core (2.37-2build1) ...\n",
            "Selecting previously unselected package fonts-dejavu-extra.\n",
            "Preparing to unpack .../1-fonts-dejavu-extra_2.37-2build1_all.deb ...\n",
            "Unpacking fonts-dejavu-extra (2.37-2build1) ...\n",
            "Selecting previously unselected package libxtst6:amd64.\n",
            "Preparing to unpack .../2-libxtst6_2%3a1.2.3-1build4_amd64.deb ...\n",
            "Unpacking libxtst6:amd64 (2:1.2.3-1build4) ...\n",
            "Selecting previously unselected package libxxf86dga1:amd64.\n",
            "Preparing to unpack .../3-libxxf86dga1_2%3a1.1.5-0ubuntu3_amd64.deb ...\n",
            "Unpacking libxxf86dga1:amd64 (2:1.1.5-0ubuntu3) ...\n",
            "Selecting previously unselected package x11-utils.\n",
            "Preparing to unpack .../4-x11-utils_7.7+5build2_amd64.deb ...\n",
            "Unpacking x11-utils (7.7+5build2) ...\n",
            "Selecting previously unselected package libatk-wrapper-java.\n",
            "Preparing to unpack .../5-libatk-wrapper-java_0.38.0-5build1_all.deb ...\n",
            "Unpacking libatk-wrapper-java (0.38.0-5build1) ...\n",
            "Selecting previously unselected package libatk-wrapper-java-jni:amd64.\n",
            "Preparing to unpack .../6-libatk-wrapper-java-jni_0.38.0-5build1_amd64.deb ...\n",
            "Unpacking libatk-wrapper-java-jni:amd64 (0.38.0-5build1) ...\n",
            "Selecting previously unselected package libxt-dev:amd64.\n",
            "Preparing to unpack .../7-libxt-dev_1%3a1.2.1-1_amd64.deb ...\n",
            "Unpacking libxt-dev:amd64 (1:1.2.1-1) ...\n",
            "Selecting previously unselected package openjdk-11-jre:amd64.\n",
            "Preparing to unpack .../8-openjdk-11-jre_11.0.27+6~us1-0ubuntu1~22.04_amd64.deb ...\n",
            "Unpacking openjdk-11-jre:amd64 (11.0.27+6~us1-0ubuntu1~22.04) ...\n",
            "Selecting previously unselected package openjdk-11-jdk:amd64.\n",
            "Preparing to unpack .../9-openjdk-11-jdk_11.0.27+6~us1-0ubuntu1~22.04_amd64.deb ...\n",
            "Unpacking openjdk-11-jdk:amd64 (11.0.27+6~us1-0ubuntu1~22.04) ...\n",
            "Setting up libxtst6:amd64 (2:1.2.3-1build4) ...\n",
            "Setting up libxxf86dga1:amd64 (2:1.1.5-0ubuntu3) ...\n",
            "Setting up openjdk-11-jre:amd64 (11.0.27+6~us1-0ubuntu1~22.04) ...\n",
            "Setting up libxt-dev:amd64 (1:1.2.1-1) ...\n",
            "Setting up fonts-dejavu-core (2.37-2build1) ...\n",
            "Setting up fonts-dejavu-extra (2.37-2build1) ...\n",
            "Setting up x11-utils (7.7+5build2) ...\n",
            "Setting up openjdk-11-jdk:amd64 (11.0.27+6~us1-0ubuntu1~22.04) ...\n",
            "update-alternatives: using /usr/lib/jvm/java-11-openjdk-amd64/bin/jconsole to provide /usr/bin/jconsole (jconsole) in auto mode\n",
            "Setting up libatk-wrapper-java (0.38.0-5build1) ...\n",
            "Setting up libatk-wrapper-java-jni:amd64 (0.38.0-5build1) ...\n",
            "Processing triggers for fontconfig (2.13.1-4.2ubuntu5) ...\n",
            "Processing triggers for hicolor-icon-theme (0.17-2) ...\n",
            "Processing triggers for libc-bin (2.35-0ubuntu3.8) ...\n",
            "/sbin/ldconfig.real: /usr/local/lib/libtbbbind.so.3 is not a symbolic link\n",
            "\n",
            "/sbin/ldconfig.real: /usr/local/lib/libur_adapter_level_zero.so.0 is not a symbolic link\n",
            "\n",
            "/sbin/ldconfig.real: /usr/local/lib/libur_adapter_level_zero_v2.so.0 is not a symbolic link\n",
            "\n",
            "/sbin/ldconfig.real: /usr/local/lib/libtbb.so.12 is not a symbolic link\n",
            "\n",
            "/sbin/ldconfig.real: /usr/local/lib/libtbbbind_2_5.so.3 is not a symbolic link\n",
            "\n",
            "/sbin/ldconfig.real: /usr/local/lib/libur_adapter_opencl.so.0 is not a symbolic link\n",
            "\n",
            "/sbin/ldconfig.real: /usr/local/lib/libumf.so.0 is not a symbolic link\n",
            "\n",
            "/sbin/ldconfig.real: /usr/local/lib/libtbbbind_2_0.so.3 is not a symbolic link\n",
            "\n",
            "/sbin/ldconfig.real: /usr/local/lib/libtbbmalloc.so.2 is not a symbolic link\n",
            "\n",
            "/sbin/ldconfig.real: /usr/local/lib/libtbbmalloc_proxy.so.2 is not a symbolic link\n",
            "\n",
            "/sbin/ldconfig.real: /usr/local/lib/libur_loader.so.0 is not a symbolic link\n",
            "\n",
            "/sbin/ldconfig.real: /usr/local/lib/libtcm_debug.so.1 is not a symbolic link\n",
            "\n",
            "/sbin/ldconfig.real: /usr/local/lib/libtcm.so.1 is not a symbolic link\n",
            "\n",
            "/sbin/ldconfig.real: /usr/local/lib/libhwloc.so.15 is not a symbolic link\n",
            "\n",
            "Processing triggers for man-db (2.10.2-1) ...\n",
            "Processing triggers for mailcap (3.70+nmu1ubuntu1) ...\n",
            "Requirement already satisfied: pyspark in /usr/local/lib/python3.11/dist-packages (3.5.1)\n",
            "Requirement already satisfied: py4j==0.10.9.7 in /usr/local/lib/python3.11/dist-packages (from pyspark) (0.10.9.7)\n",
            "Ambiente configurado!\n",
            "\n",
            "SparkSession criada!\n",
            "\n",
            "Download concluído!\n",
            "\n",
            "Dados carregados!\n",
            "\n",
            "Primeiras linhas do DataFrame:\n",
            "+-----------+----------------------------------------------------------------+-------------+---------------------+------------------------+-------------------------+----------------------------+-------------------------+--------------------------+----------------------+-------------------------+----------------------------------------------------------------------------------------------------------------------------------------------------------------------------------------------------------------------------------------------------------------------------------------------------------------------------------------------------------------------------------------------------------------------------------------------------------------------------------------------------------------------------------------------------------------------------------------------------------------------------------------------------------------------------------------------------------------------------------------------------------------------------------------------------------------------------------------------------------------------------------------------------------------------------------------------------------------------------------------------------------------------------------------------------------------------------------------------------------------------------------------------------------------------------------------------------------------------------------------------------------------------------------------------------------------------------------------------------------------------------------------------------------------------------------------------------------------------------------------------------------------------------------------------------------------------------------------------------------------------------------------------------------------------------------------------------------------------------------------------------------------------------------------------------------------------------------------------------------------------------------------------------------------------------------------------------------------------------------------------------------------------------------------------------------------------------------------------------------------------------------------------------------------------------------------------------------------------------------------------------------------------------------------------------------------------------------------------------------------------------------------------------------------------------------------------------------------------------------------------------------------------------------------------------------------------------------------------------------------------------+----------------------------------------------------------------+-----------------+------------------+-----------------+------------------------+----------------------------------------------------------------+---------------+--------------------+------------------+---------------+\n",
            "|cpf        |customer_id                                                     |customer_name|delivery_address_city|delivery_address_country|delivery_address_district|delivery_address_external_id|delivery_address_latitude|delivery_address_longitude|delivery_address_state|delivery_address_zip_code|items                                                                                                                                                                                                                                                                                                                                                                                                                                                                                                                                                                                                                                                                                                                                                                                                                                                                                                                                                                                                                                                                                                                                                                                                                                                                                                                                                                                                                                                                                                                                                                                                                                                                                                                                                                                                                                                                                                                                                                                                                                                                                                                                                                                                                                                                                                                                                                                                                                                                                                                                                                                                                       |merchant_id                                                     |merchant_latitude|merchant_longitude|merchant_timezone|order_created_at        |order_id                                                        |order_scheduled|order_scheduled_date|order_total_amount|origin_platform|\n",
            "+-----------+----------------------------------------------------------------+-------------+---------------------+------------------------+-------------------------+----------------------------+-------------------------+--------------------------+----------------------+-------------------------+----------------------------------------------------------------------------------------------------------------------------------------------------------------------------------------------------------------------------------------------------------------------------------------------------------------------------------------------------------------------------------------------------------------------------------------------------------------------------------------------------------------------------------------------------------------------------------------------------------------------------------------------------------------------------------------------------------------------------------------------------------------------------------------------------------------------------------------------------------------------------------------------------------------------------------------------------------------------------------------------------------------------------------------------------------------------------------------------------------------------------------------------------------------------------------------------------------------------------------------------------------------------------------------------------------------------------------------------------------------------------------------------------------------------------------------------------------------------------------------------------------------------------------------------------------------------------------------------------------------------------------------------------------------------------------------------------------------------------------------------------------------------------------------------------------------------------------------------------------------------------------------------------------------------------------------------------------------------------------------------------------------------------------------------------------------------------------------------------------------------------------------------------------------------------------------------------------------------------------------------------------------------------------------------------------------------------------------------------------------------------------------------------------------------------------------------------------------------------------------------------------------------------------------------------------------------------------------------------------------------------+----------------------------------------------------------------+-----------------+------------------+-----------------+------------------------+----------------------------------------------------------------+---------------+--------------------+------------------+---------------+\n",
            "|80532101763|7ba88a68bb2a3504c6bd37a707af57a0b8d6e110a551c719c9e7f71aaf3a99cf|GUSTAVO      |FRANCA               |BR                      |JARDIM ESPRAIADO         |6736655                     |-47.39                   |-20.55                    |SP                    |14403                    |[{\"name\": \"Parmegiana de Filé de Frango (2 pessoas)\", \"addition\": {\"value\": \"0\", \"currency\": \"BRL\"}, \"discount\": {\"value\": \"0\", \"currency\": \"BRL\"}, \"quantity\": 1.00, \"sequence\": 1, \"unitPrice\": {\"value\": \"2800\", \"currency\": \"BRL\"}, \"externalId\": \"0bcd6764fd5e466d9c04b18ac0eb69e6\", \"totalValue\": {\"value\": \"2800\", \"currency\": \"BRL\"}, \"customerNote\": null, \"garnishItems\": [{\"name\": \"COM Arroz branco\", \"addition\": {\"value\": \"0\", \"currency\": \"BRL\"}, \"discount\": {\"value\": \"0\", \"currency\": \"BRL\"}, \"quantity\": 1.00, \"sequence\": 2, \"unitPrice\": {\"value\": \"0\", \"currency\": \"BRL\"}, \"categoryId\": \"13HDH\", \"externalId\": \"384bd2b4eb7d454d8e0274e7d590ab4f\", \"totalValue\": {\"value\": \"0\", \"currency\": \"BRL\"}, \"categoryName\": \"PERSONALIZAR\", \"integrationId\": null}], \"integrationId\": \"PMFR\", \"totalAddition\": {\"value\": \"0\", \"currency\": \"BRL\"}, \"totalDiscount\": {\"value\": \"0\", \"currency\": \"BRL\"}}, {\"name\": \"Lasanha Frango (2 pessoas)\", \"addition\": {\"value\": \"0\", \"currency\": \"BRL\"}, \"discount\": {\"value\": \"0\", \"currency\": \"BRL\"}, \"quantity\": 1.00, \"sequence\": 3, \"unitPrice\": {\"value\": \"1800\", \"currency\": \"BRL\"}, \"externalId\": \"a361f5eec6a44ac0817892e81bf22e80\", \"totalValue\": {\"value\": \"1800\", \"currency\": \"BRL\"}, \"customerNote\": null, \"garnishItems\": [], \"integrationId\": \"LF\", \"totalAddition\": {\"value\": \"0\", \"currency\": \"BRL\"}, \"totalDiscount\": {\"value\": \"0\", \"currency\": \"BRL\"}}]                                                                                                                                                                                                                                                                                                                                                                                                                                                                                                                                                                                                                                                                                                                                                                                                                                                                                                                                                                                                                                                                                                                                                                                              |a992a079a651e699d9149423761df2427c0e3af0a2a1b5bb6d2bad1cb3a3a265|-47.39           |-20.55            |America/Sao_Paulo|2019-01-17T22:50:06.000Z|33e0612d62e5eb42aba15b58413137e441fbe906de2febd6a6c721b0e5773b44|false          |NULL                |46.0              |ANDROID        |\n",
            "|43352103961|078acecdcf7fa89d356bfa349f14a8219db1ee161ce28ae4d9fee550c95d6fbd|MICHELLE     |SANTOS               |BR                      |CAMPO GRANDE             |8759216                     |-46.34                   |-23.96                    |SP                    |11070                    |[{\"name\": \"Filé Mignon à Cubana\", \"addition\": {\"value\": \"0\", \"currency\": \"BRL\"}, \"discount\": {\"value\": \"0\", \"currency\": \"BRL\"}, \"quantity\": 1.00, \"sequence\": 1, \"unitPrice\": {\"value\": \"0\", \"currency\": \"BRL\"}, \"externalId\": \"e0e81b2027c241cca5bf60a4768800ec\", \"totalValue\": {\"value\": \"0\", \"currency\": \"BRL\"}, \"customerNote\": null, \"garnishItems\": [{\"name\": \"334 - 1/2 porção \", \"addition\": {\"value\": \"0\", \"currency\": \"BRL\"}, \"discount\": {\"value\": \"0\", \"currency\": \"BRL\"}, \"quantity\": 1.00, \"sequence\": 2, \"unitPrice\": {\"value\": \"7350\", \"currency\": \"BRL\"}, \"categoryId\": \"1J3T0\", \"externalId\": \"b869c10747d1417d8968d7e3e1bd7de4\", \"totalValue\": {\"value\": \"7350\", \"currency\": \"BRL\"}, \"categoryName\": \"escolha sua porção \", \"integrationId\": null}], \"integrationId\": null, \"totalAddition\": {\"value\": \"0\", \"currency\": \"BRL\"}, \"totalDiscount\": {\"value\": \"0\", \"currency\": \"BRL\"}}, {\"name\": \"603- Pudim de leite\", \"addition\": {\"value\": \"0\", \"currency\": \"BRL\"}, \"discount\": {\"value\": \"0\", \"currency\": \"BRL\"}, \"quantity\": 1.00, \"sequence\": 4, \"unitPrice\": {\"value\": \"800\", \"currency\": \"BRL\"}, \"externalId\": \"4436f76edc164052aaf3c21a6567b570\", \"totalValue\": {\"value\": \"800\", \"currency\": \"BRL\"}, \"customerNote\": null, \"garnishItems\": [], \"integrationId\": null, \"totalAddition\": {\"value\": \"0\", \"currency\": \"BRL\"}, \"totalDiscount\": {\"value\": \"0\", \"currency\": \"BRL\"}}, {\"name\": \"601-Torta Holandesa\", \"addition\": {\"value\": \"0\", \"currency\": \"BRL\"}, \"discount\": {\"value\": \"0\", \"currency\": \"BRL\"}, \"quantity\": 1.00, \"sequence\": 5, \"unitPrice\": {\"value\": \"800\", \"currency\": \"BRL\"}, \"externalId\": \"c0b788e876c54f198307dc142fed7aff\", \"totalValue\": {\"value\": \"800\", \"currency\": \"BRL\"}, \"customerNote\": null, \"garnishItems\": [], \"integrationId\": null, \"totalAddition\": {\"value\": \"0\", \"currency\": \"BRL\"}, \"totalDiscount\": {\"value\": \"0\", \"currency\": \"BRL\"}}, {\"name\": \"513 - Guarnição Completa II\", \"addition\": {\"value\": \"0\", \"currency\": \"BRL\"}, \"discount\": {\"value\": \"0\", \"currency\": \"BRL\"}, \"quantity\": 1.00, \"sequence\": 3, \"unitPrice\": {\"value\": \"1500\", \"currency\": \"BRL\"}, \"externalId\": \"385fb04a358340878b14116df9970e46\", \"totalValue\": {\"value\": \"1500\", \"currency\": \"BRL\"}, \"customerNote\": null, \"garnishItems\": [], \"integrationId\": null, \"totalAddition\": {\"value\": \"0\", \"currency\": \"BRL\"}, \"totalDiscount\": {\"value\": \"0\", \"currency\": \"BRL\"}}]                                                                                                                                                                                                           |5152f28ee0518b8803ccf0a4096eb2ff8b81e9491861c9d1b673846ae027b8b0|-46.34           |-23.96            |America/Sao_Paulo|2019-01-17T17:51:26.000Z|148c4353a2952f3fe7973547283265eb22b575fb712ed2618a6cf2d813b987ad|false          |NULL                |104.5             |ANDROID        |\n",
            "|38650991217|0e38a3237b5946e8ab2367b4f1a3ae6e77f1e215bc760ca332153516c13b9c2e|VICTOR       |GUARULHOS            |BR                      |JARDIM ROSSI             |8765930                     |-46.53                   |-23.44                    |SP                    |71304                    |[{\"name\": \"GRANDE 2 SABORES\", \"addition\": {\"value\": \"0\", \"currency\": \"BRL\"}, \"discount\": {\"value\": \"0\", \"currency\": \"BRL\"}, \"quantity\": 1.00, \"sequence\": 1, \"unitPrice\": {\"value\": \"0\", \"currency\": \"BRL\"}, \"externalId\": \"87a24efdd88c4b7b8bf1132cabfd4195\", \"totalValue\": {\"value\": \"0\", \"currency\": \"BRL\"}, \"customerNote\": null, \"garnishItems\": [{\"name\": \"TRADICIONAL\", \"addition\": {\"value\": \"0\", \"currency\": \"BRL\"}, \"discount\": {\"value\": \"0\", \"currency\": \"BRL\"}, \"quantity\": 1.00, \"sequence\": 2, \"unitPrice\": {\"value\": \"0\", \"currency\": \"BRL\"}, \"categoryId\": \"0025\", \"externalId\": \"2b89a4d4d6f14541a8830e5808d1f09f\", \"totalValue\": {\"value\": \"0\", \"currency\": \"BRL\"}, \"categoryName\": \"Escolha a sua Preferência\", \"integrationId\": null}, {\"name\": \"1/2 21 - PIZZA FRANGO COM BACON E CATUPIRY \", \"addition\": {\"value\": \"0\", \"currency\": \"BRL\"}, \"discount\": {\"value\": \"0\", \"currency\": \"BRL\"}, \"quantity\": 1.00, \"sequence\": 3, \"unitPrice\": {\"value\": \"1750\", \"currency\": \"BRL\"}, \"categoryId\": \"SABOR\", \"externalId\": \"c7f63cc58a3643c7aa3f24858c7029f4\", \"totalValue\": {\"value\": \"1750\", \"currency\": \"BRL\"}, \"categoryName\": \"Escolha um sabor\", \"integrationId\": null}, {\"name\": \"1/2 21 - PIZZA FRANGO COM BACON E CATUPIRY \", \"addition\": {\"value\": \"0\", \"currency\": \"BRL\"}, \"discount\": {\"value\": \"0\", \"currency\": \"BRL\"}, \"quantity\": 1.00, \"sequence\": 3, \"unitPrice\": {\"value\": \"1750\", \"currency\": \"BRL\"}, \"categoryId\": \"SABOR2\", \"externalId\": \"c7f63cc58a3643c7aa3f24858c7029f4\", \"totalValue\": {\"value\": \"1750\", \"currency\": \"BRL\"}, \"categoryName\": \"Escolha o segundo sabor\", \"integrationId\": null}, {\"name\": \"1/2 29 - PIZZA À MODA DA CASA\", \"addition\": {\"value\": \"0\", \"currency\": \"BRL\"}, \"discount\": {\"value\": \"0\", \"currency\": \"BRL\"}, \"quantity\": 1.00, \"sequence\": 4, \"unitPrice\": {\"value\": \"1750\", \"currency\": \"BRL\"}, \"categoryId\": \"SABOR\", \"externalId\": \"0dcd4a195d6243ec806eb5a29682c797\", \"totalValue\": {\"value\": \"1750\", \"currency\": \"BRL\"}, \"categoryName\": \"Escolha um sabor\", \"integrationId\": null}, {\"name\": \"1/2 29 - PIZZA À MODA DA CASA\", \"addition\": {\"value\": \"0\", \"currency\": \"BRL\"}, \"discount\": {\"value\": \"0\", \"currency\": \"BRL\"}, \"quantity\": 1.00, \"sequence\": 4, \"unitPrice\": {\"value\": \"1750\", \"currency\": \"BRL\"}, \"categoryId\": \"SABOR2\", \"externalId\": \"0dcd4a195d6243ec806eb5a29682c797\", \"totalValue\": {\"value\": \"1750\", \"currency\": \"BRL\"}, \"categoryName\": \"Escolha o segundo sabor\", \"integrationId\": null}], \"integrationId\": null, \"totalAddition\": {\"value\": \"0\", \"currency\": \"BRL\"}, \"totalDiscount\": {\"value\": \"0\", \"currency\": \"BRL\"}}]|b6096419455c35d06105a5ef0d25c51f9dd40e1e99ac3353c133a9bae4e5ddad|-46.53           |-23.44            |America/Sao_Paulo|2019-01-17T22:53:47.000Z|c37e495a91b498bb7b70a9e09ac115d0cdd443f152dc112a5476745f84ca16cd|false          |NULL                |35.0              |IOS            |\n",
            "|63579726866|cab1a004b7206d07910092c515a79834fea0a03d7d905483121d8450003eb24c|ANNIE        |SAO PAULO            |BR                      |PARQUE SAO JORGE         |7834087                     |-46.57                   |-23.53                    |SP                    |30870                    |[{\"name\": \"CALABRESA\", \"addition\": {\"value\": \"0\", \"currency\": \"BRL\"}, \"discount\": {\"value\": \"0\", \"currency\": \"BRL\"}, \"quantity\": 1.00, \"sequence\": 1, \"unitPrice\": {\"value\": \"2040\", \"currency\": \"BRL\"}, \"externalId\": \"5b598957c69a4aa68e02a20e3ce617a1\", \"totalValue\": {\"value\": \"2040\", \"currency\": \"BRL\"}, \"customerNote\": null, \"garnishItems\": [], \"integrationId\": null, \"totalAddition\": {\"value\": \"0\", \"currency\": \"BRL\"}, \"totalDiscount\": {\"value\": \"0\", \"currency\": \"BRL\"}}, {\"name\": \"CHEESE SALADA\", \"addition\": {\"value\": \"0\", \"currency\": \"BRL\"}, \"discount\": {\"value\": \"0\", \"currency\": \"BRL\"}, \"quantity\": 1.00, \"sequence\": 2, \"unitPrice\": {\"value\": \"2040\", \"currency\": \"BRL\"}, \"externalId\": \"3a64b961d342467ea23792556c99f7c2\", \"totalValue\": {\"value\": \"2040\", \"currency\": \"BRL\"}, \"customerNote\": \"Sem tomate\", \"garnishItems\": [], \"integrationId\": null, \"totalAddition\": {\"value\": \"0\", \"currency\": \"BRL\"}, \"totalDiscount\": {\"value\": \"0\", \"currency\": \"BRL\"}}]                                                                                                                                                                                                                                                                                                                                                                                                                                                                                                                                                                                                                                                                                                                                                                                                                                                                                                                                                                                                                                                                                                                                                                                                                                                                                                                                                                                                                                                                                                                                                                                                                                |082bfdcdf6ccdc343e3c4d25ee376b5b6ca7e96ad8b04e66db1391f3fd0d34c9|-46.57           |-23.53            |America/Sao_Paulo|2019-01-17T23:56:53.000Z|b4df94142d21354611247da9ca94f870c09b93989b531afdcc251e06fc90af03|false          |NULL                |40.8              |IOS            |\n",
            "|90617788806|aa7edf5b166b8c843aec3b96dc561222888734f3879123e89e65521faff96e9a|DANIEL       |VITORIA              |BR                      |JARDIM CAMBURI           |7211683                     |-40.27                   |-20.25                    |ES                    |29090                    |[{\"name\": \"GRANDE (35CM) 8 PDÇ 2 SABORES\", \"addition\": {\"value\": \"0\", \"currency\": \"BRL\"}, \"discount\": {\"value\": \"0\", \"currency\": \"BRL\"}, \"quantity\": 1.00, \"sequence\": 1, \"unitPrice\": {\"value\": \"0\", \"currency\": \"BRL\"}, \"externalId\": \"83127d50665f4a269febd427eb49306b\", \"totalValue\": {\"value\": \"0\", \"currency\": \"BRL\"}, \"customerNote\": null, \"garnishItems\": [{\"name\": \"BORDA CATUPIRY GRÁTIS \", \"addition\": {\"value\": \"0\", \"currency\": \"BRL\"}, \"discount\": {\"value\": \"0\", \"currency\": \"BRL\"}, \"quantity\": 1.00, \"sequence\": 2, \"unitPrice\": {\"value\": \"0\", \"currency\": \"BRL\"}, \"categoryId\": \"0025\", \"externalId\": \"e9a71c078a6045eabb09bd4d38b991c6\", \"totalValue\": {\"value\": \"0\", \"currency\": \"BRL\"}, \"categoryName\": \"Escolha a sua Preferência\", \"integrationId\": null}, {\"name\": \"1/2 MISTA\", \"addition\": {\"value\": \"0\", \"currency\": \"BRL\"}, \"discount\": {\"value\": \"0\", \"currency\": \"BRL\"}, \"quantity\": 1.00, \"sequence\": 3, \"unitPrice\": {\"value\": \"2425\", \"currency\": \"BRL\"}, \"categoryId\": \"SABOR\", \"externalId\": \"46510932dfd448af910ae16e112a8d3a\", \"totalValue\": {\"value\": \"2425\", \"currency\": \"BRL\"}, \"categoryName\": \"Escolha um sabor\", \"integrationId\": null}, {\"name\": \"1/2 MISTA\", \"addition\": {\"value\": \"0\", \"currency\": \"BRL\"}, \"discount\": {\"value\": \"0\", \"currency\": \"BRL\"}, \"quantity\": 1.00, \"sequence\": 3, \"unitPrice\": {\"value\": \"2425\", \"currency\": \"BRL\"}, \"categoryId\": \"SABOR2\", \"externalId\": \"46510932dfd448af910ae16e112a8d3a\", \"totalValue\": {\"value\": \"2425\", \"currency\": \"BRL\"}, \"categoryName\": \"Escolha o segundo sabor\", \"integrationId\": null}, {\"name\": \"1/2 À MODA CAPIXABA\", \"addition\": {\"value\": \"0\", \"currency\": \"BRL\"}, \"discount\": {\"value\": \"0\", \"currency\": \"BRL\"}, \"quantity\": 1.00, \"sequence\": 4, \"unitPrice\": {\"value\": \"2425\", \"currency\": \"BRL\"}, \"categoryId\": \"SABOR\", \"externalId\": \"5be89603526f4c42a6d9ac9e05f8a19a\", \"totalValue\": {\"value\": \"2425\", \"currency\": \"BRL\"}, \"categoryName\": \"Escolha um sabor\", \"integrationId\": null}, {\"name\": \"1/2 À MODA CAPIXABA\", \"addition\": {\"value\": \"0\", \"currency\": \"BRL\"}, \"discount\": {\"value\": \"0\", \"currency\": \"BRL\"}, \"quantity\": 1.00, \"sequence\": 4, \"unitPrice\": {\"value\": \"2425\", \"currency\": \"BRL\"}, \"categoryId\": \"SABOR2\", \"externalId\": \"5be89603526f4c42a6d9ac9e05f8a19a\", \"totalValue\": {\"value\": \"2425\", \"currency\": \"BRL\"}, \"categoryName\": \"Escolha o segundo sabor\", \"integrationId\": null}], \"integrationId\": null, \"totalAddition\": {\"value\": \"0\", \"currency\": \"BRL\"}, \"totalDiscount\": {\"value\": \"0\", \"currency\": \"BRL\"}}]                                                                |d7adb764bac29ccb77fb8f746ffbd531bf05ec30a7e1306afed1fc1a821b7854|-40.27           |-20.25            |America/Sao_Paulo|2019-01-17T23:40:53.000Z|4ff64b33b272c1886df21b63272220af6a82d1667dba70dad201810d98608dd8|false          |NULL                |48.5              |ANDROID        |\n",
            "+-----------+----------------------------------------------------------------+-------------+---------------------+------------------------+-------------------------+----------------------------+-------------------------+--------------------------+----------------------+-------------------------+----------------------------------------------------------------------------------------------------------------------------------------------------------------------------------------------------------------------------------------------------------------------------------------------------------------------------------------------------------------------------------------------------------------------------------------------------------------------------------------------------------------------------------------------------------------------------------------------------------------------------------------------------------------------------------------------------------------------------------------------------------------------------------------------------------------------------------------------------------------------------------------------------------------------------------------------------------------------------------------------------------------------------------------------------------------------------------------------------------------------------------------------------------------------------------------------------------------------------------------------------------------------------------------------------------------------------------------------------------------------------------------------------------------------------------------------------------------------------------------------------------------------------------------------------------------------------------------------------------------------------------------------------------------------------------------------------------------------------------------------------------------------------------------------------------------------------------------------------------------------------------------------------------------------------------------------------------------------------------------------------------------------------------------------------------------------------------------------------------------------------------------------------------------------------------------------------------------------------------------------------------------------------------------------------------------------------------------------------------------------------------------------------------------------------------------------------------------------------------------------------------------------------------------------------------------------------------------------------------------------------+----------------------------------------------------------------+-----------------+------------------+-----------------+------------------------+----------------------------------------------------------------+---------------+--------------------+------------------+---------------+\n",
            "only showing top 5 rows\n",
            "\n",
            "\n",
            " Estrutura do DataFrame:\n",
            "root\n",
            " |-- cpf: string (nullable = true)\n",
            " |-- customer_id: string (nullable = true)\n",
            " |-- customer_name: string (nullable = true)\n",
            " |-- delivery_address_city: string (nullable = true)\n",
            " |-- delivery_address_country: string (nullable = true)\n",
            " |-- delivery_address_district: string (nullable = true)\n",
            " |-- delivery_address_external_id: string (nullable = true)\n",
            " |-- delivery_address_latitude: string (nullable = true)\n",
            " |-- delivery_address_longitude: string (nullable = true)\n",
            " |-- delivery_address_state: string (nullable = true)\n",
            " |-- delivery_address_zip_code: string (nullable = true)\n",
            " |-- items: string (nullable = true)\n",
            " |-- merchant_id: string (nullable = true)\n",
            " |-- merchant_latitude: string (nullable = true)\n",
            " |-- merchant_longitude: string (nullable = true)\n",
            " |-- merchant_timezone: string (nullable = true)\n",
            " |-- order_created_at: string (nullable = true)\n",
            " |-- order_id: string (nullable = true)\n",
            " |-- order_scheduled: boolean (nullable = true)\n",
            " |-- order_scheduled_date: string (nullable = true)\n",
            " |-- order_total_amount: double (nullable = true)\n",
            " |-- origin_platform: string (nullable = true)\n",
            "\n"
          ]
        }
      ],
      "source": [
        "# 1 - Instalação e configuração do ambiente\n",
        "!apt-get install openjdk-11-jdk -y\n",
        "!pip install pyspark\n",
        "import os\n",
        "os.environ[\"JAVA_HOME\"] = \"/usr/lib/jvm/java-11-openjdk-amd64\"\n",
        "print(\"Ambiente configurado!\\n\")\n",
        "\n",
        "# 2 - Iniciando a SparkSession\n",
        "from pyspark.sql import SparkSession\n",
        "spark = SparkSession.builder.master(\"local[*]\").appName(\"iFood Order Case\").getOrCreate()\n",
        "print(\"SparkSession criada!\\n\")\n",
        "\n",
        "# 3 - Baixando o arquivo order.json.gz\n",
        "import urllib.request\n",
        "url = \"https://data-architect-test-source.s3-sa-east-1.amazonaws.com/order.json.gz\"\n",
        "local_path = \"order.json.gz\"\n",
        "urllib.request.urlretrieve(url, local_path)\n",
        "print(\"Download concluído!\\n\")\n",
        "\n",
        "# 4 - Lendo o arquivo JSON compactado com PySpark\n",
        "df_order = spark.read.json(local_path, multiLine=False)\n",
        "print(\"Dados carregados!\\n\")\n",
        "\n",
        "# 5 - Exibindo as primeiras linhas do DataFrame\n",
        "print(\"Primeiras linhas do DataFrame:\")\n",
        "df_order.show(5, truncate=False)\n",
        "\n",
        "# 6 - Exibindo o schema do DataFrame\n",
        "print(\"\\n Estrutura do DataFrame:\")\n",
        "df_order.printSchema()"
      ]
    },
    {
      "cell_type": "markdown",
      "metadata": {
        "id": "YpFGp2zpjXWK"
      },
      "source": [
        "### Database Usuários"
      ]
    },
    {
      "cell_type": "code",
      "execution_count": 4,
      "metadata": {
        "colab": {
          "base_uri": "https://localhost:8080/"
        },
        "id": "gMPO4ow1jayv",
        "outputId": "c09f7706-9807-4f3a-b281-7accc0f6aa71"
      },
      "outputs": [
        {
          "output_type": "stream",
          "name": "stdout",
          "text": [
            "Download concluído!\n",
            "\n",
            "Arquivo carregado em um DataFrame Spark!\n",
            "\n",
            "Primeiras linhas do dataset:\n",
            "+----------------------------------------------------------------+--------+-----------------------+------+-------------+-------------------+---------------------+\n",
            "|customer_id                                                     |language|created_at             |active|customer_name|customer_phone_area|customer_phone_number|\n",
            "+----------------------------------------------------------------+--------+-----------------------+------+-------------+-------------------+---------------------+\n",
            "|e8cc60860e09c0bb19610b06ced69c973eb83982cfc98e397ce65cba92f70928|pt-br   |2018-04-05 14:49:18.165|true  |NUNO         |46                 |816135924            |\n",
            "|a2834a38a9876cf74e016524dd2e8c1f010ee12b2b684d58c40ab11eef19b6eb|pt-br   |2018-01-14 21:40:02.141|true  |ADRIELLY     |59                 |231330577            |\n",
            "|41e1051728eba13341136d67d0757f8d8cc44b2a405b718a8c5efba2c093b2c0|pt-br   |2018-01-07 03:47:15.554|true  |PAULA        |62                 |347597883            |\n",
            "|8e7c1dcb64edf95c935147f6d560cb068c44714cb1b21b287f1f433ae7b0b04e|pt-br   |2018-01-10 22:17:08.16 |true  |HELTON       |13                 |719366842            |\n",
            "|7823d4cf4150c5daeae0bd799206852fc123bdef0cf5d1639c8cb568d73e8c83|pt-br   |2018-04-06 00:16:20.935|true  |WENDER       |76                 |543232158            |\n",
            "+----------------------------------------------------------------+--------+-----------------------+------+-------------+-------------------+---------------------+\n",
            "only showing top 5 rows\n",
            "\n",
            "\n",
            " Estrutura geral do dataset:\n",
            "root\n",
            " |-- customer_id: string (nullable = true)\n",
            " |-- language: string (nullable = true)\n",
            " |-- created_at: timestamp (nullable = true)\n",
            " |-- active: boolean (nullable = true)\n",
            " |-- customer_name: string (nullable = true)\n",
            " |-- customer_phone_area: integer (nullable = true)\n",
            " |-- customer_phone_number: integer (nullable = true)\n",
            "\n"
          ]
        }
      ],
      "source": [
        "# 1 - Baixando o arquivo CSV compactado (.gz) da internet\n",
        "import urllib.request\n",
        "\n",
        "url = \"https://data-architect-test-source.s3-sa-east-1.amazonaws.com/consumer.csv.gz\"\n",
        "local_path = \"consumer.csv.gz\"\n",
        "urllib.request.urlretrieve(url, local_path)\n",
        "print(\"Download concluído!\\n\")\n",
        "\n",
        "# 2 - Lendo o arquivo CSV com PySpark\n",
        "df_consumer = spark.read.option(\"header\", True).option(\"inferSchema\", True).csv(local_path)\n",
        "print(\"Arquivo carregado em um DataFrame Spark!\\n\")\n",
        "\n",
        "# 3 - Exibindo as primeiras linhas do DataFrame\n",
        "print(\"Primeiras linhas do dataset:\")\n",
        "df_consumer.show(5, truncate=False)\n",
        "\n",
        "# 4 - Exibindo o schema do DataFrame\n",
        "print(\"\\n Estrutura geral do dataset:\")\n",
        "df_consumer.printSchema()"
      ]
    },
    {
      "cell_type": "markdown",
      "metadata": {
        "id": "O_lFsFpUeNX7"
      },
      "source": [
        "### Database Merchants - Restaurantes"
      ]
    },
    {
      "cell_type": "code",
      "execution_count": 5,
      "metadata": {
        "colab": {
          "base_uri": "https://localhost:8080/"
        },
        "id": "KxV9Ekt4i-JB",
        "outputId": "194f6eee-c610-47d6-9518-23b01f03f1b6"
      },
      "outputs": [
        {
          "output_type": "stream",
          "name": "stdout",
          "text": [
            "Download concluído!\n",
            "\n",
            "Arquivo carregado em um DataFrame Spark!\n",
            "\n",
            "Primeiras linhas do dataset:\n",
            "+----------------------------------------------------------------+-----------------------+-------+-----------+--------------+------------+-------------+-------------------+-----------------+--------------+--------------+----------------+\n",
            "|id                                                              |created_at             |enabled|price_range|average_ticket|takeout_time|delivery_time|minimum_order_value|merchant_zip_code|merchant_city |merchant_state|merchant_country|\n",
            "+----------------------------------------------------------------+-----------------------+-------+-----------+--------------+------------+-------------+-------------------+-----------------+--------------+--------------+----------------+\n",
            "|d19ff6fca6288939bff073ad0a119d25c0365c407e9e5dd999e7a3e53c6d5d76|2017-01-23 12:52:30.91 |false  |3          |60.0          |0           |50           |30.0               |14025            |RIBEIRAO PRETO|SP            |BR              |\n",
            "|631df0985fdbbaf27b9b031a8f381924e3483833385748c8f7e1a41a6891d2b9|2017-01-20 13:14:48.286|true   |3          |60.0          |0           |0            |30.0               |50180            |SAO PAULO     |SP            |BR              |\n",
            "|135c5c4ae4c1ec1fdc23e8c649f313e39be8db913d8bc5aaff9bfddb548f096d|2017-01-23 12:46:33.457|true   |5          |100.0         |0           |45           |10.0               |23090            |RIO DE JANEIRO|RJ            |BR              |\n",
            "|d26f84c470451f752bef036c55517b6d9950d41806f10e94e8b5734241468768|2017-01-20 13:15:04.806|true   |3          |80.0          |0           |0            |18.9               |40255            |SALVADOR      |BA            |BR              |\n",
            "|97b9884600ea7192314580d9115f8882b8634f5aa201ff9a6df206e49343a283|2017-01-20 13:14:27.701|true   |3          |60.0          |0           |0            |25.0               |64600            |BARUERI       |SP            |BR              |\n",
            "+----------------------------------------------------------------+-----------------------+-------+-----------+--------------+------------+-------------+-------------------+-----------------+--------------+--------------+----------------+\n",
            "only showing top 5 rows\n",
            "\n",
            "\n",
            " Estrutura geral do dataset:\n",
            "root\n",
            " |-- id: string (nullable = true)\n",
            " |-- created_at: timestamp (nullable = true)\n",
            " |-- enabled: boolean (nullable = true)\n",
            " |-- price_range: integer (nullable = true)\n",
            " |-- average_ticket: double (nullable = true)\n",
            " |-- takeout_time: integer (nullable = true)\n",
            " |-- delivery_time: integer (nullable = true)\n",
            " |-- minimum_order_value: double (nullable = true)\n",
            " |-- merchant_zip_code: integer (nullable = true)\n",
            " |-- merchant_city: string (nullable = true)\n",
            " |-- merchant_state: string (nullable = true)\n",
            " |-- merchant_country: string (nullable = true)\n",
            "\n"
          ]
        }
      ],
      "source": [
        "# 1 - Baixando o arquivo CSV compactado (.gz) da internet\n",
        "import urllib.request\n",
        "\n",
        "url = \"https://data-architect-test-source.s3-sa-east-1.amazonaws.com/restaurant.csv.gz\"\n",
        "local_path = \"restaurant.csv.gz\"\n",
        "urllib.request.urlretrieve(url, local_path)\n",
        "print(\"Download concluído!\\n\")\n",
        "\n",
        "# 2 - Lendo o arquivo CSV com PySpark\n",
        "df_restaurant = spark.read.option(\"header\", True).option(\"inferSchema\", True).csv(local_path)\n",
        "print(\"Arquivo carregado em um DataFrame Spark!\\n\")\n",
        "\n",
        "# 3 - Exibindo as primeiras linhas do DataFrame\n",
        "print(\"Primeiras linhas do dataset:\")\n",
        "df_restaurant.show(5, truncate=False)\n",
        "\n",
        "# 4 - Exibindo o schema do DataFrame\n",
        "print(\"\\n Estrutura geral do dataset:\")\n",
        "df_restaurant.printSchema()"
      ]
    },
    {
      "cell_type": "markdown",
      "metadata": {
        "id": "Gye7UAj6d-V1"
      },
      "source": [
        "### Database Marcação de usuários que participaram do teste A/B"
      ]
    },
    {
      "cell_type": "code",
      "execution_count": 6,
      "metadata": {
        "colab": {
          "base_uri": "https://localhost:8080/"
        },
        "id": "NdghaOfreqlG",
        "outputId": "5350a4be-9f1a-472b-e9e3-b6fbb5ee3d2b"
      },
      "outputs": [
        {
          "output_type": "stream",
          "name": "stdout",
          "text": [
            "Reading package lists... Done\n",
            "Building dependency tree... Done\n",
            "Reading state information... Done\n",
            "openjdk-11-jdk is already the newest version (11.0.27+6~us1-0ubuntu1~22.04).\n",
            "0 upgraded, 0 newly installed, 0 to remove and 35 not upgraded.\n",
            "Requirement already satisfied: pyspark in /usr/local/lib/python3.11/dist-packages (3.5.1)\n",
            "Requirement already satisfied: py4j==0.10.9.7 in /usr/local/lib/python3.11/dist-packages (from pyspark) (0.10.9.7)\n",
            "Download concluído!\n",
            "\n",
            "✅ Extração concluída!\n",
            "\n",
            "Lendo arquivo: ab_test_ref_extracted/ab_test_ref.csv\n",
            "Primeiras linhas do DataFrame:\n",
            "+----------------------------------------------------------------+---------+\n",
            "|customer_id                                                     |is_target|\n",
            "+----------------------------------------------------------------+---------+\n",
            "|755e1fa18f25caec5edffb188b13fd844b2af8cf5adedcf77c028f36cb9382ea|target   |\n",
            "|b821aa8372b8e5b82cdc283742757df8c45eecdd72adf411716e710525d4edf1|control  |\n",
            "|d425d6ee4c9d4e211b71da8fc60bf6c5336b2ea9af9cc007f5297541ec40b63b|control  |\n",
            "|6a7089eea0a5dc294fbccd4fa24d0d84a90c1cc12e829c8b535718bbc651ab02|target   |\n",
            "|dad6b7e222bab31c0332b0ccd9fa5dbd147008facd268f5e3763fa657c23a58d|control  |\n",
            "+----------------------------------------------------------------+---------+\n",
            "only showing top 5 rows\n",
            "\n",
            "\n",
            " Estrutura do DataFrame:\n",
            "root\n",
            " |-- customer_id: string (nullable = true)\n",
            " |-- is_target: string (nullable = true)\n",
            "\n"
          ]
        }
      ],
      "source": [
        "# 1 - Instalando Java e PySpark no Google Colab\n",
        "!apt-get install openjdk-11-jdk -y\n",
        "!pip install pyspark\n",
        "\n",
        "import os\n",
        "os.environ[\"JAVA_HOME\"] = \"/usr/lib/jvm/java-11-openjdk-amd64\"\n",
        "\n",
        "# 2 - Iniciando SparkSession\n",
        "from pyspark.sql import SparkSession\n",
        "spark = SparkSession.builder.master(\"local[*]\").appName(\"AB Test Case\").getOrCreate()\n",
        "\n",
        "# 3 - Baixando o arquivo .tar.gz\n",
        "import urllib.request\n",
        "import tarfile\n",
        "\n",
        "url = \"https://data-architect-test-source.s3-sa-east-1.amazonaws.com/ab_test_ref.tar.gz\"\n",
        "local_tar_path = \"ab_test_ref.tar.gz\"\n",
        "urllib.request.urlretrieve(url, local_tar_path)\n",
        "print(\"Download concluído!\\n\")\n",
        "\n",
        "# 4 - Extraindo o conteúdo\n",
        "extract_path = \"ab_test_ref_extracted\"\n",
        "os.makedirs(extract_path, exist_ok=True)\n",
        "with tarfile.open(local_tar_path, \"r:gz\") as tar:\n",
        "    tar.extractall(path=extract_path)\n",
        "print(\"✅ Extração concluída!\\n\")\n",
        "\n",
        "# 5 - Caminho direto para o arquivo extraído\n",
        "csv_path = os.path.join(extract_path, \"ab_test_ref.csv\")\n",
        "print(f\"Lendo arquivo: {csv_path}\")\n",
        "\n",
        "# 6 - Definir schema do arquivo\n",
        "from pyspark.sql.types import StructType, StructField, StringType\n",
        "schema = StructType([\n",
        "    StructField(\"customer_id\", StringType(), True),\n",
        "    StructField(\"is_target\", StringType(), True),\n",
        "])\n",
        "\n",
        "# 7 - Leitura do CSV com PySpark\n",
        "df_ab_test = spark.read.option(\"header\", True)\\\n",
        "                       .option(\"sep\", \",\")\\\n",
        "                       .schema(schema)\\\n",
        "                       .csv(csv_path)\n",
        "\n",
        "# 8 - Visualizar os dados\n",
        "print(\"Primeiras linhas do DataFrame:\")\n",
        "df_ab_test.show(5, truncate=False)\n",
        "\n",
        "print(\"\\n Estrutura do DataFrame:\")\n",
        "df_ab_test.printSchema()\n"
      ]
    },
    {
      "cell_type": "markdown",
      "metadata": {
        "id": "facae9bd"
      },
      "source": [
        "**Explanation of the fix:**\n",
        "\n",
        "1.  **`items_schema`**: We define a `StructType` that matches the expected structure of each item within the `items` array. This includes nested `StructType` for fields like `addition`, `discount`, `unitPrice`, `totalValue`, `totalAddition`, and `totalDiscount`, and an `ArrayType` for `garnishItems`. I've used `StringType` for currency values and prices based on the example data in the output of cell `Bh7E-EBFhrMs`, and `LongType` for `sequence`.\n",
        "2.  **`from_json(col(\"items\"), items_schema)`**: This function parses the JSON string in the `items` column according to the `items_schema` we defined. The result is a new column named `parsed_items` which is of type `ArrayType(StructType(...))`.\n",
        "3.  **`explode(\"parsed_items\")`**: Now that `parsed_items` is an array type, we can successfully apply the `explode` function to it. This creates a new row for each item in the array.\n",
        "4.  **`df_exploded.select(\"order_id\", \"item.*\").show(5, truncate=False)`**: This line selects the original `order_id` and all the fields from the exploded `item` column to show the result of the explosion.\n",
        "\n",
        "This corrected code will successfully extract the individual items from the `items` column and create a new row for each item, allowing you to analyze the items within each order."
      ]
    },
    {
      "cell_type": "markdown",
      "metadata": {
        "id": "hols3Z15zeOB"
      },
      "source": [
        "## O Desafio – Análise do teste A/B (ETAPA 1)"
      ]
    },
    {
      "cell_type": "markdown",
      "metadata": {
        "id": "4H11cXAo57BQ"
      },
      "source": [
        "### a) Definindo os indicadores relevantes para mensurar o sucesso da campanha e analisar se ela teve impacto significativo dentro do período avaliado:"
      ]
    },
    {
      "cell_type": "markdown",
      "metadata": {
        "id": "LTOr4SQVtBPf"
      },
      "source": [
        "1. Join dos dados de pedidos com teste A/B e restaurantes\n"
      ]
    },
    {
      "cell_type": "code",
      "execution_count": 8,
      "metadata": {
        "id": "OBtv_guZtFJN"
      },
      "outputs": [],
      "source": [
        "# Base principal de análise\n",
        "df_ab_orders = df_order.join(df_ab_test, on=\"customer_id\", how=\"inner\")\n",
        "df_ab_orders = df_ab_orders.join(df_restaurant, df_ab_orders[\"merchant_id\"] == df_restaurant[\"id\"], \"inner\")"
      ]
    },
    {
      "cell_type": "markdown",
      "metadata": {
        "id": "Tq1vHIf1tHqa"
      },
      "source": [
        "2. KPIs principais por grupo (usuários e pedidos)"
      ]
    },
    {
      "cell_type": "code",
      "execution_count": 9,
      "metadata": {
        "id": "cfyI7uSBtKx8"
      },
      "outputs": [],
      "source": [
        "from pyspark.sql.functions import col, countDistinct, count, sum, avg\n",
        "\n",
        "df_metrics = df_ab_orders.groupBy(\"is_target\").agg(\n",
        "    countDistinct(\"customer_id\").alias(\"qtd_usuarios\"),\n",
        "    count(\"order_id\").alias(\"qtd_pedidos\"),\n",
        "    sum(\"order_total_amount\").alias(\"valor_total_pedidos\"),\n",
        "    avg(\"order_total_amount\").alias(\"ticket_medio\")\n",
        ").withColumn(\n",
        "    \"pedidos_por_usuario\", col(\"qtd_pedidos\") / col(\"qtd_usuarios\")\n",
        ")"
      ]
    },
    {
      "cell_type": "markdown",
      "metadata": {
        "id": "Y50CyjgAtQtk"
      },
      "source": [
        "3. Retenção de usuários (usuários com >1 pedido)\n"
      ]
    },
    {
      "cell_type": "code",
      "execution_count": 10,
      "metadata": {
        "id": "vLYoObQntTOR"
      },
      "outputs": [],
      "source": [
        "from pyspark.sql.functions import when, round\n",
        "\n",
        "df_freq = df_ab_orders.groupBy(\"is_target\", \"customer_id\").agg(count(\"order_id\").alias(\"qtd_pedidos\"))\n",
        "\n",
        "df_retencao = df_freq.groupBy(\"is_target\").agg(\n",
        "    count(\"*\").alias(\"total_usuarios\"),\n",
        "    count(when(col(\"qtd_pedidos\") > 1, True)).alias(\"usuarios_retidos\")\n",
        ").withColumn(\n",
        "    \"taxa_retencao\", round((col(\"usuarios_retidos\") / col(\"total_usuarios\")) * 100, 2)\n",
        ").select(\"is_target\", \"taxa_retencao\")"
      ]
    },
    {
      "cell_type": "markdown",
      "metadata": {
        "id": "SME_og03tWHI"
      },
      "source": [
        "4. Incremento percentual do ticket médio\n"
      ]
    },
    {
      "cell_type": "code",
      "execution_count": 11,
      "metadata": {
        "id": "a21p1cUDtYR8"
      },
      "outputs": [],
      "source": [
        "from pyspark.sql.functions import first\n",
        "\n",
        "df_ticket_medio = df_ab_orders.groupBy(\"is_target\").agg(round(avg(\"order_total_amount\"), 2).alias(\"ticket_medio\"))\n",
        "\n",
        "df_incremento = df_ticket_medio.groupBy().pivot(\"is_target\").agg(first(\"ticket_medio\")).withColumn(\n",
        "    \"incremento_percentual\", round(((col(\"target\") - col(\"control\")) / col(\"control\")) * 100, 2)\n",
        ").select(\"incremento_percentual\")"
      ]
    },
    {
      "cell_type": "markdown",
      "metadata": {
        "id": "nrapWsHutaOc"
      },
      "source": [
        "5. Heavy users (usuários que estão no top 20% de pedidos)"
      ]
    },
    {
      "cell_type": "code",
      "execution_count": 12,
      "metadata": {
        "id": "tUxAX8Mqtclu"
      },
      "outputs": [],
      "source": [
        "df_user_freq = df_ab_orders.groupBy(\"customer_id\").agg(count(\"order_id\").alias(\"qtd_pedidos\"))\n",
        "percentil_80 = df_user_freq.approxQuantile(\"qtd_pedidos\", [0.80], 0.01)[0]\n",
        "\n",
        "df_user_freq = df_user_freq.withColumn(\n",
        "    \"heavy_user\", when(col(\"qtd_pedidos\") >= percentil_80, 1).otherwise(0)\n",
        ")\n",
        "\n",
        "df_heavy = df_user_freq.join(df_ab_test, on=\"customer_id\", how=\"inner\")\n",
        "\n",
        "df_heavy_summary = df_heavy.groupBy(\"is_target\").agg(\n",
        "    count(when(col(\"heavy_user\") == 1, True)).alias(\"qtd_heavy_users\"),\n",
        "    count(\"*\").alias(\"total_usuarios\")\n",
        ").withColumn(\n",
        "    \"percentual_heavy_users\", round((col(\"qtd_heavy_users\") / col(\"total_usuarios\")) * 100, 2)\n",
        ").select(\"is_target\", \"percentual_heavy_users\")"
      ]
    },
    {
      "cell_type": "markdown",
      "metadata": {
        "id": "Ql4db6lGte-k"
      },
      "source": [
        "6. Tempo médio de entrega por grupo"
      ]
    },
    {
      "cell_type": "code",
      "execution_count": 13,
      "metadata": {
        "id": "s5Cf5uUmthWI"
      },
      "outputs": [],
      "source": [
        "df_delivery_time = df_ab_orders.groupBy(\"is_target\").agg(\n",
        "    round(avg(\"delivery_time\"), 2).alias(\"tempo_medio_entrega\")\n",
        ")"
      ]
    },
    {
      "cell_type": "markdown",
      "metadata": {
        "id": "s3qfO5GOtttS"
      },
      "source": [
        "7. Total de restaurantes por grupo (com base em pedidos)\n"
      ]
    },
    {
      "cell_type": "code",
      "execution_count": 14,
      "metadata": {
        "id": "y2BHGmjCtwAt"
      },
      "outputs": [],
      "source": [
        "df_qtd_rest = df_ab_orders.groupBy(\"is_target\").agg(\n",
        "    countDistinct(\"merchant_id\").alias(\"qtd_restaurantes\")\n",
        ")"
      ]
    },
    {
      "cell_type": "markdown",
      "metadata": {
        "id": "jnRD_iMitzt8"
      },
      "source": [
        "8. Média de pedidos por restaurante"
      ]
    },
    {
      "cell_type": "code",
      "execution_count": 15,
      "metadata": {
        "id": "HGuhzUilt2b2"
      },
      "outputs": [],
      "source": [
        "df_avg_pedidos_rest = df_ab_orders.groupBy(\"is_target\", \"merchant_id\").agg(\n",
        "    count(\"order_id\").alias(\"qtd_pedidos_rest\")\n",
        ").groupBy(\"is_target\").agg(\n",
        "    round(avg(\"qtd_pedidos_rest\"), 2).alias(\"media_pedidos_por_restaurante\")\n",
        ")"
      ]
    },
    {
      "cell_type": "markdown",
      "metadata": {
        "id": "ZLtKMwchuC6U"
      },
      "source": [
        "10. Juntando todos os KPIs em uma tabela final"
      ]
    },
    {
      "cell_type": "code",
      "execution_count": 28,
      "metadata": {
        "id": "s6hIcsQWuHAh"
      },
      "outputs": [],
      "source": [
        "# Juntando os dataframe\n",
        "df_final = df_metrics \\\n",
        "    .join(df_retencao, on=\"is_target\", how=\"left\") \\\n",
        "    .join(df_heavy_summary, on=\"is_target\", how=\"left\") \\\n",
        "    .join(df_delivery_time, on=\"is_target\", how=\"left\") \\\n",
        "    .join(df_qtd_rest, on=\"is_target\", how=\"left\") \\\n",
        "    .join(df_avg_pedidos_rest, on=\"is_target\", how=\"left\")\n",
        "\n",
        "#df_final.show(truncate=False)"
      ]
    },
    {
      "cell_type": "code",
      "source": [
        "# Convertendo Spark DataFrame para Pandas DataFrame\n",
        "df_final_pd = df_final.toPandas()\n",
        "\n",
        "# Criando novo dataframe\n",
        "df_final_formatado = pd.DataFrame()\n",
        "\n",
        "# Aplicando formatação de dados\n",
        "df_final_formatado[\"is_target\"] = df_final_pd[\"is_target\"]\n",
        "df_final_formatado[\"qtd_usuarios\"] = df_final_pd[\"qtd_usuarios\"].apply(lambda x: f\"{x:,.0f}\".replace(\",\", \".\"))\n",
        "df_final_formatado[\"qtd_pedidos\"] = df_final_pd[\"qtd_pedidos\"].apply(lambda x: f\"{x:,.0f}\".replace(\",\", \".\"))\n",
        "df_final_formatado[\"valor_total_pedidos\"] = df_final_pd[\"valor_total_pedidos\"].apply(lambda x: f\"R$ {x:,.2f}\".replace(\",\", \"X\").replace(\".\", \",\").replace(\"X\", \".\"))\n",
        "df_final_formatado[\"ticket_medio\"] = df_final_pd[\"ticket_medio\"].apply(lambda x: f\"R$ {x:,.2f}\".replace(\",\", \"X\").replace(\".\", \",\").replace(\"X\", \".\"))\n",
        "df_final_formatado[\"pedidos_por_usuario\"] = df_final_pd[\"pedidos_por_usuario\"].apply(lambda x: f\"{x:.1f}\".replace(\".\", \",\"))\n",
        "df_final_formatado[\"taxa_retencao\"] = df_final_pd[\"taxa_retencao\"].apply(lambda x: f\"{x:.2f}%\".replace(\".\", \",\"))\n",
        "df_final_formatado[\"percentual_heavy_users\"] = df_final_pd[\"percentual_heavy_users\"].apply(lambda x: f\"{x:.2f}%\".replace(\".\", \",\"))\n",
        "df_final_formatado[\"tempo_medio_entrega\"] = df_final_pd[\"tempo_medio_entrega\"].apply(lambda x: f\"{x:.2f}\".replace(\".\", \",\"))\n",
        "df_final_formatado[\"qtd_restaurantes\"] = df_final_pd[\"qtd_restaurantes\"].apply(lambda x: f\"{x:,.0f}\".replace(\",\", \".\"))\n",
        "df_final_formatado[\"media_pedidos_por_restaurante\"] = df_final_pd[\"media_pedidos_por_restaurante\"].apply(lambda x: f\"{x:.2f}\".replace(\".\", \",\"))\n",
        "\n",
        "\n",
        "# Exibindo resultado\n",
        "print(df_final_formatado.to_string(index=False))"
      ],
      "metadata": {
        "id": "-1R3xhhx9J5G"
      },
      "execution_count": null,
      "outputs": []
    },
    {
      "cell_type": "markdown",
      "source": [
        "#### **Análise Comparativa — Grupo Controle vs Grupo Target**"
      ],
      "metadata": {
        "id": "zAOpZVGF_qy7"
      }
    },
    {
      "cell_type": "markdown",
      "source": [
        "| Indicador                    | Controle  | Target    | Diferença | Interpretação                               |\n",
        "| ---------------------------- | --------- | --------- | --------- | ------------------------------------------- |\n",
        "| **Usuários (qtd\\_usuarios)** | 360.542   | 445.924   | +85.382   | Target teve uma base maior.                 |\n",
        "| **Pedidos (qtd\\_pedidos)**   | 1.525.576 | 2.136.745 | +611.169  | Target pediu mais.                          |\n",
        "| **Ticket médio**             | R\\$ 47,90 | R\\$ 47,74 | -R\\$ 0,16 | Leve queda no valor por pedido no target.   |\n",
        "| **Pedidos por usuário**      | 4,23      | 4,79      | +13,2%    | Mais engajamento no target.                 |\n",
        "| **Retenção de usuários (%)** | 74,7%     | 79,51%    | +4,8 p.p. | A campanha reteve melhor os usuários.       |\n",
        "| **Heavy Users (%)**          | 21,53%    | 25,87%    | +4,3 p.p. | Mais usuários muito ativos no target.       |\n",
        "| **Tempo médio de entrega**   | 22,63 min | 22,66 min | ≈         | Não há impacto logístico relevante.         |\n",
        "| **Pedidos por restaurante**  | 212,0     | 295,66    | +39,4%    | Restaurantes no grupo target venderam mais. |\n"
      ],
      "metadata": {
        "id": "o2Ua9TzzB6Zk"
      }
    },
    {
      "cell_type": "markdown",
      "source": [
        "**Análise de Engajamento e Produto:**\n",
        "\n",
        "Observando as métricas de comportamento, a campanha foi um sucesso absoluto.\n",
        "\n",
        "\n",
        "*   Frequência de Pedidos: Os usuários do grupo target fizeram, em média, 4,79 pedidos, um aumento de 13,2% em relação aos 4,23 do grupo control. Isso mostra que o incentivo funcionou para criar o hábito de pedir mais vezes.\n",
        "\n",
        "*   Taxa de Retenção: A retenção do grupo target foi de 79,51%, quase 5 pontos percentuais maior que a do grupo control. Este é um ganho massivo e o indicador mais forte de que a campanha gerou lealdade.\n",
        "\n",
        "\n",
        "*   \"Heavy Users\": O percentual de usuários de alta frequência subiu de 21,53% para 25,87%. A campanha foi eficaz em converter usuários e engajar a base.\n",
        "\n",
        "\n",
        "Conclusão de Produto: Sem dúvida, a campanha foi um sucesso em engajar a base de usuários, aumentar a frequência e reter mais clientes."
      ],
      "metadata": {
        "id": "cJ7kuYtFCThI"
      }
    },
    {
      "cell_type": "markdown",
      "source": [
        "### b) Análise da Viabilidade Financeira"
      ],
      "metadata": {
        "id": "rCCOy4t_A9yj"
      }
    },
    {
      "cell_type": "markdown",
      "source": [
        "**Premissas Adotadas:**\n",
        "\n",
        "*   Custo da Campanha: R$ 10,00 por cada pedido realizado no grupo target.\n",
        "*   Take Rate (Receita do iFood): 20% sobre o valor total dos pedidos (GMV).\n"
      ],
      "metadata": {
        "id": "dEJUbXyYFek8"
      }
    },
    {
      "cell_type": "markdown",
      "source": [
        "**1 - Custo da Campanha**"
      ],
      "metadata": {
        "id": "Wnbm-Fk-Fynu"
      }
    },
    {
      "cell_type": "code",
      "source": [
        "from pyspark.sql.functions import col\n",
        "\n",
        "# --- Premissas ---\n",
        "CUSTO_CUPOM_POR_PEDIDO = 10.00\n",
        "\n",
        "# --- Cálculo Direto ---\n",
        "custo_total_campanha = df_ab_orders.filter(col(\"is_target\") == \"target\").count() * CUSTO_CUPOM_POR_PEDIDO\n",
        "\n",
        "# --- Resultado ---\n",
        "print(f\"Custo Total da Campanha: R$ {custo_total_campanha:,.2f}\")"
      ],
      "metadata": {
        "colab": {
          "base_uri": "https://localhost:8080/"
        },
        "id": "mW4_1TZfFyFD",
        "outputId": "0e944989-7dd0-4901-f307-5f9a7db9989e"
      },
      "execution_count": 22,
      "outputs": [
        {
          "output_type": "stream",
          "name": "stdout",
          "text": [
            "Custo Total da Campanha: R$ 21,367,450.00\n"
          ]
        }
      ]
    },
    {
      "cell_type": "markdown",
      "source": [
        "**2 - Receita Incremental**"
      ],
      "metadata": {
        "id": "ZAPIjd8nGGdP"
      }
    },
    {
      "cell_type": "code",
      "source": [
        "from pyspark.sql.functions import col, sum, countDistinct\n",
        "\n",
        "# --- Premissas ---\n",
        "# Comissão estimada do Ifood.\n",
        "TAKE_RATE = 0.20\n",
        "\n",
        "# --- 1. Agregação ---\n",
        "# Agrupamos os dados para obter os totais de usuários e GMV para cada grupo.\n",
        "summary_df = df_ab_orders.groupBy(\"is_target\").agg(\n",
        "    countDistinct(\"customer_id\").alias(\"qtd_usuarios\"),\n",
        "    sum(\"order_total_amount\").alias(\"gmv_total\")\n",
        ")\n",
        "\n",
        "# --- 2. Extração dos Dados Agregados ---\n",
        "metrics = {row[\"is_target\"]: row for row in summary_df.collect()}\n",
        "\n",
        "control_metrics = metrics.get(\"control\")\n",
        "target_metrics = metrics.get(\"target\")\n",
        "\n",
        "# --- 3. Cálculo Financeiro ---\n",
        "# Verificamos se ambos os grupos existem antes de calcular\n",
        "if control_metrics and target_metrics:\n",
        "    # Comportamento base: Qual foi o GMV por usuário no grupo de controle?\n",
        "    gmv_por_usuario_control = control_metrics[\"gmv_total\"] / control_metrics[\"qtd_usuarios\"]\n",
        "\n",
        "    # Projeção: Qual seria o GMV do grupo Target se eles fossem como o Controle?\n",
        "    gmv_baseline_target = gmv_por_usuario_control * target_metrics[\"qtd_usuarios\"]\n",
        "\n",
        "    # Receita projetada (Baseline) vs. Receita Real\n",
        "    receita_baseline_target = gmv_baseline_target * TAKE_RATE\n",
        "    receita_real_target = target_metrics[\"gmv_total\"] * TAKE_RATE\n",
        "\n",
        "    # A Receita Incremental é a diferença entre o que aconteceu e o que teria acontecido.\n",
        "    receita_incremental = receita_real_target - receita_baseline_target\n",
        "else:\n",
        "    receita_incremental = 0  # Define como 0 se um dos grupos não existir\n",
        "\n",
        "# --- 4. Resultado ---\n",
        "print(\"CÁLCULO DA RECEITA INCREMENTAL DA CAMPANHA\")\n",
        "print(f\"Take Rate (premissa): {TAKE_RATE:.0%}\")\n",
        "print(\"---------------------------------------------\")\n",
        "print(f\"Receita Incremental Gerada: R$ {receita_incremental:,.2f}\")"
      ],
      "metadata": {
        "colab": {
          "base_uri": "https://localhost:8080/"
        },
        "id": "UHC4G2ZsJjer",
        "outputId": "0e714e74-3f39-4a9b-f5be-78e14c3e5a5a"
      },
      "execution_count": 23,
      "outputs": [
        {
          "output_type": "stream",
          "name": "stdout",
          "text": [
            "CÁLCULO DA RECEITA INCREMENTAL DA CAMPANHA\n",
            "Take Rate (premissa): 20%\n",
            "---------------------------------------------\n",
            "Receita Incremental Gerada: R$ 2,326,226.29\n"
          ]
        }
      ]
    },
    {
      "cell_type": "markdown",
      "source": [
        "**3 - Resultado Líquido**"
      ],
      "metadata": {
        "id": "ZNuM4HLLGKcU"
      }
    },
    {
      "cell_type": "code",
      "source": [
        "from pyspark.sql.functions import col, sum, count, countDistinct\n",
        "\n",
        "# --- 1. Premissas da Análise ---\n",
        "TAKE_RATE = 0.20  # 20% de comissão para o iFood\n",
        "CUSTO_CUPOM_POR_PEDIDO = 10.00  # R$ 10,00 por pedido no grupo Target\n",
        "\n",
        "# --- 2. Agregação ---\n",
        "summary_df = df_ab_orders.groupBy(\"is_target\").agg(\n",
        "    countDistinct(\"customer_id\").alias(\"qtd_usuarios\"),\n",
        "    count(\"order_id\").alias(\"qtd_pedidos\"),\n",
        "    sum(\"order_total_amount\").alias(\"gmv_total\")\n",
        ")\n",
        "\n",
        "# --- 3. Extração dos Dados para o Modelo Financeiro ---\n",
        "metrics = {row[\"is_target\"]: row for row in summary_df.collect()}\n",
        "\n",
        "control_metrics = metrics.get(\"control\")\n",
        "target_metrics = metrics.get(\"target\")\n",
        "\n",
        "# --- 4. Cálculo dos Componentes e do Resultado Líquido ---\n",
        "receita_incremental = 0\n",
        "custo_total_campanha = 0\n",
        "\n",
        "if control_metrics and target_metrics:\n",
        "    # --- Cálculo do Custo da Campanha ---\n",
        "    custo_total_campanha = target_metrics[\"qtd_pedidos\"] * CUSTO_CUPOM_POR_PEDIDO\n",
        "\n",
        "    # --- Cálculo da Receita Incremental ---\n",
        "    gmv_por_usuario_control = control_metrics[\"gmv_total\"] / control_metrics[\"qtd_usuarios\"]\n",
        "    gmv_baseline_target = gmv_por_usuario_control * target_metrics[\"qtd_usuarios\"]\n",
        "    receita_baseline_target = gmv_baseline_target * TAKE_RATE\n",
        "    receita_real_target = target_metrics[\"gmv_total\"] * TAKE_RATE\n",
        "    receita_incremental = receita_real_target - receita_baseline_target\n",
        "\n",
        "# --- Cálculo Final ---\n",
        "resultado_liquido = receita_incremental - custo_total_campanha\n",
        "\n",
        "\n",
        "# --- 5. Exibição do Resultado ---\n",
        "print(\"COMPONENTES DA ANÁLISE:\")\n",
        "print(f\"  (+) Receita Incremental Gerada: R$ {receita_incremental:,.2f}\")\n",
        "print(f\"  (-) Custo Total da Campanha:    R$ {custo_total_campanha:,.2f}\")\n",
        "print(\"--------------------------------------------------\")\n",
        "print(f\"  📊 Resultado Líquido Final:    R$ {resultado_liquido:,.2f}\")"
      ],
      "metadata": {
        "colab": {
          "base_uri": "https://localhost:8080/"
        },
        "id": "oUaML8npGMQT",
        "outputId": "f8d10d43-17cd-4a49-99dc-80d9ac5e387c"
      },
      "execution_count": 24,
      "outputs": [
        {
          "output_type": "stream",
          "name": "stdout",
          "text": [
            "COMPONENTES DA ANÁLISE:\n",
            "  (+) Receita Incremental Gerada: R$ 2,326,226.29\n",
            "  (-) Custo Total da Campanha:    R$ 21,367,450.00\n",
            "--------------------------------------------------\n",
            "  📊 Resultado Líquido Final:    R$ -19,041,223.71\n"
          ]
        }
      ]
    },
    {
      "cell_type": "markdown",
      "source": [
        "**4 - ROI: Retorno sobre Investimento**"
      ],
      "metadata": {
        "id": "AM9TlMQpGN4v"
      }
    },
    {
      "cell_type": "code",
      "source": [
        "from pyspark.sql.functions import col, sum, count, countDistinct\n",
        "\n",
        "# --- 1. Premissas da Análise ---\n",
        "TAKE_RATE = 0.20  # 20% de comissão para o iFood\n",
        "CUSTO_CUPOM_POR_PEDIDO = 10.00  # R$ 10,00 por pedido no grupo Target\n",
        "\n",
        "# --- 2. Agregação ---\n",
        "summary_df = df_ab_orders.groupBy(\"is_target\").agg(\n",
        "    countDistinct(\"customer_id\").alias(\"qtd_usuarios\"),\n",
        "    count(\"order_id\").alias(\"qtd_pedidos\"),\n",
        "    sum(\"order_total_amount\").alias(\"gmv_total\")\n",
        ")\n",
        "\n",
        "# --- 3. Extração dos Dados para o Modelo Financeiro ---\n",
        "metrics = {row[\"is_target\"]: row for row in summary_df.collect()}\n",
        "\n",
        "control_metrics = metrics.get(\"control\")\n",
        "target_metrics = metrics.get(\"target\")\n",
        "\n",
        "# --- 4. Cálculo dos Componentes Financeiros ---\n",
        "\n",
        "receita_incremental = 0\n",
        "custo_total_campanha = 0\n",
        "resultado_liquido = 0\n",
        "roi = 0\n",
        "\n",
        "if control_metrics and target_metrics:\n",
        "    # --- Custo da Campanha ---\n",
        "    custo_total_campanha = target_metrics[\"qtd_pedidos\"] * CUSTO_CUPOM_POR_PEDIDO\n",
        "\n",
        "    # --- Receita Incremental ---\n",
        "    gmv_por_usuario_control = control_metrics[\"gmv_total\"] / control_metrics[\"qtd_usuarios\"]\n",
        "    gmv_baseline_target = gmv_por_usuario_control * target_metrics[\"qtd_usuarios\"]\n",
        "    receita_baseline_target = gmv_baseline_target * TAKE_RATE\n",
        "    receita_real_target = target_metrics[\"gmv_total\"] * TAKE_RATE\n",
        "    receita_incremental = receita_real_target - receita_baseline_target\n",
        "\n",
        "    # --- Resultado Líquido ---\n",
        "    resultado_liquido = receita_incremental - custo_total_campanha\n",
        "\n",
        "    # --- Cálculo Final do ROI ---\n",
        "    # Verificamos se o custo é maior que zero para evitar divisão por zero\n",
        "    if custo_total_campanha > 0:\n",
        "        roi = resultado_liquido / custo_total_campanha\n",
        "\n",
        "# --- 5. Exibição do Relatório Financeiro Completo ---\n",
        "print(f\"  📈 ROI (Retorno sobre Investimento): {roi:.2%}\")"
      ],
      "metadata": {
        "colab": {
          "base_uri": "https://localhost:8080/"
        },
        "id": "2ytpm7NrGQL7",
        "outputId": "e6676df0-b936-461c-8a24-e8f77cd6f1c4"
      },
      "execution_count": 25,
      "outputs": [
        {
          "output_type": "stream",
          "name": "stdout",
          "text": [
            "  📈 ROI (Retorno sobre Investimento): -89.11%\n"
          ]
        }
      ]
    },
    {
      "cell_type": "markdown",
      "source": [
        "**Conclusão: A Campanha Teve Retorno?**\n",
        "\n",
        "\n",
        "Não. A campanha **não teve retorno financeiro positivo.**\n",
        "\n",
        "**Apesar de gerar:**\n",
        "\n",
        "*   Maior engajamento dos usuários (mais pedidos por usuário)\n",
        "*   Maior taxa de retenção\n",
        "*   Mais heavy users\n",
        "*   Aumento nas vendas dos restaurantes\n",
        "\n",
        "\n",
        "\n",
        "\n",
        "O custo da campanha (desconto) foi quase 10x maior que a receita adicional gerada, gerando **prejuízo** de mais de R$ 19 milhões e um ROI negativo de -89,11%.\n",
        "\n",
        "\n",
        "💡 Insight:\n",
        "\n",
        "*   A estratégia melhorou comportamento e engajamento, mas não foi eficiente financeiramente.\n",
        "*   Se o cupom fosse menor (ex: R$5) ou vinculado a pedidos acima de um valor mínimo (ex: R\\$ 60.00), poderia manter os efeitos positivos com menor custo.\n",
        "\n",
        "\n",
        "\n"
      ],
      "metadata": {
        "id": "__kH4U0PGjV7"
      }
    },
    {
      "cell_type": "markdown",
      "source": [
        "### c) Recomendações de oportunidades de melhoria nessa ação e nova proposta de teste A/B para validar essas hipóte-ses."
      ],
      "metadata": {
        "id": "79GNkhelLuJP"
      }
    },
    {
      "cell_type": "markdown",
      "source": [
        "### **Resumo da campanha atual**\n",
        "\n",
        "A campanha com cupom aumentou o engajamento:\n",
        "\n",
        "* Retenção subiu para **79,5%** (vs 74,7%)\n",
        "* Mais **pedidos por usuário** (4,79 vs 4,23)\n",
        "* Mais **heavy users** (25,8% vs 21,5%)\n",
        "\n",
        "❌ **Problema**: o custo foi alto demais\n",
        "**Resultado líquido**: –R\\$ 19 milhões\n",
        "📉 **ROI**: –89.11%\n",
        "\n",
        "---\n",
        "\n",
        "##  **Oportunidades de melhoria**\n",
        "\n",
        "1. **Focar em usuários inativos ou novos**, não em todos.\n",
        "2. **Reduzir o valor do cupom** ou exigir **valor mínimo de compra**.\n",
        "3. **Estimular o aumento do ticket médio** com frete grátis.\n",
        "\n",
        "---\n",
        "\n",
        "##  **Nova proposta de teste A/B**\n",
        "\n",
        "Analisei 3 variáveis que poderiam ser melhoradas, e , por esse motivo decidi inserir 3 propostas de teste A/B com essas 3 variáveis diferentes:\n",
        "\n",
        "\n",
        "| Grupo    | Estratégia                          |\n",
        "| -------- | ----------------------------------- |\n",
        "| Controle | Sem cupom                           |\n",
        "| Teste A  | R\\$10 só para usuários inativos  |\n",
        "\n",
        "---\n",
        "\n",
        "| Grupo    | Estratégia                          |\n",
        "| -------- | ----------------------------------- |\n",
        "| Controle | Sem cupom                           |\n",
        "| Teste B  | R\\$5 de desconto em pedidos > R\\$40     |\n",
        "\n",
        "\n",
        "---\n",
        "\n",
        "\n",
        "| Grupo    | Estratégia                          |\n",
        "| -------- | ----------------------------------- |\n",
        "| Controle | Sem cupom                           |\n",
        "| Teste C  | Frete Grátis para pedidos acima de R$ 65,00         |\n",
        "\n",
        "---\n",
        "\n",
        "**Métricas para analisar após teste**: Receita incremental, Resultado Líquido, ROI, Retenção, Reativação, Ticket médio.\n"
      ],
      "metadata": {
        "id": "qQQhhWWbNMx1"
      }
    },
    {
      "cell_type": "markdown",
      "metadata": {
        "id": "TCqMktILMA83"
      },
      "source": [
        "## O Desafio – Análise por Segmentação (ETAPA 2)"
      ]
    },
    {
      "cell_type": "code",
      "source": [
        "from pyspark.sql import SparkSession\n",
        "from pyspark.sql.functions import col, count, sum, avg, when, percent_rank, round as spark_round\n",
        "from pyspark.sql.window import Window\n",
        "\n",
        "spark = SparkSession.builder.appName(\"SegmentABTest_NoDate\").getOrCreate()\n",
        "\n",
        "# 2. CRIAÇÃO DA BASE DE ANÁLISE POR USUÁRIO\n",
        "\n",
        "# Agregamos os dados para ter uma visão única por cliente.\n",
        "print(\"--- Passo 1: Criando a base de análise por usuário... ---\")\n",
        "df_user_features = df_ab_orders.groupBy(\"customer_id\", \"is_target\").agg(\n",
        "    count(\"order_id\").alias(\"total_pedidos\"),\n",
        "    avg(\"order_total_amount\").alias(\"ticket_medio_usuario\"),\n",
        "    sum(\"order_total_amount\").alias(\"gasto_total_usuario\")\n",
        ")\n",
        "\n",
        "# 3. APLICAÇÃO DOS CRITÉRIOS DE SEGMENTAÇÃO\n",
        "# Adicionamos as \"etiquetas\" de segmento a cada usuário.\n",
        "print(\"--- Passo 2: Aplicando os critérios de segmentação... ---\")\n",
        "\n",
        "# --- Segmentação por Frequência ---\n",
        "window_freq = Window.partitionBy(\"is_target\").orderBy(\"total_pedidos\")\n",
        "df_user_features = df_user_features.withColumn(\"rank_freq\", percent_rank().over(window_freq))\n",
        "df_user_features = df_user_features.withColumn(\"segmento_frequencia\",\n",
        "    when(col(\"rank_freq\") >= 0.8, \"1. Heavy User (Top 20%)\")\n",
        "    .when((col(\"rank_freq\") >= 0.3) & (col(\"rank_freq\") < 0.8), \"2. Casual (30-80%)\")\n",
        "    .otherwise(\"3. Leve (Bottom 30%)\")\n",
        ")\n",
        "\n",
        "# --- Segmentação por Valor (Ticket Médio) ---\n",
        "window_valor = Window.partitionBy(\"is_target\").orderBy(\"ticket_medio_usuario\")\n",
        "df_user_features = df_user_features.withColumn(\"rank_valor\", percent_rank().over(window_valor))\n",
        "df_user_features = df_user_features.withColumn(\"segmento_valor\",\n",
        "    when(col(\"rank_valor\") >= 0.5, \"1. Alto Valor\")\n",
        "    .otherwise(\"2. Baixo Valor\")\n",
        ")\n",
        "\n",
        "\n",
        "# 4. ANÁLISE CRUZADA FINAL: KPIs POR SEGMENTO\n",
        "# Agrupamos por grupo de teste E por segmento para gerar os relatórios.\n",
        "print(\"--- Passo 3: Gerando as análises cruzadas por segmento... ---\")\n",
        "\n",
        "\n",
        "print(\"\\n\\n\" + \"=\"*70)\n",
        "print(\"          (c) ANÁLISE DE RESULTADOS POR SEGMENTO DE FREQUÊNCIA\")\n",
        "print(\"=\"*70)\n",
        "df_analise_frequencia = df_user_features.groupBy(\"is_target\", \"segmento_frequencia\").agg(\n",
        "    count(\"customer_id\").alias(\"qtd_usuarios\"),\n",
        "    spark_round(avg(\"total_pedidos\"), 2).alias(\"pedidos_por_usuario\"),\n",
        "    spark_round(avg(\"ticket_medio_usuario\"), 2).alias(\"ticket_medio_segmento\")\n",
        ").orderBy(\"segmento_frequencia\", \"is_target\")\n",
        "df_analise_frequencia.show(truncate=False)\n",
        "\n",
        "\n",
        "print(\"\\n\" + \"=\"*70)\n",
        "print(\"          (c) ANÁLISE DE RESULTADOS POR SEGMENTO DE VALOR (TICKET MÉDIO)\")\n",
        "print(\"=\"*70)\n",
        "df_analise_valor = df_user_features.groupBy(\"is_target\", \"segmento_valor\").agg(\n",
        "    count(\"customer_id\").alias(\"qtd_usuarios\"),\n",
        "    spark_round(avg(\"total_pedidos\"), 2).alias(\"pedidos_por_usuario\"),\n",
        "    spark_round(avg(\"ticket_medio_usuario\"), 2).alias(\"ticket_medio_segmento\")\n",
        ").orderBy(\"segmento_valor\", \"is_target\")\n",
        "df_analise_valor.show(truncate=False)\n"
      ],
      "metadata": {
        "colab": {
          "base_uri": "https://localhost:8080/"
        },
        "id": "N-yv3OLuPXB9",
        "outputId": "4faea300-6816-45c4-ea0f-ec22421996c7"
      },
      "execution_count": 27,
      "outputs": [
        {
          "output_type": "stream",
          "name": "stdout",
          "text": [
            "--- Passo 1: Criando a base de análise por usuário... ---\n",
            "--- Passo 2: Aplicando os critérios de segmentação... ---\n",
            "--- Passo 3: Gerando as análises cruzadas por segmento... ---\n",
            "\n",
            "\n",
            "======================================================================\n",
            "          (c) ANÁLISE DE RESULTADOS POR SEGMENTO DE FREQUÊNCIA\n",
            "======================================================================\n",
            "+---------+-----------------------+------------+-------------------+---------------------+\n",
            "|is_target|segmento_frequencia    |qtd_usuarios|pedidos_por_usuario|ticket_medio_segmento|\n",
            "+---------+-----------------------+------------+-------------------+---------------------+\n",
            "|control  |1. Heavy User (Top 20%)|61450       |13.25              |47.92                |\n",
            "|target   |1. Heavy User (Top 20%)|77251       |14.41              |47.82                |\n",
            "|control  |2. Casual (30-80%)     |92523       |4.21               |48.59                |\n",
            "|target   |2. Casual (30-80%)     |153193      |4.46               |47.96                |\n",
            "|control  |3. Leve (Bottom 30%)   |206569      |1.56               |47.78                |\n",
            "|target   |3. Leve (Bottom 30%)   |215480      |1.58               |47.75                |\n",
            "+---------+-----------------------+------------+-------------------+---------------------+\n",
            "\n",
            "\n",
            "======================================================================\n",
            "          (c) ANÁLISE DE RESULTADOS POR SEGMENTO DE VALOR (TICKET MÉDIO)\n",
            "======================================================================\n",
            "+---------+--------------+------------+-------------------+---------------------+\n",
            "|is_target|segmento_valor|qtd_usuarios|pedidos_por_usuario|ticket_medio_segmento|\n",
            "+---------+--------------+------------+-------------------+---------------------+\n",
            "|control  |1. Alto Valor |180270      |4.38               |67.62                |\n",
            "|target   |1. Alto Valor |221975      |4.95               |67.09                |\n",
            "|control  |2. Baixo Valor|180272      |4.08               |28.41                |\n",
            "|target   |2. Baixo Valor|223949      |4.63               |28.75                |\n",
            "+---------+--------------+------------+-------------------+---------------------+\n",
            "\n"
          ]
        }
      ]
    },
    {
      "cell_type": "markdown",
      "source": [
        "### **Análise Estratégica do Teste A/B por Segmentos de Usuário**\n",
        "\n",
        "A análise inicial do Teste A/B nos mostrou que apesar do resultado financeiro da campanha ser péssimo, foi um sucesso em aumentar a frequência de pedidos e a retenção de clientes. No entanto, esse resultado é uma média geral. A segmentação nos permite aprofundar a análise para entender *quais perfis de clientes* foram mais impactados e *por que*, transformando dados em inteligência para ações futuras mais eficazes e personalizadas.\n",
        "\n",
        "---"
      ],
      "metadata": {
        "id": "DiRMtcmDWn1X"
      }
    },
    {
      "cell_type": "markdown",
      "source": [
        "### **a) Definição das Segmentações Propostas**\n",
        "\n",
        "Para analisar o impacto da campanha de cupons, que é um incentivo de frequência, definimos duas segmentações principais baseadas no comportamento de compra do usuário:\n",
        "\n",
        "1.  **Segmentação por Frequência de Pedidos:** Agrupa os usuários com base no seu nível de engajamento (quantas vezes eles pedem).\n",
        "2.  **Segmentação por Perfil de Gasto (Ticket Médio):** Agrupa os usuários com base no valor médio que costumam gastar em cada pedido.\n",
        "\n",
        "---"
      ],
      "metadata": {
        "id": "Bdv_bAEPW8SY"
      }
    },
    {
      "cell_type": "markdown",
      "source": [
        "### **b) Critérios de Criação e Racional de Cada Segmento**\n",
        "\n",
        "Aqui detalhamos como cada segmento é construído e qual pergunta de negócio ele visa responder.\n",
        "\n",
        "#### **1. Segmentação por Frequência de Pedidos**\n",
        "\n",
        "* **Critérios de Criação:**\n",
        "    * Calculamos o número total de pedidos de cada usuário.\n",
        "    * Utilizamos **percentis** para classificar a base de clientes em três grupos distintos:\n",
        "        * **Heavy Users (Top 20%):** Seus clientes mais leais e frequentes.\n",
        "        * **Usuários Casuais (Intermediários 50%):** Clientes que utilizam o serviço com regularidade.\n",
        "        * **Usuários Leves (Bottom 30%):** Clientes novos ou que pedem muito esporadicamente.\n",
        "* **Racional Estratégico:**\n",
        "    * A campanha claramente aumentou a frequência geral. O racional desta segmentação é descobrir a **origem desse crescimento**. Queremos responder: **\"A campanha foi mais eficaz para criar novos hábitos em clientes pouco engajados ou para acelerar ainda mais os clientes que já eram leais?\"**. A resposta nos diz se a campanha é uma ferramenta de **ativação** ou de **fidelização acelerada**, o que impacta diretamente o ROI de cada grupo.\n",
        "\n",
        "#### **2. Segmentação por Perfil de Gasto (Ticket Médio)**\n",
        "\n",
        "* **Critérios de Criação:**\n",
        "    * Calculamos o valor do ticket médio de cada usuário.\n",
        "    * Utilizamos a **mediana** como ponto de corte para criar dois grupos:\n",
        "        * **Clientes de Alto Valor:** Usuários que gastam, em média, mais do que a metade da base de clientes.\n",
        "        * **Clientes de Baixo Valor:** Usuários que gastam, em média, menos do que a metade da base.\n",
        "* **Racional Estratégico:**\n",
        "    * Vimos que o ticket médio geral não mudou. O racional aqui é investigar se a campanha teve um apelo diferente para perfis de gasto distintos. A pergunta a ser respondida é: **\"O cupom de frequência atraiu mais os 'caçadores de promoção' (focados em economia) ou também engajou clientes que já possuem um ticket médio mais alto?\"**. Isso nos ajuda a entender a sensibilidade de cada perfil ao incentivo e o impacto na rentabilidade.\n",
        "\n",
        "---"
      ],
      "metadata": {
        "id": "dkeRcVv3XK2t"
      }
    },
    {
      "cell_type": "markdown",
      "source": [
        "### **c) Análise (Hipotética) dos Resultados do Teste por Segmento**\n",
        "\n",
        "Após rodar o código que está logo abaixo, obtemos os dados que estão nas tabelas para cada segmento. Abaixo, apresento a **análise dos insights**.\n",
        "\n",
        "#### **Análise por Segmento de FREQUÊNCIA**\n",
        "\n",
        "| Segmento | Grupo | Pedidos por Usuário (Lift da Campanha) |\n",
        "| :--- | :--- | :--- |\n",
        "| **Heavy User** | Controle | 13.25 |\n",
        "| | Target | 14.41 **(+8.7%)** |\n",
        "| **Usuário Casual** | Controle | 4.21 |\n",
        "| | Target | 4.46 **(+6%)** |\n",
        "| **Usuário Leve** | Controle | 1.56 |\n",
        "| | Target | 1.58 **(+1.3%)** |\n",
        "\n",
        "* **Insight:** O maior efeito (+8.7%) foi sobre os **Usuários Heavy User**, seguido pelos Casuais. Nos usuário leves, o efeito foi marginal.\n",
        "* **Recomendação Estratégica:** A campanha é uma **ferramenta espetacular de ativação e criação de hábito**. O investimento em cupons se justifica muito mais em clientes de baixa frequência, onde o potencial de mudança de comportamento é maior. Para usuário leves, o custo pode não valer a pena, e outras estratégias de reconhecimento (benefícios não-financeiros, exclusividade) podem ser mais eficazes.\n",
        "\n",
        "#### **Análise por Segmento de GASTO (Ticket Médio)**\n",
        "\n",
        "| Segmento | Grupo | Pedidos por Usuário |  |\n",
        "| :--- | :--- | :--- | :--- |\n",
        "| **Alto Valor** | Controle | 4.4 |\n",
        "| | Target | 4.9 **(+11%)** |\n",
        "| **Baixo Valor** | Controle | 4.0\n",
        "| | Target | 4.6 **(+15%)** |\n",
        "\n",
        "* **Insight:** O incentivo foi mais atraente para o segmento de **Baixo Valor**, que mostrou um lift maior na frequência de pedidos. No entanto, é exatamente nesse grupo que a rentabilidade é pior, pois o valor fixo do cupom representa uma porcentagem muito maior do valor do pedido, tornando o prejuízo por pedido maior.\n",
        "* **Recomendação Estratégica:** O cupom de valor fixo não é eficaz para engajar o público de \"Baixo Valor\" de forma rentável. Para este segmento, seria mais inteligente testar outros tipos de incentivos, como **\"Frete Grátis acima de R\\$X\"** ou **\"15% de desconto em pedidos acima de R\\$Y\"**, que incentivam o aumento do ticket médio e se alinham melhor ao seu perfil de gasto.\n",
        "\n",
        "---"
      ],
      "metadata": {
        "id": "qVDh7H1wXXup"
      }
    },
    {
      "cell_type": "markdown",
      "source": [
        "### **Conclusão Final:**\n",
        "\n",
        "Os resultados mostram que tratar todos os clientes do mesmo jeito não funciona. Ao analisar por perfil, vimos que faz muito mais sentido trocar a campanha única por várias ações personalizadas. Isso ajuda a investir melhor e a crescer de forma mais inteligente e com mais lucro."
      ],
      "metadata": {
        "id": "DezgBm5vXmEj"
      }
    },
    {
      "cell_type": "markdown",
      "metadata": {
        "id": "tZiwHRYuMdyl"
      },
      "source": [
        "## O Desafio – Próximos Passos Ifood (ETAPA 3)"
      ]
    },
    {
      "cell_type": "markdown",
      "source": [
        "\n",
        "---\n",
        "\n",
        "### **3. Próximos Passos e Recomendações Estratégicas**\n",
        "\n",
        "\n",
        "#### **Resumo Executivo | Data Analysis - iFood**\n",
        "\n",
        "A Nossa análise aprofundada da campanha de cupons revelou uma dualidade crítica: enquanto a iniciativa foi um sucesso em engajar e reter nossa base de clientes já ativa, ela se mostrou financeiramente insustentável.\n",
        "\n",
        "O problema foi usar a mesma estratégia para todo mundo, sem considerar as diferenças entre os públicos. Por isso, sugerimos mudar essa abordagem: em vez de uma solução única, usar estratégias diferentes para cada segmento. As recomendações abaixo visam otimizar o investimento, focar em ativação real e transformar a alavanca de frequência em um motor de crescimento lucrativo, com um impacto financeiro positivo estimado em milhões de reais por ciclo de campanha.\n",
        "\n",
        "\n",
        "---\n",
        "\n",
        "#### **Diagnóstico Estratégico (O que Aprendemos)**\n",
        "\n",
        "1. A campanha funcionou como um acelerador para quem já era fiel, não como uma forma de ativar novos usuários. O incentivo de frequência deu resultado entre quem já tinha o hábito de pedir (os clientes mais ativos e os casuais). Mas para os usuários mais inativos, quase não fez diferença — o comportamento deles praticamente não mudou.\n",
        "2. Usar o mesmo incentivo para todo mundo foi ineficiente e caro. Como a campanha tratou todos os clientes do mesmo jeito, ela acabou gastando muito com quem não respondeu ao cupom, tornando o ROI geral da campanha massivamente negativo (-89% com a premissa de R$10 por cupom).\n",
        "3. Cada tipo de cliente precisa de um tipo de incentivo diferente. O cupom teve um efeito parecido em quem gasta pouco e em quem gasta muito, mas o lucro que cada um gera é bem diferente. Isso mostra que não adianta usar só um tipo de cupom — precisamos de incentivos mais bem pensados, de acordo com o perfil de cada cliente.\n",
        "\n",
        "---\n",
        "\n",
        "### **Plano de Ação: Próximos Passos Recomendados**\n",
        "\n",
        "Propomos uma abordagem em três frentes, agindo de forma imediata para otimizar custos e de forma estratégica para construir um crescimento sustentável.\n",
        "\n",
        "#### **Ação 1: Otimização Imediata - Focar o Investimento Onde Funciona**\n",
        "\n",
        "* Ação: Pausar imediatamente a oferta do cupom de frequência para o segmento de \"Usuários Leves\".\n",
        "* Racional: Nossa análise mostrou que os pedidos aumentaram só 1,3% entre esses clientes. Com um resultado tão pequeno, continuar usando essa campanha para esse público acaba sendo um mau negócio.\n",
        "* **Previsão de Impacto:**\n",
        "    * Financeiro (Economia Direta): Com base nos dados do teste, o segmento de \"Usuários Leves\" no grupo target continha ~215 mil usuários que fizeram ~340 mil pedidos. Com um custo de R$ 10 por cupom, essa ação representa uma **economia imediata de R$ 3,4 milhões de reais** por ciclo de campanha, eliminando um investimento com\n",
        "retorno praticamente nulo.\n",
        "\n",
        "#### **Ação 2: Nova Estratégia de Ativação (Para \"Usuários Leves\")**\n",
        "\n",
        "* Ação: Desenhar e testar uma nova campanha focada exclusivamente na ativação deste segmento, já que o incentivo de frequência não funcionou.\n",
        "\n",
        "* **Proposta de Novo Teste A/B:**\n",
        "    * o\tHipótese: \"Para usuários com poucos pedidos, um incentivo de alto valor na próxima compra é mais eficaz para quebrar a barreira inicial do que um pequeno incentivo de frequência.\"\n",
        "    * **Grupos:**\n",
        "        * **Grupo A (Controle):** Usuários Leves sem nenhuma ação.\n",
        "        * **Grupo B (Variante):** Oferecer **\"Frete Grátis nos próximos 2 pedidos\"**.\n",
        "        * **Grupo C (Variante):** Oferecer \"10% de desconto no próximo pedido acima de R$ 50\".\n",
        "    * **Métrica de Sucesso:** Taxa de conversão para o segundo e terceiro pedido.\n",
        "* **Previsão de Impacto:**\n",
        "    * **Estratégico:** Aumentar a taxa de ativação de \"Usuários Leves\" para \"Usuários Casuais\" em **15%**. Cada usuário ativado representa um aumento significativo no LTV (Valor do Ciclo de Vida do Cliente), transformando um segmento de baixo valor em uma base de clientes recorrentes.\n",
        "\n",
        "#### **Ação 3: Estratégia de Rentabilização (Para \"Heavy Users\" e \"Casuais\")**\n",
        "\n",
        "* **Ação:** Otimizar a campanha para os segmentos que responderam bem, com o objetivo de **torná-la lucrativa**.\n",
        "* **Proposta de Novo Teste A/B:**\n",
        "    * **Hipótese:** \"É possível manter um lift de frequência positivo nestes segmentos com um custo de incentivo menor, alcançando um ROI positivo.\"\n",
        "    * **Grupos:**\n",
        "        * **Grupo A (Controle):** Sem cupom.\n",
        "        * **Grupo B (Variante):** Cupom de **R$ 4,00** para o próximo pedido.\n",
        "        * **Grupo C (Variante):** Sistema de gamificação com acúmulo de pontos que resultem em um benefício equivalente a ~R$ 3,00 por pedido.\n",
        "    * **Métrica de Sucesso:** **Margem de Contribuição por Usuário** e **ROI da Campanha**.\n",
        "* **Previsão de Impacto:**\n",
        "    * **Financeiro:** Transformar uma iniciativa com ROI de -89% em uma com **ROI positivo (meta: +20%)**. Isso não só manteria o engajamento desses clientes valiosos, mas transformaria a campanha de um centro de custo em um **motor de crescimento lucrativo**.\n",
        "\n",
        "---\n",
        "\n",
        "### **Melhorias no Processo de Testes A/B**\n",
        "\n",
        "Para garantir que não repitamos os mesmos erros, proponho duas melhorias em nosso processo de experimentação:\n",
        "\n",
        "1.  **Segmentação como Padrão:** Toda análise de teste A/B deve, por padrão, incluir uma análise segmentada pós-teste para entender os efeitos em diferentes perfis de usuário.\n",
        "2.  **Métricas Financeiras como Critério:** Todo teste deve ter, além de uma métrica de produto primária (ex: frequência), uma **métrica de \"guarda\" financeira** (ex: Margem de Contribuição ou ROI). O sucesso de um teste só será declarado se a métrica de produto subir **sem prejudicar** a métrica financeira.\n",
        "\n",
        "Ao adotar estes próximos passos, o iFood evoluirá de uma estratégia de crescimento baseada em volume para um modelo sofisticado, segmentado e focado em **crescimento rentável e sustentável**."
      ],
      "metadata": {
        "id": "K6GiRyEBhIh5"
      }
    }
  ],
  "metadata": {
    "colab": {
      "provenance": [],
      "toc_visible": true,
      "authorship_tag": "ABX9TyMtG+3IS+1L6GBEFFa4BhQU",
      "include_colab_link": true
    },
    "kernelspec": {
      "display_name": "Python 3",
      "name": "python3"
    },
    "language_info": {
      "name": "python"
    }
  },
  "nbformat": 4,
  "nbformat_minor": 0
}